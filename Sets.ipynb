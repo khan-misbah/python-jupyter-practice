{
 "cells": [
  {
   "cell_type": "code",
   "execution_count": 1,
   "id": "765454b1",
   "metadata": {},
   "outputs": [
    {
     "name": "stdout",
     "output_type": "stream",
     "text": [
      "{'red', 'black', 'blue'}\n"
     ]
    }
   ],
   "source": [
    "thisset = {\"red\",\"blue\",\"black\"}\n",
    "print(thisset)"
   ]
  },
  {
   "cell_type": "code",
   "execution_count": 2,
   "id": "ce4f82aa",
   "metadata": {},
   "outputs": [
    {
     "name": "stdout",
     "output_type": "stream",
     "text": [
      "3\n"
     ]
    }
   ],
   "source": [
    "thiset = {\"banana\",\"mango\" ,\"kiwi\",}\n",
    "print(len(thisset))"
   ]
  },
  {
   "cell_type": "code",
   "execution_count": 4,
   "id": "c76e9a18",
   "metadata": {},
   "outputs": [
    {
     "name": "stdout",
     "output_type": "stream",
     "text": [
      "{'mango', 'kiwi', 'apple'}\n",
      "{1, 2, 3, 4, 5, 6, 8, 9}\n",
      "{False, True}\n"
     ]
    }
   ],
   "source": [
    "A = {\"apple\",\"kiwi\", \"mango\",}\n",
    "B = {2,5,6,3,8,9,1,4}\n",
    "C = {True, False, True}\n",
    "print(A)\n",
    "print(B)\n",
    "print(C)"
   ]
  },
  {
   "cell_type": "code",
   "execution_count": 6,
   "id": "a345700a",
   "metadata": {},
   "outputs": [
    {
     "name": "stdout",
     "output_type": "stream",
     "text": [
      "{False, True, 23, 45, 'nida'}\n",
      "<class 'set'>\n"
     ]
    }
   ],
   "source": [
    "set1 = {True, 23,45, \"nida\",False}\n",
    "print(set1)\n",
    "print(type(set1))"
   ]
  },
  {
   "cell_type": "code",
   "execution_count": 7,
   "id": "29ce6373",
   "metadata": {},
   "outputs": [
    {
     "name": "stdout",
     "output_type": "stream",
     "text": [
      "charry\n",
      "banana\n",
      "kiwi\n",
      "apple\n"
     ]
    }
   ],
   "source": [
    "sets = {\"apple\", \"banana\",\"kiwi\",\"charry\"}\n",
    "for x in sets:\n",
    "    print(x)"
   ]
  },
  {
   "cell_type": "code",
   "execution_count": 8,
   "id": "42b78656",
   "metadata": {},
   "outputs": [
    {
     "name": "stdout",
     "output_type": "stream",
     "text": [
      "True\n"
     ]
    }
   ],
   "source": [
    "sets = {\"apple\", \"banana\",\"kiwi\",\"charry\"}\n",
    "print(\"kiwi\"in sets)"
   ]
  },
  {
   "cell_type": "code",
   "execution_count": 10,
   "id": "ba4cc25c",
   "metadata": {},
   "outputs": [
    {
     "name": "stdout",
     "output_type": "stream",
     "text": [
      "{'kiwi', 'orange', 'banana', 'charry', 'apple'}\n"
     ]
    }
   ],
   "source": [
    "sets = {\"apple\", \"banana\",\"kiwi\",\"charry\"}\n",
    "sets.add(\"orange\")\n",
    "print(sets)"
   ]
  },
  {
   "cell_type": "code",
   "execution_count": 12,
   "id": "90e2e2bb",
   "metadata": {},
   "outputs": [
    {
     "name": "stdout",
     "output_type": "stream",
     "text": [
      "{'white', 'kiwi', 'banana', 'red', 'charry', 'black', 'apple', 'blue'}\n"
     ]
    }
   ],
   "source": [
    "set1 = {\"apple\", \"banana\",\"kiwi\",\"charry\"}\n",
    "set2 = {\"red\", \"black\",\"blue\",\"white\" }\n",
    "set1.update(set2)\n",
    "print(set1)"
   ]
  },
  {
   "cell_type": "code",
   "execution_count": 13,
   "id": "c9057d25",
   "metadata": {},
   "outputs": [
    {
     "name": "stdout",
     "output_type": "stream",
     "text": [
      "{'white', 'kiwi', 'banana', 'red', 'charry', 'apple', 'blue'}\n"
     ]
    }
   ],
   "source": [
    "sets = {\"apple\", \"banana\",\"kiwi\",\"charry\"}\n",
    "lists = [\"red\",\"blue\",\"white\"]\n",
    "sets.update(lists)\n",
    "print(sets)"
   ]
  },
  {
   "cell_type": "code",
   "execution_count": 15,
   "id": "cda5da33",
   "metadata": {},
   "outputs": [
    {
     "name": "stdout",
     "output_type": "stream",
     "text": [
      "{'charry', 'banana', 'apple'}\n"
     ]
    }
   ],
   "source": [
    "sets = {\"apple\", \"banana\",\"kiwi\",\"charry\"}\n",
    "sets.remove(\"kiwi\")\n",
    "print(sets)"
   ]
  },
  {
   "cell_type": "code",
   "execution_count": 16,
   "id": "5c516df9",
   "metadata": {},
   "outputs": [
    {
     "name": "stdout",
     "output_type": "stream",
     "text": [
      "{'charry', 'banana', 'kiwi'}\n"
     ]
    }
   ],
   "source": [
    "sets = {\"apple\", \"banana\",\"kiwi\",\"charry\"}\n",
    "sets.discard(\"apple\")\n",
    "print(sets)"
   ]
  },
  {
   "cell_type": "code",
   "execution_count": 19,
   "id": "2f054f99",
   "metadata": {},
   "outputs": [
    {
     "name": "stdout",
     "output_type": "stream",
     "text": [
      "charry\n",
      "{'banana', 'kiwi', 'apple'}\n"
     ]
    }
   ],
   "source": [
    "sets = {\"apple\", \"banana\",\"kiwi\",\"charry\"}\n",
    "x =sets.pop()\n",
    "print(x)\n",
    "print(sets)"
   ]
  },
  {
   "cell_type": "code",
   "execution_count": 20,
   "id": "1b9cd735",
   "metadata": {},
   "outputs": [
    {
     "name": "stdout",
     "output_type": "stream",
     "text": [
      "set()\n"
     ]
    }
   ],
   "source": [
    "sets = {\"apple\", \"banana\",\"kiwi\",\"charry\"}\n",
    "sets.clear()\n",
    "print(sets)"
   ]
  },
  {
   "cell_type": "code",
   "execution_count": 22,
   "id": "5404f470",
   "metadata": {},
   "outputs": [
    {
     "name": "stdout",
     "output_type": "stream",
     "text": [
      "{1, 3, 6, 7, 45, 'c', 'd', 'a', 'b'}\n"
     ]
    }
   ],
   "source": [
    "set1 = {\"a\",\"b\",\"c\",\"d\"}\n",
    "set2 = {1,3,45,6,7}\n",
    "set1.update(set2)\n",
    "print(set1)"
   ]
  },
  {
   "cell_type": "code",
   "execution_count": 25,
   "id": "e1a5e123",
   "metadata": {},
   "outputs": [
    {
     "name": "stdout",
     "output_type": "stream",
     "text": [
      "{'apple'}\n"
     ]
    }
   ],
   "source": [
    "x = {\"apple\", \"banana\",\"kiwi\",}\n",
    "y = {\"samsung\",\"apple\",\"LG\"}\n",
    "\n",
    "x.intersection_update(y)\n",
    "print(x)\n"
   ]
  },
  {
   "cell_type": "code",
   "execution_count": 26,
   "id": "17a6e5b3",
   "metadata": {},
   "outputs": [
    {
     "name": "stdout",
     "output_type": "stream",
     "text": [
      "{'kiwi', 'banana', 'LG', 'samsung'}\n"
     ]
    }
   ],
   "source": [
    "x = {\"apple\", \"banana\",\"kiwi\",}\n",
    "y = {\"samsung\",\"apple\",\"LG\"}\n",
    "x.symmetric_difference_update(y)\n",
    "print(x)"
   ]
  },
  {
   "cell_type": "code",
   "execution_count": 31,
   "id": "20a07b0e",
   "metadata": {},
   "outputs": [
    {
     "name": "stdout",
     "output_type": "stream",
     "text": [
      "{'kiwi', 'banana', 'LG', 'samsung'}\n"
     ]
    }
   ],
   "source": [
    "x = {\"apple\", \"banana\",\"kiwi\",}\n",
    "y = {\"samsung\",\"apple\",\"LG\"}\n",
    "\n",
    "z = x.symmetric_difference(y)\n",
    "\n",
    "print(z)"
   ]
  },
  {
   "cell_type": "code",
   "execution_count": 6,
   "id": "560951ee",
   "metadata": {},
   "outputs": [
    {
     "name": "stdout",
     "output_type": "stream",
     "text": [
      "{'red', 'black', 'blue', 'green'}\n"
     ]
    }
   ],
   "source": [
    "colors = {\"red\",\"blue\",\"black\"}\n",
    "colors.add(\"green\")\n",
    "print(colors)"
   ]
  },
  {
   "cell_type": "code",
   "execution_count": 7,
   "id": "06cdc4aa",
   "metadata": {},
   "outputs": [
    {
     "name": "stdout",
     "output_type": "stream",
     "text": [
      "red\n",
      "black\n",
      "blue\n"
     ]
    }
   ],
   "source": [
    "colors = {\"red\",\"blue\",\"black\"}\n",
    "for i in colors:\n",
    "    print(i)"
   ]
  },
  {
   "cell_type": "code",
   "execution_count": 20,
   "id": "35e9e073",
   "metadata": {},
   "outputs": [
    {
     "name": "stdout",
     "output_type": "stream",
     "text": [
      "{'black', 'green', 'white', 'red', 'gray'}\n"
     ]
    }
   ],
   "source": [
    "colors = {\"red\",\"blue\",\"black\"}\n",
    "newlist = [\"white\",\"green\",\"gray\"]\n",
    "colors.update(newlist) \n",
    "colors.remove(\"blue\")\n",
    "print(colors)"
   ]
  },
  {
   "cell_type": "code",
   "execution_count": 26,
   "id": "484fdc97",
   "metadata": {},
   "outputs": [
    {
     "name": "stdout",
     "output_type": "stream",
     "text": [
      "red\n",
      "{'black', 'blue'}\n"
     ]
    }
   ],
   "source": [
    "colors = {\"red\",\"blue\",\"black\"}\n",
    "x = colors.pop()\n",
    "print(x)\n",
    "print(colors)"
   ]
  },
  {
   "cell_type": "code",
   "execution_count": 29,
   "id": "8b14044f",
   "metadata": {},
   "outputs": [
    {
     "name": "stdout",
     "output_type": "stream",
     "text": [
      "{'a', 2, 3, 4, 'c', 'd', 'b'}\n"
     ]
    }
   ],
   "source": [
    "seta = {\"a\",\"b\",\"c\",\"d\"}\n",
    "setb = {2,3,4}\n",
    "\n",
    "setc = seta.union(setb)\n",
    "print(setc)"
   ]
  },
  {
   "cell_type": "code",
   "execution_count": 30,
   "id": "c8e00617",
   "metadata": {},
   "outputs": [
    {
     "name": "stdout",
     "output_type": "stream",
     "text": [
      "{'a', 2, 3, 4, 'c', 'd', 'b'}\n"
     ]
    }
   ],
   "source": [
    "set1 = {\"a\",\"b\",\"c\",\"d\"}\n",
    "set2 = {2,3,4}\n",
    "set1.update(set2)\n",
    "print(set1)"
   ]
  },
  {
   "cell_type": "code",
   "execution_count": 33,
   "id": "4604cc28",
   "metadata": {},
   "outputs": [
    {
     "name": "stdout",
     "output_type": "stream",
     "text": [
      "{66, 3}\n"
     ]
    }
   ],
   "source": [
    "\n",
    "a = {32,45,66,3,1}\n",
    "b = {3,9,85,66,7}\n",
    "a.intersection_update(b)\n",
    "print(a)"
   ]
  },
  {
   "cell_type": "code",
   "execution_count": 38,
   "id": "7fdc9768",
   "metadata": {},
   "outputs": [
    {
     "name": "stdout",
     "output_type": "stream",
     "text": [
      "{66}\n"
     ]
    }
   ],
   "source": [
    "a = {32,45,66,3,1}\n",
    "b = {9,9,85,66,7}\n",
    "c = a.intersection(b)\n",
    "print(c)"
   ]
  },
  {
   "cell_type": "code",
   "execution_count": 39,
   "id": "d065dbff",
   "metadata": {},
   "outputs": [
    {
     "name": "stdout",
     "output_type": "stream",
     "text": [
      "{1, 66, 3, 45}\n"
     ]
    }
   ],
   "source": [
    "a = {32,45,66,3,1}\n",
    "a.pop()\n",
    "print(a)\n"
   ]
  },
  {
   "cell_type": "code",
   "execution_count": 3,
   "id": "d3ff2ab3",
   "metadata": {},
   "outputs": [
    {
     "name": "stdout",
     "output_type": "stream",
     "text": [
      "{'aqsa', 'nuzhat', 'misbah'}\n"
     ]
    }
   ],
   "source": [
    "myset = {\"misbah\",\"aqsa\",\"nuzhat\",\"aqsa\"}\n",
    "x = myset.union()\n",
    "print(x)\n"
   ]
  },
  {
   "cell_type": "code",
   "execution_count": 8,
   "id": "2bd08723",
   "metadata": {},
   "outputs": [
    {
     "name": "stdout",
     "output_type": "stream",
     "text": [
      "None\n"
     ]
    }
   ],
   "source": [
    "a = {\"a\",\"b\",\"c\",\"a\"}\n",
    "b = a.symmetric_difference_update(\"a\")\n",
    "print(b)"
   ]
  },
  {
   "cell_type": "code",
   "execution_count": 18,
   "id": "ad107d3c",
   "metadata": {},
   "outputs": [
    {
     "name": "stdout",
     "output_type": "stream",
     "text": [
      "{'misbah', 'nuzhat', 'afreen', 'aqsa'}\n"
     ]
    }
   ],
   "source": [
    "\n",
    "myset.discard(2)\n",
    "print(myset)"
   ]
  },
  {
   "cell_type": "code",
   "execution_count": 12,
   "id": "bfb469da",
   "metadata": {},
   "outputs": [
    {
     "name": "stdout",
     "output_type": "stream",
     "text": [
      "{'nuzhat', 'zikra', 'aqsa'}\n"
     ]
    }
   ],
   "source": [
    "myset = {\"misbah\",\"aqsa\",\"nuzhat\",\"zikra\"}\n",
    "myset.remove(\"misbah\")\n",
    "print(myset)"
   ]
  },
  {
   "cell_type": "code",
   "execution_count": 23,
   "id": "01701ef9",
   "metadata": {},
   "outputs": [],
   "source": [
    "def myfunc():\n",
    "    pass"
   ]
  },
  {
   "cell_type": "code",
   "execution_count": 32,
   "id": "058d47b0",
   "metadata": {},
   "outputs": [
    {
     "name": "stdout",
     "output_type": "stream",
     "text": [
      "{'aqsa'}\n"
     ]
    }
   ],
   "source": [
    "z = {\"misbah\",\"aqsa\",\"zarine\"}\n",
    "y = {\"zikra\",\"aqsa\",\"nuzhat\"}\n",
    "\n",
    "x = z.intersection(y)\n",
    "print(x)\n",
    "\n"
   ]
  },
  {
   "cell_type": "code",
   "execution_count": null,
   "id": "c03c8836",
   "metadata": {},
   "outputs": [],
   "source": []
  }
 ],
 "metadata": {
  "kernelspec": {
   "display_name": "Python 3 (ipykernel)",
   "language": "python",
   "name": "python3"
  },
  "language_info": {
   "codemirror_mode": {
    "name": "ipython",
    "version": 3
   },
   "file_extension": ".py",
   "mimetype": "text/x-python",
   "name": "python",
   "nbconvert_exporter": "python",
   "pygments_lexer": "ipython3",
   "version": "3.10.7"
  }
 },
 "nbformat": 4,
 "nbformat_minor": 5
}
