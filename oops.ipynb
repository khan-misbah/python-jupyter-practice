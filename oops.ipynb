{
 "cells": [
  {
   "cell_type": "code",
   "execution_count": 1,
   "id": "3a02e984",
   "metadata": {},
   "outputs": [],
   "source": [
    "# class like a bule print or code temlate for object creation class is a user difined data structure\n",
    "\n",
    "#object is instance of a class"
   ]
  },
  {
   "cell_type": "code",
   "execution_count": null,
   "id": "fae629c0",
   "metadata": {},
   "outputs": [],
   "source": [
    "#constructors \n",
    "#we use constuctor for creat and intitilize object of a class this method difined the class.  "
   ]
  },
  {
   "cell_type": "code",
   "execution_count": 4,
   "id": "77135ef1",
   "metadata": {},
   "outputs": [
    {
     "name": "stdout",
     "output_type": "stream",
     "text": [
      "car is sorpio and car is black\n",
      "car is vagner and car is blue\n"
     ]
    }
   ],
   "source": [
    "class Car:                         #class always start with capital letter use camelcase\n",
    "                                \n",
    "    def __init__(self,name,color):    #init is a constructors\n",
    "        self.name = name\n",
    "        self.color = color\n",
    "    def show(self):             #this is instance method\n",
    "        print(\"car is\",self.name,\"and car is\",self.color)\n",
    "    \n",
    "obj = Car (\"sorpio\",\"black\")#this instance object  \n",
    "obj.show()\n",
    "obj1 = Car (\"wagnor\",\"blue\")                                 # in one class we can define multiply object\n",
    "obj1.show()"
   ]
  },
  {
   "cell_type": "code",
   "execution_count": 25,
   "id": "8b7c7c35",
   "metadata": {},
   "outputs": [
    {
     "name": "stdout",
     "output_type": "stream",
     "text": [
      "my name is misbah khan my age is 21  and i'm a student\n",
      "my name is khan aqsa my age is 22  and i'm a docter\n"
     ]
    }
   ],
   "source": [
    "class Person:\n",
    "    def __init__(self,name,lname,age):                             #construtor to initialize instance varrible\n",
    "        self.per1 = name                                       \n",
    "        self.per2 = lname                                         #instance variable\n",
    "        self.per3 = age\n",
    "    def myfunc(self):                                             #self refers to the calling object #instance method\n",
    "        print(\"my name is\",self.per1,\"my age is\" ,self.per3,\" and i'm a\" ,self.per2)\n",
    "        \n",
    "obj = Person (\"misbah khan\",\"student\",21)\n",
    "obj.myfunc()\n",
    "obj = Person (\"khan aqsa\", \"docter\",22)\n",
    "obj.myfunc()                  #call instance method"
   ]
  },
  {
   "cell_type": "code",
   "execution_count": 22,
   "id": "df3745d8",
   "metadata": {},
   "outputs": [],
   "source": [
    "class Dome:\n",
    "    pass"
   ]
  },
  {
   "cell_type": "code",
   "execution_count": 4,
   "id": "185f7d6a",
   "metadata": {},
   "outputs": [
    {
     "name": "stdout",
     "output_type": "stream",
     "text": [
      "misbah 21 14\n"
     ]
    }
   ],
   "source": [
    "class Student:\n",
    "    def __init__(self,name,rollno,age):\n",
    "        self.name = name\n",
    "        self.rollno = rollno\n",
    "        self.age = age\n",
    "    def newstudent(self):\n",
    "        print(self.name,self.rollno,self.age)\n",
    "obj = Student(\"misbah\",21,14)\n",
    "obj.newstudent()"
   ]
  },
  {
   "cell_type": "markdown",
   "id": "cac493ab",
   "metadata": {},
   "source": [
    "# this is a defult contructor"
   ]
  },
  {
   "cell_type": "code",
   "execution_count": 1,
   "id": "56ab275e",
   "metadata": {},
   "outputs": [
    {
     "name": "stdout",
     "output_type": "stream",
     "text": [
      "hello world\n"
     ]
    }
   ],
   "source": [
    "class Person:\n",
    "    def my_func(self):\n",
    "        print(\"hello world\")\n",
    "obj = Person()\n",
    "obj.my_func()"
   ]
  },
  {
   "cell_type": "code",
   "execution_count": 11,
   "id": "0cd07453",
   "metadata": {},
   "outputs": [
    {
     "ename": "TypeError",
     "evalue": "Name() takes no arguments",
     "output_type": "error",
     "traceback": [
      "\u001b[1;31m---------------------------------------------------------------------------\u001b[0m",
      "\u001b[1;31mTypeError\u001b[0m                                 Traceback (most recent call last)",
      "Cell \u001b[1;32mIn [11], line 7\u001b[0m\n\u001b[0;32m      4\u001b[0m         \u001b[38;5;28mself\u001b[39m\u001b[38;5;241m.\u001b[39ma \u001b[38;5;241m=\u001b[39ma\n\u001b[0;32m      5\u001b[0m         \u001b[38;5;28mprint\u001b[39m(\u001b[38;5;28mself\u001b[39m\u001b[38;5;241m.\u001b[39ma)\n\u001b[1;32m----> 7\u001b[0m obj \u001b[38;5;241m=\u001b[39m Name(\u001b[38;5;241m2\u001b[39m)\n\u001b[0;32m      8\u001b[0m obj\u001b[38;5;241m.\u001b[39mshow()\n",
      "\u001b[1;31mTypeError\u001b[0m: Name() takes no arguments"
     ]
    }
   ],
   "source": [
    "class Name:\n",
    "    \n",
    "    def show(self,a):\n",
    "        self.a =a\n",
    "        print(self.a)\n",
    "        \n",
    "obj = Name(2)\n",
    "obj.show()\n",
    "        \n",
    "        \n",
    "        \n",
    "         \n",
    "\n",
    "        "
   ]
  },
  {
   "cell_type": "markdown",
   "id": "706c4525",
   "metadata": {},
   "source": [
    "# non-parametrized construtor"
   ]
  },
  {
   "cell_type": "code",
   "execution_count": 10,
   "id": "9c9da4d4",
   "metadata": {},
   "outputs": [
    {
     "name": "stdout",
     "output_type": "stream",
     "text": [
      "my name is misbah khan my age is 21\n"
     ]
    }
   ],
   "source": [
    "class Person:\n",
    "    def __init__(self):\n",
    "        self.name = \"misbah\"\n",
    "        self.lastn = \"khan\"\n",
    "        self.age= 21\n",
    "    def person1(self):\n",
    "        print(\"my name is\",self.name,self.lastn,\"my age is\",self.age)\n",
    "obj= Person()\n",
    "obj.person1()"
   ]
  },
  {
   "cell_type": "code",
   "execution_count": 5,
   "id": "8d212c45",
   "metadata": {},
   "outputs": [
    {
     "name": "stdout",
     "output_type": "stream",
     "text": [
      "aqsa age is 21 and salary 27000\n"
     ]
    }
   ],
   "source": [
    "class Employe:\n",
    "    def __init__(self):\n",
    "        self.name = \"aqsa\"\n",
    "        self.age = 21\n",
    "        self.salary = 27000\n",
    "    def person1(self):\n",
    "        print(self.name,\"age is\",self.age,\"and salary\",self.salary)\n",
    "obj1 = Employe()\n",
    "obj1.person1()\n",
    "         \n",
    "    "
   ]
  },
  {
   "cell_type": "markdown",
   "id": "e7a458b0",
   "metadata": {},
   "source": [
    "# Parameterized  constructor"
   ]
  },
  {
   "cell_type": "code",
   "execution_count": 6,
   "id": "054649e2",
   "metadata": {},
   "outputs": [
    {
     "name": "stdout",
     "output_type": "stream",
     "text": [
      "wagonr black ss21\n"
     ]
    }
   ],
   "source": [
    "class Car:\n",
    "    def __init__(self,name,color,modale):\n",
    "        self.name = name\n",
    "        self.color = color\n",
    "        self.modale = modale\n",
    "    def func(self):\n",
    "        print(self.name,self.color,self.modale)\n",
    "obj = Car(\"wagonr\",\"black\",\"ss21\")\n",
    "obj.func()\n",
    "        \n",
    "    "
   ]
  },
  {
   "cell_type": "code",
   "execution_count": 1,
   "id": "fcfc24e0",
   "metadata": {},
   "outputs": [
    {
     "name": "stdout",
     "output_type": "stream",
     "text": [
      "hello\n",
      "hey\n"
     ]
    }
   ],
   "source": [
    "class xyz:\n",
    "    def __init__(self):\n",
    "        print(\"hello\")\n",
    "    def  call(self):\n",
    "        print(\"hey\")\n",
    "obj = xyz()\n",
    "obj.call()\n",
    "        "
   ]
  },
  {
   "cell_type": "markdown",
   "id": "f05dd801",
   "metadata": {},
   "source": [
    "# method class"
   ]
  },
  {
   "cell_type": "code",
   "execution_count": 17,
   "id": "9cd3badd",
   "metadata": {},
   "outputs": [
    {
     "name": "stdout",
     "output_type": "stream",
     "text": [
      "Student: affan 17 abc school\n"
     ]
    }
   ],
   "source": [
    "class Student:\n",
    "    school_name = \"abc school\"\n",
    "    \n",
    "    def __init__(self,name,age):\n",
    "        self.name = name\n",
    "        self.age = age\n",
    "    def show(self):\n",
    "        print('Student:',self.name,self.age,Student.school_name)\n",
    "        \n",
    "obj = Student(\"affan\",17)\n",
    "obj.show()\n",
    "\n",
    "#obj1= Student.school_name('abc school')\n",
    "#obj1.show()\n",
    "            \n",
    "        \n",
    "        \n",
    "        \n",
    "        \n",
    "        "
   ]
  },
  {
   "cell_type": "code",
   "execution_count": 31,
   "id": "03509fdd",
   "metadata": {},
   "outputs": [
    {
     "name": "stdout",
     "output_type": "stream",
     "text": [
      "mango is yellow in shop\n"
     ]
    }
   ],
   "source": [
    "class Fruit:\n",
    "    shope_name = \"shop\"\n",
    "    \n",
    "    def __init__(self,name,color):\n",
    "        self.name = name\n",
    "        self.color = color\n",
    "        \n",
    "    def show(self):\n",
    "        print(self.name,\"is\",self.color,\"in\",Fruit.shope_name)\n",
    "        \n",
    "obj = Fruit(\"mango\" ,\"yellow\")\n",
    "obj.show()"
   ]
  },
  {
   "cell_type": "markdown",
   "id": "ec4d5237",
   "metadata": {},
   "source": [
    "# getatter method"
   ]
  },
  {
   "cell_type": "code",
   "execution_count": 9,
   "id": "0fb093a9",
   "metadata": {},
   "outputs": [
    {
     "name": "stdout",
     "output_type": "stream",
     "text": [
      "name : misbah\n",
      "age: 20\n"
     ]
    }
   ],
   "source": [
    "class Student:\n",
    "    def __init__(self,name,age):\n",
    "        self.name = name\n",
    "        self.age = age\n",
    "obj = Student(\"misbah\",20)            #object creat\n",
    "\n",
    "print('name :',getattr(obj,'name'))         #getattr method\n",
    "print('age:',getattr(obj,'age'))"
   ]
  },
  {
   "cell_type": "code",
   "execution_count": 14,
   "id": "5ce9012d",
   "metadata": {},
   "outputs": [
    {
     "name": "stdout",
     "output_type": "stream",
     "text": [
      "name: aqsa\n",
      "age: 21\n"
     ]
    }
   ],
   "source": [
    "class Person:\n",
    "    def __init__(self,name,age):\n",
    "        self.name = name\n",
    "        self.age = age\n",
    "obj1 = Student(\"aqsa\",21)\n",
    "\n",
    "print('name:', getattr(obj1,'name'))\n",
    "print('age:', getattr(obj1,'age'))\n"
   ]
  },
  {
   "cell_type": "code",
   "execution_count": 15,
   "id": "79375584",
   "metadata": {},
   "outputs": [],
   "source": [
    "#Dynamically Add Instance Variable to a Object\n"
   ]
  },
  {
   "cell_type": "code",
   "execution_count": 28,
   "id": "26b1b023",
   "metadata": {},
   "outputs": [
    {
     "name": "stdout",
     "output_type": "stream",
     "text": [
      "maruti SA21 red\n",
      "maruti SA21 red 180\n"
     ]
    }
   ],
   "source": [
    "class Car:\n",
    "    def __init__(self,name,modale,color):\n",
    "        self.name = name\n",
    "        self.modale = modale\n",
    "        self.color = color\n",
    "        \n",
    "obj3 = Car(\"maruti\",\"SA21\",\"red\")\n",
    "\n",
    "print(obj3.name, obj3.modale, obj3.color)        \n",
    "\n",
    "obj3.speed = 180\n",
    "print(obj3.name, obj3.modale, obj3.color,obj3.speed)        \n",
    "\n",
    "\n",
    "\n"
   ]
  },
  {
   "cell_type": "code",
   "execution_count": 9,
   "id": "f68fb3e3",
   "metadata": {},
   "outputs": [
    {
     "ename": "TypeError",
     "evalue": "Student() takes no arguments",
     "output_type": "error",
     "traceback": [
      "\u001b[1;31m---------------------------------------------------------------------------\u001b[0m",
      "\u001b[1;31mTypeError\u001b[0m                                 Traceback (most recent call last)",
      "Cell \u001b[1;32mIn [9], line 15\u001b[0m\n\u001b[0;32m     12\u001b[0m     \u001b[38;5;28;01mdef\u001b[39;00m \u001b[38;5;21mshow\u001b[39m(\u001b[38;5;28mself\u001b[39m):\n\u001b[0;32m     13\u001b[0m         \u001b[38;5;28mprint\u001b[39m(\u001b[38;5;28mself\u001b[39m\u001b[38;5;241m.\u001b[39mname \u001b[38;5;241m+\u001b[39m \u001b[38;5;124m\"\u001b[39m\u001b[38;5;124m'\u001b[39m\u001b[38;5;124ms age is :\u001b[39m\u001b[38;5;124m\"\u001b[39m \u001b[38;5;241m+\u001b[39m \u001b[38;5;28mstr\u001b[39m(\u001b[38;5;28mself\u001b[39m\u001b[38;5;241m.\u001b[39mage))\n\u001b[1;32m---> 15\u001b[0m jessa \u001b[38;5;241m=\u001b[39m Student(\u001b[38;5;124m\"\u001b[39m\u001b[38;5;124mjessa\u001b[39m\u001b[38;5;124m\"\u001b[39m,\u001b[38;5;241m20\u001b[39m)\n\u001b[0;32m     16\u001b[0m jessa\u001b[38;5;241m.\u001b[39mshow()\n\u001b[0;32m     18\u001b[0m joy \u001b[38;5;241m=\u001b[39m Student\u001b[38;5;241m.\u001b[39mcalculate_age(\u001b[38;5;124m\"\u001b[39m\u001b[38;5;124mJoy\u001b[39m\u001b[38;5;124m\"\u001b[39m, \u001b[38;5;241m1995\u001b[39m)\n",
      "\u001b[1;31mTypeError\u001b[0m: Student() takes no arguments"
     ]
    }
   ],
   "source": [
    "from datetime import date\n",
    "\n",
    "class Student:\n",
    "    \n",
    "    def __init_(self,name,age):\n",
    "        self.name = name\n",
    "        self.age = age\n",
    "  \n",
    "    @classmethod\n",
    "    def culculate_age(cls,name,birth_year):\n",
    "        return cls(name,today.date().year - birth.year)\n",
    "    def show(self):\n",
    "        print(self.name + \"'s age is :\" + str(self.age))\n",
    "        \n",
    "jessa = Student(\"jessa\",20)\n",
    "jessa.show()\n",
    "\n",
    "joy = Student.calculate_age(\"Joy\", 1995)\n",
    "joy.show()\n",
    "\n",
    "        "
   ]
  },
  {
   "cell_type": "markdown",
   "id": "365428a8",
   "metadata": {},
   "source": [
    "# class method"
   ]
  },
  {
   "cell_type": "code",
   "execution_count": 15,
   "id": "95f0d343",
   "metadata": {},
   "outputs": [
    {
     "name": "stdout",
     "output_type": "stream",
     "text": [
      "misbha 20 abc\n",
      "misbha 20 xyz\n"
     ]
    }
   ],
   "source": [
    "class Person:\n",
    "    school_name = \"abc\"\n",
    "    \n",
    "    def __init__(self,name,age):\n",
    "        self.name = name\n",
    "        self.age = age\n",
    "        \n",
    "    @classmethod   \n",
    "    def change_school(cls,school_name):\n",
    "        cls.school_name = school_name\n",
    "        \n",
    "    def show(self):\n",
    "        print(self.name,self.age,Person.school_name)\n",
    "obj = Person(\"misbha\",20)\n",
    "obj.show()\n",
    "\n",
    "Person.change_school(\"xyz\")\n",
    "obj.show()\n",
    "        "
   ]
  },
  {
   "cell_type": "code",
   "execution_count": 27,
   "id": "18b353ea",
   "metadata": {},
   "outputs": [
    {
     "name": "stdout",
     "output_type": "stream",
     "text": [
      "afreen 21 six classs\n",
      "afreen 21 third class\n"
     ]
    }
   ],
   "source": [
    "class Student:\n",
    "    standed_name = \"six classs\"         #class variable\n",
    "    def __init__(self,name,age):\n",
    "        self.name = name          #instance variable\n",
    "        self.age = age\n",
    "    @classmethod\n",
    "    def new_class(cls,standed_name):\n",
    "        cls.standed_name = standed_name\n",
    "     \n",
    "    def show(self):\n",
    "            print(self.name,self.age,Student.standed_name)\n",
    "obj = Student(\"afreen\",21)\n",
    "obj.show()\n",
    "\n",
    "Student.new_class(\"third class\")\n",
    "obj.show()"
   ]
  },
  {
   "cell_type": "code",
   "execution_count": 41,
   "id": "e9ed2c36",
   "metadata": {},
   "outputs": [
    {
     "name": "stdout",
     "output_type": "stream",
     "text": [
      "misbah 21\n",
      "21 third class\n"
     ]
    }
   ],
   "source": [
    "class Student:\n",
    "    def __init__(self,name,age):\n",
    "        self.name = name\n",
    "        self.age  = age\n",
    "    def show(self):\n",
    "        print(self.name,self.age)\n",
    "     #modifiye the instance variable\n",
    "    def update(self,rollno,standerd):\n",
    "        self.rollno = rollno\n",
    "        self.standerd= standerd\n",
    "        print(self.rollno,self.standerd)\n",
    "    \n",
    "\n",
    "obj1 = Student(\"misbah\",21)\n",
    "obj1.show()\n",
    "\n",
    "obj2.update(31,\"third class\")\n",
    "obj2.show()"
   ]
  },
  {
   "cell_type": "code",
   "execution_count": 44,
   "id": "9c09b74a",
   "metadata": {},
   "outputs": [
    {
     "name": "stdout",
     "output_type": "stream",
     "text": [
      "misbah 20 ABC school\n",
      "misbah 20 xyz school\n"
     ]
    }
   ],
   "source": [
    "class Student:\n",
    "    school_name = \"ABC school\"\n",
    "    def __init__(self,name,age):\n",
    "        self.name = name\n",
    "        self.age = age\n",
    "    @classmethod\n",
    "    def change_name(cls,school_name):\n",
    "        cls.school_name = school_name\n",
    "        \n",
    "    def show(self):\n",
    "        print(self.name,self.age,Student.school_name)\n",
    "        \n",
    "        \n",
    "obj1 = Student(\"misbah\",20)\n",
    "obj1.show()\n",
    "\n",
    "Student.school_name = \"xyz school\"\n",
    "obj1.show()\n",
    "        "
   ]
  },
  {
   "cell_type": "code",
   "execution_count": 9,
   "id": "d383e559",
   "metadata": {},
   "outputs": [
    {
     "ename": "AttributeError",
     "evalue": "'Empolyee' object has no attribute 'show'",
     "output_type": "error",
     "traceback": [
      "\u001b[1;31m---------------------------------------------------------------------------\u001b[0m",
      "\u001b[1;31mAttributeError\u001b[0m                            Traceback (most recent call last)",
      "Cell \u001b[1;32mIn [9], line 13\u001b[0m\n\u001b[0;32m     10\u001b[0m             pirnt(\u001b[38;5;28mself\u001b[39m\u001b[38;5;241m.\u001b[39mname,\u001b[38;5;28mself\u001b[39m\u001b[38;5;241m.\u001b[39msalary,Empolyee\u001b[38;5;241m.\u001b[39mcompany_name)\n\u001b[0;32m     12\u001b[0m objj \u001b[38;5;241m=\u001b[39m Empolyee(\u001b[38;5;124m\"\u001b[39m\u001b[38;5;124mhassan\u001b[39m\u001b[38;5;124m\"\u001b[39m, \u001b[38;5;241m25000\u001b[39m)\n\u001b[1;32m---> 13\u001b[0m objj\u001b[38;5;241m.\u001b[39mshow()\n\u001b[0;32m     15\u001b[0m Empolyee\u001b[38;5;241m.\u001b[39mchange_name \u001b[38;5;241m=\u001b[39m \u001b[38;5;124m\"\u001b[39m\u001b[38;5;124mxyz\u001b[39m\u001b[38;5;124m\"\u001b[39m\n\u001b[0;32m     16\u001b[0m objj\u001b[38;5;241m.\u001b[39mshow()\n",
      "\u001b[1;31mAttributeError\u001b[0m: 'Empolyee' object has no attribute 'show'"
     ]
    }
   ],
   "source": [
    "class Empolyee:\n",
    "    campany_name = \"ABC\"\n",
    "    def __init__(self,name,salary):\n",
    "        self.name = name\n",
    "        self.name = salary\n",
    "        @classmethod   \n",
    "        def change_name(cls,name):\n",
    "            cls.campany_name= name\n",
    "        def show(self):\n",
    "            pirnt(self.name,self.salary,Empolyee.company_name)\n",
    "\n",
    "objj = Empolyee(\"hassan\", 25000)\n",
    "objj.show()\n",
    "\n",
    "Empolyee.change_name = \"xyz\"\n",
    "objj.show()\n",
    "\n",
    "        "
   ]
  },
  {
   "cell_type": "markdown",
   "id": "a6e95020",
   "metadata": {},
   "source": [
    "# static method"
   ]
  },
  {
   "cell_type": "code",
   "execution_count": 47,
   "id": "b86fb670",
   "metadata": {},
   "outputs": [
    {
     "name": "stdout",
     "output_type": "stream",
     "text": [
      "hello world\n",
      "hello world\n"
     ]
    }
   ],
   "source": [
    "class Person:\n",
    "    @staticmethod\n",
    "    def sample():\n",
    "        print(\"hello world\")\n",
    "Person.sample()  \n",
    "\n",
    "obj = Person()\n",
    "obj.sample()"
   ]
  },
  {
   "cell_type": "code",
   "execution_count": 4,
   "id": "6ab26d7d",
   "metadata": {},
   "outputs": [
    {
     "name": "stdout",
     "output_type": "stream",
     "text": [
      "hello\n"
     ]
    }
   ],
   "source": [
    "class Employee:\n",
    "    @staticmethod\n",
    "    def show():\n",
    "        print(\"hello\")\n",
    "obj =Employee()\n",
    "obj.show()\n",
    "        "
   ]
  },
  {
   "cell_type": "code",
   "execution_count": 6,
   "id": "d5e00d90",
   "metadata": {},
   "outputs": [
    {
     "name": "stdout",
     "output_type": "stream",
     "text": [
      "True\n"
     ]
    }
   ],
   "source": [
    "class Mobile:\n",
    "    \n",
    "    @staticmethod\n",
    "    def show_model(day):\n",
    "        if day == \"sunday\":\n",
    "            return False\n",
    "        else:\n",
    "            return True\n",
    "        \n",
    "print(Mobile.show_model(\"monday\"))        \n",
    "    "
   ]
  },
  {
   "cell_type": "code",
   "execution_count": 13,
   "id": "5ab5e30f",
   "metadata": {},
   "outputs": [
    {
     "name": "stdout",
     "output_type": "stream",
     "text": [
      "hello\n"
     ]
    }
   ],
   "source": [
    "class Person:\n",
    "    @staticmethod\n",
    "    def show():\n",
    "        print('hello')\n",
    "\n",
    "Person.show()        \n",
    "    "
   ]
  },
  {
   "cell_type": "code",
   "execution_count": 8,
   "id": "e4135958",
   "metadata": {},
   "outputs": [
    {
     "name": "stdout",
     "output_type": "stream",
     "text": [
      "the empolye name is affan and age is 20\n"
     ]
    }
   ],
   "source": [
    "class Campany:\n",
    "    @staticmethod\n",
    "    def show_empolye(name,age):\n",
    "        name = name\n",
    "        age = age\n",
    "        print(f\"the empolye name is {name} and age is {age}\")\n",
    "obj =Campany()\n",
    "Campany.show_empolye(\"affan\",20)\n",
    "    \n",
    "                    "
   ]
  },
  {
   "cell_type": "code",
   "execution_count": 11,
   "id": "d949ad08",
   "metadata": {},
   "outputs": [
    {
     "ename": "SyntaxError",
     "evalue": "invalid syntax (121029920.py, line 2)",
     "output_type": "error",
     "traceback": [
      "\u001b[1;36m  Cell \u001b[1;32mIn [11], line 2\u001b[1;36m\u001b[0m\n\u001b[1;33m    def__init__(slef,name,age):\u001b[0m\n\u001b[1;37m                              ^\u001b[0m\n\u001b[1;31mSyntaxError\u001b[0m\u001b[1;31m:\u001b[0m invalid syntax\n"
     ]
    }
   ],
   "source": [
    "class Person:\n",
    "    def__init__(slef,age):\n",
    "        self.name = \"fdklc\"\n",
    "        self.age = age\n",
    "        \n",
    "        \n",
    "obj = Person (20) \n",
    "print()"
   ]
  },
  {
   "cell_type": "code",
   "execution_count": 18,
   "id": "fa1e9fed",
   "metadata": {},
   "outputs": [
    {
     "name": "stdout",
     "output_type": "stream",
     "text": [
      "hello 2\n"
     ]
    }
   ],
   "source": [
    "class Person:\n",
    "    def show(self,a):\n",
    "        self.a=a\n",
    "        print(\"hello\", self.a)\n",
    "obj = Person()\n",
    "obj.show(2)"
   ]
  },
  {
   "cell_type": "code",
   "execution_count": 26,
   "id": "17e066e0",
   "metadata": {},
   "outputs": [
    {
     "name": "stdout",
     "output_type": "stream",
     "text": [
      "misbah 21\n"
     ]
    }
   ],
   "source": [
    "class Empolye:\n",
    "    def __init__(self,name,age):\n",
    "        self.name = name\n",
    "        self.age = age\n",
    "    def show(self):\n",
    "        print(self.name,self.age)\n",
    "obj = Empolye(\"misbah\",21)\n",
    "obj.show()\n",
    "        \n",
    "        \n"
   ]
  },
  {
   "cell_type": "code",
   "execution_count": null,
   "id": "ba268184",
   "metadata": {},
   "outputs": [],
   "source": []
  },
  {
   "cell_type": "code",
   "execution_count": null,
   "id": "0869fcde",
   "metadata": {},
   "outputs": [],
   "source": [
    "\n",
    "\n"
   ]
  },
  {
   "cell_type": "code",
   "execution_count": null,
   "id": "44b80305",
   "metadata": {},
   "outputs": [],
   "source": []
  },
  {
   "cell_type": "code",
   "execution_count": null,
   "id": "553e8bdf",
   "metadata": {},
   "outputs": [],
   "source": []
  },
  {
   "cell_type": "code",
   "execution_count": null,
   "id": "213df41e",
   "metadata": {},
   "outputs": [],
   "source": []
  }
 ],
 "metadata": {
  "kernelspec": {
   "display_name": "Python 3 (ipykernel)",
   "language": "python",
   "name": "python3"
  },
  "language_info": {
   "codemirror_mode": {
    "name": "ipython",
    "version": 3
   },
   "file_extension": ".py",
   "mimetype": "text/x-python",
   "name": "python",
   "nbconvert_exporter": "python",
   "pygments_lexer": "ipython3",
   "version": "3.10.7"
  }
 },
 "nbformat": 4,
 "nbformat_minor": 5
}
