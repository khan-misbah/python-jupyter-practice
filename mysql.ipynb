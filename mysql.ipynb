{
 "cells": [
  {
   "cell_type": "markdown",
   "id": "17479e00",
   "metadata": {},
   "source": [
    "# Data INSERT "
   ]
  },
  {
   "cell_type": "code",
   "execution_count": null,
   "id": "8d990e2f",
   "metadata": {},
   "outputs": [
    {
     "name": "stdout",
     "output_type": "stream",
     "text": [
      "Enter id 8\n",
      "Enter name:ayesha\n",
      "Enter salary:76000\n",
      "Data Inserted Successfully..\n"
     ]
    }
   ],
   "source": [
    "import mysql.connector as sql\n",
    "mydb = sql.connect(host=\"localhost\",user = \"root\", passwd = \"kmisbah17\", database = \"maindata\")\n",
    "cursor = mydb.cursor()\n",
    "while True:\n",
    "    id = int(input(\"Enter id \"))\n",
    "    name =input(\"Enter name:\")\n",
    "    salary= int(input(\"Enter salary:\"))\n",
    "    query = 'insert into emp values({},\"{}\",{})'.format(id,name,salary)\n",
    "    cursor.execute(query)\n",
    "    mydb.commit()  \n",
    "    print(\"Data Inserted Successfully..\")\n",
    "    x = int(input(\"1->Enter More\\n2->Exit\\nEnter Choice:\"))\n",
    "    if x==2:\n",
    "        break     \n",
    "               \n",
    "         \n",
    "                     "
   ]
  },
  {
   "cell_type": "markdown",
   "id": "0b3d2cf1",
   "metadata": {},
   "source": [
    "\n"
   ]
  },
  {
   "cell_type": "markdown",
   "id": "7a98623f",
   "metadata": {},
   "source": [
    "# DATA UPDATED"
   ]
  },
  {
   "cell_type": "code",
   "execution_count": 7,
   "id": "33ffdae8",
   "metadata": {},
   "outputs": [
    {
     "name": "stdout",
     "output_type": "stream",
     "text": [
      "Enter Employee id: 6\n",
      "Enter New Salary : 9000\n",
      "Enter new name : Arshi khan\n",
      "Data Updated Successfully..\n"
     ]
    }
   ],
   "source": [
    "import mysql.connector as sql\n",
    "data= sql.connect(host=\"localhost\",\n",
    "                user = \"root\",\n",
    "                passwd= \"kmisbah17\",\n",
    "                database=\"maindata\")\n",
    "cursor=data.cursor()\n",
    "id = int(input(\"Enter Employee id: \"))\n",
    "salary = int(input(\"Enter New Salary : \"))\n",
    "name = (input(\"Enter new name : \" ))\n",
    "query= \"update emp set name='{}',salary={} where id={}\".format(name,salary,id)\n",
    "cursor.execute(query)\n",
    "data.commit()  \n",
    "if cursor.rowcount>0:\n",
    "    print(\"Data Updated Successfully..\")\n",
    "else:\n",
    "    print(\"No Data Found.\")"
   ]
  },
  {
   "cell_type": "code",
   "execution_count": null,
   "id": "76629a24",
   "metadata": {},
   "outputs": [],
   "source": []
  },
  {
   "cell_type": "code",
   "execution_count": null,
   "id": "15960ae1",
   "metadata": {},
   "outputs": [],
   "source": [
    "Deleting data from table"
   ]
  },
  {
   "cell_type": "code",
   "execution_count": 15,
   "id": "d0c3deed",
   "metadata": {},
   "outputs": [
    {
     "name": "stdout",
     "output_type": "stream",
     "text": [
      "Enter Employee id to Delete:6\n",
      "Deletion Successfull..\n"
     ]
    }
   ],
   "source": [
    "import mysql.connector as sql\n",
    "mydb =sql.connect(host=\"localhost\",\n",
    "                  user= \"root\",\n",
    "                passwd = \"kmisbah17\",\n",
    "                 database=\"maindata\")\n",
    "cursor=mydb.cursor()\n",
    "id = int(input(\"Enter Employee id to Delete:\" ))\n",
    "query= \"delete from emp where id ={}\".format(id)\n",
    "cursor.execute(query)\n",
    "mydb.commit()\n",
    "if cursor.rowcount>0:\n",
    "    print(\"Deletion Successfull..\")\n",
    "else:\n",
    "    print(\"Employe id not Found\")\n",
    "    "
   ]
  },
  {
   "cell_type": "code",
   "execution_count": null,
   "id": "5d129cc4",
   "metadata": {},
   "outputs": [],
   "source": []
  },
  {
   "cell_type": "code",
   "execution_count": 16,
   "id": "b7191f32",
   "metadata": {},
   "outputs": [],
   "source": [
    "# Extracting Data From Database  "
   ]
  },
  {
   "cell_type": "code",
   "execution_count": 6,
   "id": "8c847da2",
   "metadata": {},
   "outputs": [
    {
     "name": "stdout",
     "output_type": "stream",
     "text": [
      "(1, 'misbah', 75000)\n",
      "(2, 'nida shaikh ', 50000)\n",
      "Total Number of Rows= 2\n"
     ]
    }
   ],
   "source": [
    "import mysql.connector as sql\n",
    "mydb= sql.connect(host=\"localhost\",\n",
    "                   user = \"root\",\n",
    "                   passwd=\"kmisbah17\",\n",
    "                   database=\"maindata\")\n",
    "cursor=mydb.cursor()\n",
    "query=\"select * from emp\"\n",
    "cursor.execute(query)\n",
    "data=cursor.fetchone()\n",
    "print(data)\n",
    "data= cursor.fetchone()\n",
    "print(data)\n",
    "\n",
    "print(\"Total Number of Rows=\",cursor.rowcount)"
   ]
  },
  {
   "cell_type": "markdown",
   "id": "345f6bbd",
   "metadata": {},
   "source": [
    "# fetchmany"
   ]
  },
  {
   "cell_type": "code",
   "execution_count": 3,
   "id": "4ac0d987",
   "metadata": {},
   "outputs": [
    {
     "name": "stdout",
     "output_type": "stream",
     "text": [
      "(1, 'misbah', 75000)\n",
      "(2, 'nida shaikh ', 50000)\n",
      "(3, 'aqsa khan', 760000)\n",
      "(4, 'zikra khan', 35000)\n",
      "(5, 'afreen', 60000)\n",
      "Total Number of Rows= 5\n"
     ]
    }
   ],
   "source": [
    "import mysql.connector as sql\n",
    "mydb= sql.connect(host=\"localhost\",\n",
    "                   user = \"root\",\n",
    "                   passwd=\"kmisbah17\",\n",
    "                   database=\"maindata\")\n",
    "cursor=mydb.cursor()\n",
    "query=\"select * from emp\"\n",
    "cursor.execute(query)\n",
    "data=cursor.fetchmany(5)\n",
    "# print(data)                    #data print on tuple form if we not use for loop\n",
    "for i in data:\n",
    "    print(i)\n",
    "print(\"Total Number of Rows=\",cursor.rowcount )"
   ]
  },
  {
   "cell_type": "code",
   "execution_count": 32,
   "id": "d2972559",
   "metadata": {},
   "outputs": [],
   "source": [
    "# fetchall"
   ]
  },
  {
   "cell_type": "code",
   "execution_count": 1,
   "id": "dd47aaf2",
   "metadata": {},
   "outputs": [
    {
     "name": "stdout",
     "output_type": "stream",
     "text": [
      "(1, 'misbah', 75000)\n",
      "(2, 'nida shaikh ', 50000)\n",
      "(3, 'aqsa khan', 760000)\n",
      "(4, 'zikra khan', 35000)\n",
      "(5, 'afreen', 60000)\n",
      "(6, 'Arshi khan', 9000)\n",
      "(7, 'Afanan shaikh', 54000)\n",
      "(8, 'ayesha', 9000)\n",
      "Total Number of Rows= 8\n"
     ]
    }
   ],
   "source": [
    "import mysql.connector as sql\n",
    "mydb= sql.connect(host=\"localhost\",\n",
    "                   user = \"root\",\n",
    "                   passwd=\"kmisbah17\",\n",
    "                   database=\"maindata\")\n",
    "cursor=mydb.cursor()\n",
    "query=\"select * from emp\"\n",
    "cursor.execute(query)\n",
    "data=cursor.fetchall()\n",
    "# print(data)                  \n",
    "for i in data:\n",
    "    print(i)\n",
    "print(\"Total Number of Rows=\",cursor.rowcount )"
   ]
  },
  {
   "cell_type": "code",
   "execution_count": null,
   "id": "449ecc07",
   "metadata": {},
   "outputs": [],
   "source": []
  },
  {
   "cell_type": "code",
   "execution_count": null,
   "id": "df4bb0fe",
   "metadata": {},
   "outputs": [],
   "source": []
  },
  {
   "cell_type": "code",
   "execution_count": null,
   "id": "7d6ae920",
   "metadata": {},
   "outputs": [],
   "source": []
  }
 ],
 "metadata": {
  "kernelspec": {
   "display_name": "Python 3 (ipykernel)",
   "language": "python",
   "name": "python3"
  },
  "language_info": {
   "codemirror_mode": {
    "name": "ipython",
    "version": 3
   },
   "file_extension": ".py",
   "mimetype": "text/x-python",
   "name": "python",
   "nbconvert_exporter": "python",
   "pygments_lexer": "ipython3",
   "version": "3.10.7"
  }
 },
 "nbformat": 4,
 "nbformat_minor": 5
}
