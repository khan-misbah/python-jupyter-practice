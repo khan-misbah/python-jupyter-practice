{
 "cells": [
  {
   "cell_type": "code",
   "execution_count": 13,
   "id": "a63e38bd",
   "metadata": {},
   "outputs": [
    {
     "name": "stdout",
     "output_type": "stream",
     "text": [
      "empolye name is misabh and salary is 20000\n",
      "misabh working on projcet BCA\n"
     ]
    }
   ],
   "source": [
    "#this is public method\n",
    "\n",
    "class Empolye:\n",
    "    def __init__(self,name,salary,project):\n",
    "        self.name = name\n",
    "        self.salary = salary             #data member\n",
    "        self.project = project\n",
    "        \n",
    "        # accessing public data member\n",
    "    def show(self):\n",
    "        print(f\"empolye name is {self.name} and salary is {self.salary}\")\n",
    "        \n",
    "    def work(self):\n",
    "        print(f\"{self.name} working on projcet {self.project}\")\n",
    "\n",
    "obj = Empolye(\"misabh\", 20000 , \"BCA\")          # creating object of a class\n",
    "\n",
    "obj.show()                   # calling public method of the class\n",
    "obj.work()\n",
    "        "
   ]
  },
  {
   "cell_type": "code",
   "execution_count": 4,
   "id": "e11bf2a4",
   "metadata": {},
   "outputs": [
    {
     "name": "stdout",
     "output_type": "stream",
     "text": [
      "company name : MNC\n",
      "company location : Andheri\n"
     ]
    }
   ],
   "source": [
    "class Company:\n",
    "    def __init__(self,name,location):\n",
    "        self.name =name\n",
    "        self.location = location\n",
    "    def show(self):\n",
    "        print(f\"company name : {self.name}\")\n",
    "        print(f\"company location : {self.location}\")\n",
    "obj = Company(\"MNC\" , \"Andheri\")       \n",
    "obj.show()\n",
    "        "
   ]
  },
  {
   "cell_type": "markdown",
   "id": "8d194805",
   "metadata": {},
   "source": [
    "# private members access with public method"
   ]
  },
  {
   "cell_type": "code",
   "execution_count": 21,
   "id": "3ee15ddb",
   "metadata": {},
   "outputs": [
    {
     "name": "stdout",
     "output_type": "stream",
     "text": [
      "misbah 20000\n"
     ]
    }
   ],
   "source": [
    "class Person:\n",
    "    def __init__(self,name,salary):\n",
    "        self.name = name\n",
    "        self.__salary = salary\n",
    "    def show(self):\n",
    "        print(self.name,self.__salary)\n",
    "        \n",
    "obj = Person(\"misbah\",20000)\n",
    "obj.show()"
   ]
  },
  {
   "cell_type": "code",
   "execution_count": 5,
   "id": "bc58cc0a",
   "metadata": {},
   "outputs": [
    {
     "name": "stdout",
     "output_type": "stream",
     "text": [
      "hassan 95\n"
     ]
    }
   ],
   "source": [
    "class Student:\n",
    "    def __init__(self,name,marks):\n",
    "        self.name = name\n",
    "        self.__marks = marks\n",
    "    def show(self):\n",
    "        print(self.name, self.__marks)\n",
    "stud = Student(\"hassan\" , 95)\n",
    "stud.show()\n",
    "        "
   ]
  },
  {
   "cell_type": "code",
   "execution_count": 11,
   "id": "ea802c4a",
   "metadata": {},
   "outputs": [
    {
     "name": "stdout",
     "output_type": "stream",
     "text": [
      "techer name is : khan naeem\n",
      "techer salary is : 90000\n"
     ]
    }
   ],
   "source": [
    "class Techer:\n",
    "    def __init__(self,name,salary):\n",
    "        self.name = name\n",
    "        self.__salary = salary\n",
    "    def method(self):\n",
    "        print(\"techer name is :\" ,self.name)\n",
    "        print(\"techer salary is :\", self.__salary)\n",
    "tec = Techer(\"khan naeem\" , 90000)\n",
    "tec.method()"
   ]
  },
  {
   "cell_type": "markdown",
   "id": "c05537e1",
   "metadata": {},
   "source": [
    "# Name Mangling to access private members\n"
   ]
  },
  {
   "cell_type": "code",
   "execution_count": 4,
   "id": "83b0ca6e",
   "metadata": {},
   "outputs": [
    {
     "name": "stdout",
     "output_type": "stream",
     "text": [
      "aqsa\n",
      "25000\n"
     ]
    }
   ],
   "source": [
    "class Empolye:\n",
    "    def __init__(self,name,salary):\n",
    "        self.name = name\n",
    "        self.__salary = salary\n",
    "        \n",
    "obj= Empolye(\"aqsa\",25000)\n",
    "\n",
    "print(obj.name)\n",
    "print(obj._Empolye__salary)"
   ]
  },
  {
   "cell_type": "code",
   "execution_count": 8,
   "id": "7c243f20",
   "metadata": {},
   "outputs": [
    {
     "name": "stdout",
     "output_type": "stream",
     "text": [
      " the Fruit name kiwi\n",
      "the price of kiwi 200\n"
     ]
    }
   ],
   "source": [
    "class Fruit :\n",
    "    def __init__(self,name,price):\n",
    "        self.name = name\n",
    "        self.__price = price\n",
    "        \n",
    "emp = Fruit(\"kiwi\", 200)\n",
    "\n",
    "print(f\" the Fruit name {emp.name}\")\n",
    "print(f\"the price of kiwi {emp._Fruit__price}\")"
   ]
  },
  {
   "cell_type": "code",
   "execution_count": 16,
   "id": "04e86f49",
   "metadata": {},
   "outputs": [
    {
     "name": "stdout",
     "output_type": "stream",
     "text": [
      "name: misbah\n",
      "age: 21\n"
     ]
    }
   ],
   "source": [
    "#name mangling\n",
    "\n",
    "class Person:\n",
    "    def __init__(self,name,age):\n",
    "        self.name =name \n",
    "        self.__age = age\n",
    "obj = Person(\"misbah\",21)\n",
    "print(\"name:\",obj.name)\n",
    "print(\"age:\", obj._Person__age)\n"
   ]
  },
  {
   "cell_type": "code",
   "execution_count": 13,
   "id": "f637e9c2",
   "metadata": {},
   "outputs": [
    {
     "name": "stdout",
     "output_type": "stream",
     "text": [
      "employe name is : nida\n",
      "employe salary is : 76000\n"
     ]
    }
   ],
   "source": [
    "class Employe:\n",
    "    def __init__(self,name,salary):\n",
    "        self.name = name\n",
    "        self.__salary = salary\n",
    "emp = Employe(\"nida\", 76000)\n",
    "print(\"employe name is :\",emp.name)\n",
    "print(\"employe salary is :\" ,emp._Employe__salary)"
   ]
  },
  {
   "cell_type": "code",
   "execution_count": 14,
   "id": "62f92731",
   "metadata": {},
   "outputs": [
    {
     "name": "stdout",
     "output_type": "stream",
     "text": [
      "student name is : affan\n",
      "student rollno is : 54\n"
     ]
    }
   ],
   "source": [
    "class Student:\n",
    "    def __init__(self,name, Rollno):\n",
    "        self.__name = name\n",
    "        self.Rollno = Rollno\n",
    "stud = Student(\"affan\", 54)\n",
    "print(\"student name is :\", stud._Student__name)\n",
    "print(\"student rollno is :\",stud.Rollno )"
   ]
  },
  {
   "cell_type": "markdown",
   "id": "8631801a",
   "metadata": {},
   "source": [
    "# getter and setter\n",
    "use the getter method to access data members and the setter method to modify the data member\n"
   ]
  },
  {
   "cell_type": "code",
   "execution_count": 2,
   "id": "4b8961af",
   "metadata": {},
   "outputs": [
    {
     "name": "stdout",
     "output_type": "stream",
     "text": [
      "misbah 14\n",
      "misbah 21\n"
     ]
    }
   ],
   "source": [
    "class Student:\n",
    "    def __init__(self,name,age):\n",
    "        self.name = name\n",
    "        self.__age = age\n",
    "        \n",
    "    def get_age(self):\n",
    "        return self.__age\n",
    "    \n",
    "    def set_age(self,age):\n",
    "        self.__age = age\n",
    "        \n",
    "obj = Student(\"misbah\",14)\n",
    "\n",
    "print(obj.name,obj.get_age())\n",
    "\n",
    "obj.set_age(21) \n",
    "\n",
    "print(obj.name,obj.get_age())\n"
   ]
  },
  {
   "cell_type": "code",
   "execution_count": 8,
   "id": "587933b4",
   "metadata": {},
   "outputs": [
    {
     "name": "stdout",
     "output_type": "stream",
     "text": [
      "misbah 22\n"
     ]
    }
   ],
   "source": [
    "class Employee:\n",
    "    def __init__(self,name, age):\n",
    "        self.name = name \n",
    "        self.__age = age\n",
    "    def get_add(self):\n",
    "        return self.__age\n",
    "    def set_add(self,age):\n",
    "        self.__age = age\n",
    "obj = Employee(\"misbah\",22)\n",
    "print(obj.name,obj.get_add())\n",
    "        "
   ]
  },
  {
   "cell_type": "code",
   "execution_count": 37,
   "id": "a49f7d42",
   "metadata": {},
   "outputs": [
    {
     "name": "stdout",
     "output_type": "stream",
     "text": [
      "abc 20000\n",
      "abc 23000\n"
     ]
    }
   ],
   "source": [
    "class Campany:\n",
    "    def __init__(self,name, salary):\n",
    "        self.name = name\n",
    "        self.__salary = salary\n",
    "    def get_add(self):\n",
    "        return self.__salary\n",
    "    def set_add(self,salary):\n",
    "        self.__salary = salary\n",
    "        \n",
    "obj1 = Campany(\"abc\",20000)\n",
    "\n",
    "print(obj1.name,obj1.get_add())\n",
    "\n",
    "obj1.set_add(23000)\n",
    "\n",
    "print(obj1.name,obj1.get_add())\n"
   ]
  },
  {
   "cell_type": "code",
   "execution_count": 43,
   "id": "67c01f95",
   "metadata": {},
   "outputs": [
    {
     "name": "stdout",
     "output_type": "stream",
     "text": [
      "the car name is scorpio ,the color is black\n",
      "scorpio blue\n"
     ]
    }
   ],
   "source": [
    "class Car:\n",
    "    def __init__(self,name,color):\n",
    "        self.name = name\n",
    "        self.__color = color\n",
    "    \n",
    "    def get_add(self):\n",
    "        return self.__color\n",
    "    \n",
    "    def set_add(self,color):\n",
    "        self.__color = color\n",
    "\n",
    "obj23 = Car (\"scorpio\", \"black\")\n",
    "print(f\"the car name is {obj23.name} ,the color is {obj23.get_add()}\") \n",
    "\n",
    "obj23.set_add(\"blue\")\n",
    "print(obj23.name,obj23.get_add())\n",
    "    "
   ]
  },
  {
   "cell_type": "code",
   "execution_count": 2,
   "id": "db61b1a6",
   "metadata": {},
   "outputs": [
    {
     "name": "stdout",
     "output_type": "stream",
     "text": [
      "rose\n",
      "lily\n"
     ]
    }
   ],
   "source": [
    "class Flower:\n",
    "    def __init__(self):\n",
    "        self.type = \"rose\"\n",
    "    def set_name(self):\n",
    "        self.type = \"lily\"\n",
    "        \n",
    "obj = Flower()\n",
    "print(obj.type)\n",
    "obj.set_name()\n",
    "print(obj.type)"
   ]
  },
  {
   "cell_type": "code",
   "execution_count": 11,
   "id": "565baa36",
   "metadata": {},
   "outputs": [
    {
     "name": "stdout",
     "output_type": "stream",
     "text": [
      "hassan 19\n",
      "hassan 31\n"
     ]
    }
   ],
   "source": [
    "class Person:\n",
    "    def __init__(self,name,age):\n",
    "        self.name = name\n",
    "        self.__age = age\n",
    "        \n",
    "    def get_name(self):\n",
    "        return self.__age \n",
    "    \n",
    "    def set_name(self,age):\n",
    "        self.__age = age\n",
    "        \n",
    "p1 = Person(\"hassan\",19)\n",
    "print(p1.name, p1.get_name())\n",
    "\n",
    "p1.set_name(31)\n",
    "print(p1.name, p1.get_name())"
   ]
  },
  {
   "cell_type": "code",
   "execution_count": 20,
   "id": "78fa8b58",
   "metadata": {},
   "outputs": [
    {
     "name": "stdout",
     "output_type": "stream",
     "text": [
      "student info name: misbah : roll no : 22 age : 12\n",
      "student info name: misbah : roll no : 10 age : 12\n"
     ]
    }
   ],
   "source": [
    "class Student:\n",
    "    def __init__(self,name,roll_no,age):\n",
    "        self.name = name\n",
    "        self.__roll_no = roll_no\n",
    "        self.__age = age\n",
    "    def show(self):\n",
    "        print(\"student info\", \"name:\", self.name, \":\",\"roll no :\", self.__roll_no ,\"age :\", self.__age)\n",
    "    def get_roll_no(self):\n",
    "        return self.__roll_no\n",
    "    def set_roll_no(self,number):\n",
    "        if number > 50:\n",
    "            print('Invalid roll no. Please set correct roll number')\n",
    "        else:\n",
    "            self.__roll_no = number\n",
    "            \n",
    "obje = Student(\"misbah\",22 , 12)\n",
    "obje.show()\n",
    "obje.set_roll_no(42)\n",
    "obje.set_roll_no(10)\n",
    "obje.show()"
   ]
  },
  {
   "cell_type": "markdown",
   "id": "416e25be",
   "metadata": {},
   "source": [
    "# protected method"
   ]
  },
  {
   "cell_type": "code",
   "execution_count": 25,
   "id": "c5af9066",
   "metadata": {},
   "outputs": [
    {
     "name": "stdout",
     "output_type": "stream",
     "text": [
      "my name is: misbah\n",
      "my project name : BCA\n"
     ]
    }
   ],
   "source": [
    "class Company:\n",
    "    def __init__(self):\n",
    "        self._project = \"BCA\"\n",
    "class Empolyee(Company):\n",
    "    def __init__(self,name):\n",
    "        self.name = name\n",
    "        Company.__init__(self)\n",
    "    def show(self):\n",
    "        print(\"my name is:\" ,self.name)\n",
    "        print(\"my project name :\", self._project)\n",
    "emp = Empolyee(\"misbah\")\n",
    "emp.show()"
   ]
  },
  {
   "cell_type": "code",
   "execution_count": 21,
   "id": "37b5d522",
   "metadata": {},
   "outputs": [
    {
     "name": "stdout",
     "output_type": "stream",
     "text": [
      "my Name is: Misbah\n",
      "my Project Name is: BCA\n"
     ]
    }
   ],
   "source": [
    "class Company:\n",
    "    def __init__(self):\n",
    "        self._project = \"BCA\"\n",
    "class Employee(Company):\n",
    "    def __init__(self, name):\n",
    "        self.name = name\n",
    "        Company.__init__(self)\n",
    "    def show(self):\n",
    "        print(\"my Name is:\", self.name)\n",
    "        print(\"my Project Name is:\", self._project)\n",
    "        \n",
    "e1 = Employee(\"Misbah\")\n",
    "e1.show()\n",
    "# print(\"Project name:\", e1._project)"
   ]
  },
  {
   "cell_type": "code",
   "execution_count": 28,
   "id": "f7e7521d",
   "metadata": {},
   "outputs": [
    {
     "name": "stdout",
     "output_type": "stream",
     "text": [
      "misbah 21 ABC\n"
     ]
    }
   ],
   "source": [
    "class School:\n",
    "    def __init__(self):\n",
    "        self._school_name = \"ABC\"\n",
    "class Student(School):\n",
    "    def __init__(self,name,age):\n",
    "        self.name = name\n",
    "        self.age = age\n",
    "        School.__init__(self) \n",
    "    def show(self):\n",
    "        print(self.name , self.age,self._school_name)\n",
    "stud = Student(\"misbah\", 21)\n",
    "stud.show()"
   ]
  },
  {
   "cell_type": "code",
   "execution_count": null,
   "id": "19ed8520",
   "metadata": {},
   "outputs": [],
   "source": []
  },
  {
   "cell_type": "code",
   "execution_count": null,
   "id": "f77d6873",
   "metadata": {},
   "outputs": [],
   "source": []
  },
  {
   "cell_type": "code",
   "execution_count": null,
   "id": "f7d8764e",
   "metadata": {},
   "outputs": [],
   "source": []
  },
  {
   "cell_type": "code",
   "execution_count": null,
   "id": "891a1863",
   "metadata": {},
   "outputs": [],
   "source": []
  },
  {
   "cell_type": "code",
   "execution_count": null,
   "id": "3e4e51a1",
   "metadata": {},
   "outputs": [],
   "source": []
  },
  {
   "cell_type": "code",
   "execution_count": null,
   "id": "70520156",
   "metadata": {},
   "outputs": [],
   "source": [
    "\n"
   ]
  },
  {
   "cell_type": "code",
   "execution_count": null,
   "id": "39c0da25",
   "metadata": {},
   "outputs": [],
   "source": []
  },
  {
   "cell_type": "code",
   "execution_count": null,
   "id": "35e45f2a",
   "metadata": {},
   "outputs": [],
   "source": []
  }
 ],
 "metadata": {
  "kernelspec": {
   "display_name": "Python 3 (ipykernel)",
   "language": "python",
   "name": "python3"
  },
  "language_info": {
   "codemirror_mode": {
    "name": "ipython",
    "version": 3
   },
   "file_extension": ".py",
   "mimetype": "text/x-python",
   "name": "python",
   "nbconvert_exporter": "python",
   "pygments_lexer": "ipython3",
   "version": "3.10.7"
  }
 },
 "nbformat": 4,
 "nbformat_minor": 5
}
