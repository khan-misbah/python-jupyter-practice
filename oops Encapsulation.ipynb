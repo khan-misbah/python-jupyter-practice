{
 "cells": [
  {
   "cell_type": "code",
   "execution_count": 13,
   "id": "a63e38bd",
   "metadata": {},
   "outputs": [
    {
     "name": "stdout",
     "output_type": "stream",
     "text": [
      "empolye name is misabh and salary is 20000\n",
      "misabh working on projcet BCA\n"
     ]
    }
   ],
   "source": [
    "#this is public method\n",
    "\n",
    "class Empolye:\n",
    "    def __init__(self,name,salary,project):\n",
    "        self.name = name\n",
    "        self.salary = salary             #data member\n",
    "        self.project = project\n",
    "        \n",
    "        # accessing public data member\n",
    "    def show(self):\n",
    "        print(f\"empolye name is {self.name} and salary is {self.salary}\")\n",
    "        \n",
    "    def work(self):\n",
    "        print(f\"{self.name} working on projcet {self.project}\")\n",
    "\n",
    "obj = Empolye(\"misabh\", 20000 , \"BCA\")          # creating object of a class\n",
    "\n",
    "obj.show()                   # calling public method of the class\n",
    "obj.work()\n",
    "        "
   ]
  },
  {
   "cell_type": "markdown",
   "id": "8d194805",
   "metadata": {},
   "source": [
    "# private members access with public method"
   ]
  },
  {
   "cell_type": "code",
   "execution_count": 21,
   "id": "3ee15ddb",
   "metadata": {},
   "outputs": [
    {
     "name": "stdout",
     "output_type": "stream",
     "text": [
      "misbah 20000\n"
     ]
    }
   ],
   "source": [
    "class Person:\n",
    "    def __init__(self,name,salary):\n",
    "        self.name = name\n",
    "        self.__salary = salary\n",
    "    def show(self):\n",
    "        print(self.name,self.__salary)\n",
    "        \n",
    "obj = Person(\"misbah\",20000)\n",
    "obj.show()"
   ]
  },
  {
   "cell_type": "markdown",
   "id": "c05537e1",
   "metadata": {},
   "source": [
    "# Name Mangling to access private members\n"
   ]
  },
  {
   "cell_type": "code",
   "execution_count": 4,
   "id": "83b0ca6e",
   "metadata": {},
   "outputs": [
    {
     "name": "stdout",
     "output_type": "stream",
     "text": [
      "aqsa\n",
      "25000\n"
     ]
    }
   ],
   "source": [
    "class Empolye:\n",
    "    def __init__(self,name,salary):\n",
    "        self.name = name\n",
    "        self.__salary = salary\n",
    "        \n",
    "obj= Empolye(\"aqsa\",25000)\n",
    "\n",
    "print(obj.name)\n",
    "print(obj._Empolye__salary)"
   ]
  },
  {
   "cell_type": "code",
   "execution_count": 8,
   "id": "7c243f20",
   "metadata": {},
   "outputs": [
    {
     "name": "stdout",
     "output_type": "stream",
     "text": [
      " the Fruit name kiwi\n",
      "the price of kiwi 200\n"
     ]
    }
   ],
   "source": [
    "class Fruit :\n",
    "    def __init__(self,name,price):\n",
    "        self.name = name\n",
    "        self.__price = price\n",
    "        \n",
    "emp = Fruit(\"kiwi\", 200)\n",
    "\n",
    "print(f\" the Fruit name {emp.name}\")\n",
    "print(f\"the price of kiwi {emp._Fruit__price}\")"
   ]
  },
  {
   "cell_type": "code",
   "execution_count": null,
   "id": "4b8961af",
   "metadata": {},
   "outputs": [],
   "source": [
    "class Student:\n",
    "    def __init__(self,name,age):\n",
    "        self.name = name\n",
    "        self.age = age\n",
    "        "
   ]
  },
  {
   "cell_type": "code",
   "execution_count": null,
   "id": "a49f7d42",
   "metadata": {},
   "outputs": [],
   "source": [
    "\n",
    "\n",
    "\n"
   ]
  },
  {
   "cell_type": "code",
   "execution_count": null,
   "id": "04e86f49",
   "metadata": {},
   "outputs": [],
   "source": []
  },
  {
   "cell_type": "code",
   "execution_count": null,
   "id": "67c01f95",
   "metadata": {},
   "outputs": [],
   "source": [
    "\n"
   ]
  }
 ],
 "metadata": {
  "kernelspec": {
   "display_name": "Python 3 (ipykernel)",
   "language": "python",
   "name": "python3"
  },
  "language_info": {
   "codemirror_mode": {
    "name": "ipython",
    "version": 3
   },
   "file_extension": ".py",
   "mimetype": "text/x-python",
   "name": "python",
   "nbconvert_exporter": "python",
   "pygments_lexer": "ipython3",
   "version": "3.10.7"
  }
 },
 "nbformat": 4,
 "nbformat_minor": 5
}
