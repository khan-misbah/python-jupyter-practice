{
 "cells": [
  {
   "cell_type": "code",
   "execution_count": 2,
   "id": "ae5fdf6c",
   "metadata": {},
   "outputs": [
    {
     "name": "stdout",
     "output_type": "stream",
     "text": [
      "my python page\n",
      "this is myb first code\n"
     ]
    }
   ],
   "source": [
    "def my_function():\n",
    "    print(\"my python page\")\n",
    "    print(\"this is my first code\")\n",
    "my_function()    \n",
    "    \n"
   ]
  },
  {
   "cell_type": "code",
   "execution_count": 33,
   "id": "76a2195a",
   "metadata": {},
   "outputs": [
    {
     "name": "stdout",
     "output_type": "stream",
     "text": [
      "banana\n",
      "mango\n",
      "kiwi\n"
     ]
    }
   ],
   "source": [
    "def my_func(furits):\n",
    "    for x in furits:\n",
    "        print(x)\n",
    "    \n",
    "mylist =[\"banana\",\"mango\",\"kiwi\"]  \n",
    "my_func(mylist)"
   ]
  },
  {
   "cell_type": "code",
   "execution_count": 19,
   "id": "e2d29e6e",
   "metadata": {},
   "outputs": [
    {
     "name": "stdout",
     "output_type": "stream",
     "text": [
      "this is blue\n",
      "this is black\n",
      "this is white\n",
      "this is red\n"
     ]
    }
   ],
   "source": [
    "def my_function(colors = \"red\"):\n",
    "    print(\"this is\" + \" \" + colors)\n",
    "my_function(\"blue\")\n",
    "my_function(\"black\")\n",
    "my_function(\"white\")\n",
    "my_function()"
   ]
  },
  {
   "cell_type": "code",
   "execution_count": 35,
   "id": "421ec29e",
   "metadata": {},
   "outputs": [
    {
     "name": "stdout",
     "output_type": "stream",
     "text": [
      "24\n",
      "12\n",
      "36\n"
     ]
    }
   ],
   "source": [
    "def my_function(x):\n",
    "    return 4 * x\n",
    "print(my_function(6))\n",
    "print(my_function(3))\n",
    "print(my_function(9))"
   ]
  },
  {
   "cell_type": "code",
   "execution_count": 48,
   "id": "a7aca75a",
   "metadata": {},
   "outputs": [
    {
     "name": "stdout",
     "output_type": "stream",
     "text": [
      "24\n",
      "64\n",
      "48\n"
     ]
    }
   ],
   "source": [
    "def my_func(y):\n",
    "    return 8 * y\n",
    "\n",
    "print(my_func(3))\n",
    "print(my_func(8))\n",
    "print(my_func(6))"
   ]
  },
  {
   "cell_type": "code",
   "execution_count": 62,
   "id": "c895b9bb",
   "metadata": {},
   "outputs": [
    {
     "name": "stdout",
     "output_type": "stream",
     "text": [
      "nida age 20\n",
      "anjum age 20\n",
      "afreen age 20\n"
     ]
    }
   ],
   "source": [
    "def my_function(fname):\n",
    "    print(fname  + \" \" + \"age\" + \" \" + \"20\")\n",
    "my_function(\"nida\")\n",
    "my_function(\"anjum\")\n",
    "my_function(\"afreen\")\n",
    "    "
   ]
  },
  {
   "cell_type": "code",
   "execution_count": 22,
   "id": "513a926c",
   "metadata": {},
   "outputs": [
    {
     "name": "stdout",
     "output_type": "stream",
     "text": [
      "pune\n",
      "mumbai\n",
      "kolkata\n",
      "gujrat\n"
     ]
    }
   ],
   "source": [
    "def my_function(city):\n",
    "    for x in city:\n",
    "        print(x)\n",
    "        \n",
    "newlist = [\"pune\",\"mumbai\",\"kolkata\",\"gujrat\"]   \n",
    "\n",
    "my_function(newlist)"
   ]
  },
  {
   "cell_type": "code",
   "execution_count": 54,
   "id": "b3bc40e9",
   "metadata": {},
   "outputs": [
    {
     "name": "stdout",
     "output_type": "stream",
     "text": [
      "the color is blue\n",
      "the color is black\n",
      "the color is red\n"
     ]
    }
   ],
   "source": [
    "def my_function(colors = \"red\"):\n",
    "    print(\"the color is\" + \" \" + colors)\n",
    "my_function(\"blue\")\n",
    "my_function(\"black\")\n",
    "my_function()"
   ]
  },
  {
   "cell_type": "code",
   "execution_count": 56,
   "id": "060311ed",
   "metadata": {},
   "outputs": [
    {
     "name": "stdout",
     "output_type": "stream",
     "text": [
      "red\n",
      "blue\n",
      "green\n",
      "black\n",
      "orange\n"
     ]
    }
   ],
   "source": [
    "def my_function(colors):\n",
    "    for i in colors:\n",
    "         print(i)\n",
    "        \n",
    "my_func_list = [\"red\", \"blue\",\"green\",\"black\",\"orange\"]  \n",
    "my_function(my_func_list)"
   ]
  },
  {
   "cell_type": "markdown",
   "id": "4c29c32a",
   "metadata": {},
   "source": [
    "# Creating a Function\n"
   ]
  },
  {
   "cell_type": "code",
   "execution_count": 60,
   "id": "2b0aa433",
   "metadata": {},
   "outputs": [
    {
     "name": "stdout",
     "output_type": "stream",
     "text": [
      "hello wolrd\n"
     ]
    }
   ],
   "source": [
    "def my_function():\n",
    "    print(\"hello wolrd\")\n",
    "    \n",
    "my_function()    \n"
   ]
  },
  {
   "cell_type": "markdown",
   "id": "7fc84d19",
   "metadata": {},
   "source": [
    "# Arguments"
   ]
  },
  {
   "cell_type": "code",
   "execution_count": 81,
   "id": "51c85cd8",
   "metadata": {},
   "outputs": [
    {
     "name": "stdout",
     "output_type": "stream",
     "text": [
      "nida khan\n",
      "misbah khan\n",
      "aqsa khan\n"
     ]
    }
   ],
   "source": [
    "def my_func(name):\n",
    "    print(name +\" \" + \"khan\" )\n",
    "my_func(\"nida\")\n",
    "my_func(\"misbah\")\n",
    "my_func(\"aqsa\")"
   ]
  },
  {
   "cell_type": "markdown",
   "id": "490ddb37",
   "metadata": {},
   "source": [
    "# args"
   ]
  },
  {
   "cell_type": "code",
   "execution_count": 107,
   "id": "6313759a",
   "metadata": {},
   "outputs": [
    {
     "name": "stdout",
     "output_type": "stream",
     "text": [
      "this no 66\n"
     ]
    }
   ],
   "source": [
    "def my_func(*numbers):\n",
    "    print(\"this no\" + \" \" + numbers[3])\n",
    "my_func(\"2\",\"6\",\"4\",\"66\",) \n",
    "\n",
    " "
   ]
  },
  {
   "cell_type": "markdown",
   "id": "69dc8c7a",
   "metadata": {},
   "source": [
    "# kwargs"
   ]
  },
  {
   "cell_type": "code",
   "execution_count": 6,
   "id": "b03ceb10",
   "metadata": {},
   "outputs": [
    {
     "ename": "SyntaxError",
     "evalue": "invalid syntax (1675564829.py, line 2)",
     "output_type": "error",
     "traceback": [
      "\u001b[1;36m  Cell \u001b[1;32mIn [6], line 2\u001b[1;36m\u001b[0m\n\u001b[1;33m    print(\"name\": \"misbah\",\"age\" : 20,\"lname\":\"khan\")\u001b[0m\n\u001b[1;37m                ^\u001b[0m\n\u001b[1;31mSyntaxError\u001b[0m\u001b[1;31m:\u001b[0m invalid syntax\n"
     ]
    }
   ],
   "source": [
    "def my_func(**kwargs):\n",
    "    print(\"name\": \"misbah\",\"age\" : 20,\"lname\":\"khan\")\n",
    "    pass\n",
    "my_func(\"name\")    \n",
    "    \n",
    "    \n",
    "\n",
    "    \n",
    "\n"
   ]
  },
  {
   "cell_type": "code",
   "execution_count": null,
   "id": "56db5874",
   "metadata": {},
   "outputs": [],
   "source": []
  },
  {
   "cell_type": "code",
   "execution_count": 71,
   "id": "87aa2274",
   "metadata": {},
   "outputs": [
    {
     "name": "stdout",
     "output_type": "stream",
     "text": [
      "8\n"
     ]
    }
   ],
   "source": [
    "def my_func(a,b):\n",
    "    print(a + b)\n",
    "my_func(3 , 5)    "
   ]
  },
  {
   "cell_type": "code",
   "execution_count": 64,
   "id": "792e0d17",
   "metadata": {},
   "outputs": [],
   "source": [
    "# squre fined by function"
   ]
  },
  {
   "cell_type": "code",
   "execution_count": 61,
   "id": "47ea2ded",
   "metadata": {},
   "outputs": [
    {
     "name": "stdout",
     "output_type": "stream",
     "text": [
      "16\n"
     ]
    }
   ],
   "source": [
    "def my_func(a):\n",
    "    b = a**2\n",
    "    return b\n",
    "i = my_func(4)\n",
    "print(i)"
   ]
  },
  {
   "cell_type": "code",
   "execution_count": 65,
   "id": "c5772897",
   "metadata": {},
   "outputs": [],
   "source": [
    "# cube fined by function\n"
   ]
  },
  {
   "cell_type": "code",
   "execution_count": 58,
   "id": "8bcbbcd0",
   "metadata": {},
   "outputs": [
    {
     "name": "stdout",
     "output_type": "stream",
     "text": [
      "216\n"
     ]
    }
   ],
   "source": [
    "def my_func(a):\n",
    "    b = a**3\n",
    "    return b\n",
    "s = my_func(6)\n",
    "print(s)\n"
   ]
  },
  {
   "cell_type": "code",
   "execution_count": 63,
   "id": "e7adfe50",
   "metadata": {},
   "outputs": [
    {
     "data": {
      "text/plain": [
       "14"
      ]
     },
     "execution_count": 63,
     "metadata": {},
     "output_type": "execute_result"
    }
   ],
   "source": [
    "def my_func(a):\n",
    "    b = a*2\n",
    "    return b\n",
    "my_func(7)"
   ]
  },
  {
   "cell_type": "code",
   "execution_count": 72,
   "id": "3b03bc1f",
   "metadata": {},
   "outputs": [
    {
     "data": {
      "text/plain": [
       "8"
      ]
     },
     "execution_count": 72,
     "metadata": {},
     "output_type": "execute_result"
    }
   ],
   "source": [
    "def my_func(a,b):\n",
    "    return (a + b)\n",
    "my_func(3 , 5)  "
   ]
  },
  {
   "cell_type": "code",
   "execution_count": 66,
   "id": "5152a945",
   "metadata": {},
   "outputs": [],
   "source": [
    "# table by function"
   ]
  },
  {
   "cell_type": "code",
   "execution_count": null,
   "id": "9d5b0d2e",
   "metadata": {},
   "outputs": [],
   "source": []
  },
  {
   "cell_type": "code",
   "execution_count": 45,
   "id": "1bed8fe3",
   "metadata": {},
   "outputs": [
    {
     "name": "stdout",
     "output_type": "stream",
     "text": [
      "5\n",
      "10\n",
      "15\n",
      "20\n",
      "25\n",
      "30\n",
      "35\n",
      "40\n",
      "45\n",
      "50\n"
     ]
    }
   ],
   "source": [
    "def my_func(a):\n",
    "    for i in range(1,11):\n",
    "        b = i * a \n",
    "        print(b)\n",
    "a = my_func(5)  "
   ]
  },
  {
   "cell_type": "code",
   "execution_count": 48,
   "id": "6972e44f",
   "metadata": {},
   "outputs": [
    {
     "name": "stdout",
     "output_type": "stream",
     "text": [
      "7\n",
      "14\n",
      "21\n",
      "28\n",
      "35\n",
      "42\n",
      "49\n",
      "56\n",
      "63\n",
      "70\n"
     ]
    }
   ],
   "source": [
    "def my_func(a):\n",
    "    for i in range(1,11):\n",
    "        b = i *a\n",
    "        print(b)\n",
    "my_func(7)        \n",
    "        \n",
    "        "
   ]
  },
  {
   "cell_type": "code",
   "execution_count": 79,
   "id": "07dc57b7",
   "metadata": {},
   "outputs": [
    {
     "name": "stdout",
     "output_type": "stream",
     "text": [
      "512\n",
      "343\n",
      "216\n",
      "125\n"
     ]
    }
   ],
   "source": [
    "def my_func(x):\n",
    "    for i in x:\n",
    "        b = i**3\n",
    "        print(b)\n",
    "c = [8,7,6,5]\n",
    "my_func(c)"
   ]
  },
  {
   "cell_type": "code",
   "execution_count": 78,
   "id": "a4b1667e",
   "metadata": {},
   "outputs": [
    {
     "name": "stdout",
     "output_type": "stream",
     "text": [
      "8\n",
      "27\n",
      "64\n"
     ]
    }
   ],
   "source": [
    "def my_func(a):\n",
    "     for i in a:\n",
    "            c = i**3\n",
    "            print(c)\n",
    "            \n",
    "x = [2,3,4]\n",
    "my_func(x)\n",
    "            "
   ]
  },
  {
   "cell_type": "code",
   "execution_count": 67,
   "id": "bea009f0",
   "metadata": {},
   "outputs": [],
   "source": [
    "# fined list no of squre"
   ]
  },
  {
   "cell_type": "code",
   "execution_count": 76,
   "id": "dda75349",
   "metadata": {},
   "outputs": [
    {
     "name": "stdout",
     "output_type": "stream",
     "text": [
      "4\n",
      "9\n",
      "16\n"
     ]
    }
   ],
   "source": [
    "def my_func(a):\n",
    "    for i in a:\n",
    "        print(i*i)\n",
    "a=[2,3,4]\n",
    "(my_func(a)) "
   ]
  },
  {
   "cell_type": "markdown",
   "id": "1d48e8fe",
   "metadata": {},
   "source": [
    "# lambda function"
   ]
  },
  {
   "cell_type": "code",
   "execution_count": 10,
   "id": "b883f5b4",
   "metadata": {},
   "outputs": [
    {
     "name": "stdout",
     "output_type": "stream",
     "text": [
      "26\n"
     ]
    }
   ],
   "source": [
    "x = lambda a , b ,c: a + b + c\n",
    "print(x(5,9,12))"
   ]
  },
  {
   "cell_type": "code",
   "execution_count": 8,
   "id": "fa1d8731",
   "metadata": {},
   "outputs": [
    {
     "name": "stdout",
     "output_type": "stream",
     "text": [
      "18\n"
     ]
    }
   ],
   "source": [
    "x = lambda a ,b: a * b\n",
    "print(x(2,9))"
   ]
  },
  {
   "cell_type": "code",
   "execution_count": 50,
   "id": "cfbd27fb",
   "metadata": {},
   "outputs": [
    {
     "name": "stdout",
     "output_type": "stream",
     "text": [
      "56\n"
     ]
    }
   ],
   "source": [
    "a = lambda x,y,z: x*y*z\n",
    "print(a(2,7,4))    \n",
    "    "
   ]
  },
  {
   "cell_type": "code",
   "execution_count": 14,
   "id": "6b7e618c",
   "metadata": {},
   "outputs": [
    {
     "name": "stdout",
     "output_type": "stream",
     "text": [
      "45\n"
     ]
    }
   ],
   "source": [
    "def my_func(n):\n",
    "    return lambda a : a * n\n",
    "mynew_func = my_func(5)\n",
    "print(mynew_func(9))"
   ]
  },
  {
   "cell_type": "code",
   "execution_count": null,
   "id": "317b3416",
   "metadata": {},
   "outputs": [],
   "source": []
  },
  {
   "cell_type": "code",
   "execution_count": 19,
   "id": "d31b3ee9",
   "metadata": {},
   "outputs": [
    {
     "name": "stdout",
     "output_type": "stream",
     "text": [
      "54\n"
     ]
    }
   ],
   "source": [
    "def my_new_func(a):\n",
    "    return lambda z : z * a\n",
    "\n",
    "my_function = my_new_func(9)\n",
    "print(my_function(6))"
   ]
  },
  {
   "cell_type": "code",
   "execution_count": 80,
   "id": "3a98c047",
   "metadata": {},
   "outputs": [
    {
     "name": "stdout",
     "output_type": "stream",
     "text": [
      "36\n",
      "49\n"
     ]
    }
   ],
   "source": [
    "def my_func(y):\n",
    "    return lambda a : a *y\n",
    "\n",
    "my_function = my_func(4)\n",
    "my_new_func = my_func(7)\n",
    "\n",
    "print(my_function(9))\n",
    "print(my_new_func(7))"
   ]
  },
  {
   "cell_type": "code",
   "execution_count": 2,
   "id": "68f248d2",
   "metadata": {},
   "outputs": [
    {
     "name": "stdout",
     "output_type": "stream",
     "text": [
      "eiay\n"
     ]
    }
   ],
   "source": [
    "s = \"pynative\"\n",
    "print(s[::-2])"
   ]
  },
  {
   "cell_type": "code",
   "execution_count": 8,
   "id": "c247c17f",
   "metadata": {},
   "outputs": [
    {
     "name": "stdout",
     "output_type": "stream",
     "text": [
      "28\n",
      "24\n"
     ]
    }
   ],
   "source": [
    "def myfunc(z):\n",
    "    return lambda b : b*z\n",
    "newfunc = myfunc(4)\n",
    "function = myfunc(3)\n",
    "print(newfunc(7))\n",
    "print(function(8))\n"
   ]
  },
  {
   "cell_type": "code",
   "execution_count": 20,
   "id": "c81cd4c5",
   "metadata": {},
   "outputs": [
    {
     "name": "stdout",
     "output_type": "stream",
     "text": [
      "14\n"
     ]
    }
   ],
   "source": [
    "z = lambda  a,b,c:a + b + c\n",
    "print (z(3,5,6))"
   ]
  },
  {
   "cell_type": "code",
   "execution_count": 24,
   "id": "b9306a15",
   "metadata": {},
   "outputs": [
    {
     "name": "stdout",
     "output_type": "stream",
     "text": [
      "27\n"
     ]
    }
   ],
   "source": [
    "a = lambda x,y, : x *y\n",
    "print(a(3,9,))"
   ]
  },
  {
   "cell_type": "code",
   "execution_count": 2,
   "id": "15767197",
   "metadata": {},
   "outputs": [
    {
     "name": "stdout",
     "output_type": "stream",
     "text": [
      "21\n",
      "18\n"
     ]
    }
   ],
   "source": [
    "def my_func(n):\n",
    "    return lambda a:a*n\n",
    "new_func = my_func(3)\n",
    "function = my_func(6)\n",
    "print(new_func(7))\n",
    "print(function(3))"
   ]
  },
  {
   "cell_type": "code",
   "execution_count": 3,
   "id": "6442ee2d",
   "metadata": {},
   "outputs": [
    {
     "name": "stdout",
     "output_type": "stream",
     "text": [
      "12\n"
     ]
    }
   ],
   "source": [
    "x = lambda a,b:a + b\n",
    "print(x(4,8))"
   ]
  },
  {
   "cell_type": "code",
   "execution_count": 1,
   "id": "5812312f",
   "metadata": {},
   "outputs": [
    {
     "name": "stdout",
     "output_type": "stream",
     "text": [
      "hello\n"
     ]
    }
   ],
   "source": [
    "def my_func():\n",
    "    print(\"hello\")\n",
    "my_func()    \n",
    "    "
   ]
  },
  {
   "cell_type": "code",
   "execution_count": 4,
   "id": "4e6d9226",
   "metadata": {},
   "outputs": [
    {
     "name": "stdout",
     "output_type": "stream",
     "text": [
      "63\n"
     ]
    }
   ],
   "source": [
    "def func(a,b):\n",
    "    return a*b \n",
    "c = func(7,9)\n",
    "print(c)"
   ]
  },
  {
   "cell_type": "code",
   "execution_count": 22,
   "id": "38576ad7",
   "metadata": {},
   "outputs": [
    {
     "name": "stdout",
     "output_type": "stream",
     "text": [
      "1\n",
      "2\n",
      "3\n",
      "4\n",
      "5\n",
      "6\n",
      "7\n",
      "8\n",
      "9\n",
      "10\n"
     ]
    }
   ],
   "source": [
    "def func():\n",
    "    for i in range(1,11):\n",
    "        b = i\n",
    "        print(b)\n",
    "func()"
   ]
  },
  {
   "cell_type": "code",
   "execution_count": 12,
   "id": "28bd3fd6",
   "metadata": {},
   "outputs": [
    {
     "name": "stdout",
     "output_type": "stream",
     "text": [
      "['even', 'even', 'odd', 'even', 'odd']\n"
     ]
    }
   ],
   "source": [
    "def myfunc(a):\n",
    "    for i in a:\n",
    "        if i %2==0:\n",
    "            c.append(\"even\")\n",
    "        else:\n",
    "            c.append(\"odd\")\n",
    "            \n",
    "c = []\n",
    "b = [8,2,5,6,7]\n",
    "myfunc(b)\n",
    "print(c)\n",
    "\n",
    "    "
   ]
  },
  {
   "cell_type": "code",
   "execution_count": 13,
   "id": "70d18563",
   "metadata": {},
   "outputs": [
    {
     "name": "stdout",
     "output_type": "stream",
     "text": [
      "even\n",
      "odd\n",
      "even\n",
      "odd\n",
      "even\n"
     ]
    }
   ],
   "source": [
    "def new_func(a):\n",
    "    for i in a:\n",
    "        if i %2==0:\n",
    "            print(\"even\")\n",
    "        else:\n",
    "            print(\"odd\")\n",
    "b = [4,9,2,5,6]\n",
    "new_func(b)"
   ]
  },
  {
   "cell_type": "code",
   "execution_count": 30,
   "id": "b0c1666e",
   "metadata": {},
   "outputs": [
    {
     "name": "stdout",
     "output_type": "stream",
     "text": [
      "90\n"
     ]
    }
   ],
   "source": [
    "a =[63,78,90,2,3]\n",
    "b = 0\n",
    "for i in a:\n",
    "    if i > b:\n",
    "        b = i\n",
    "print(b)        \n",
    "        "
   ]
  },
  {
   "cell_type": "code",
   "execution_count": 31,
   "id": "6119f8cd",
   "metadata": {},
   "outputs": [
    {
     "name": "stdout",
     "output_type": "stream",
     "text": [
      "0.3\n"
     ]
    }
   ],
   "source": [
    "a = [9,0.3,7,4,1]\n",
    "b = 3\n",
    "for i in a:\n",
    "    if i < b:\n",
    "        b = i\n",
    "print(b)        "
   ]
  },
  {
   "cell_type": "code",
   "execution_count": null,
   "id": "a8a037bc",
   "metadata": {},
   "outputs": [],
   "source": []
  },
  {
   "cell_type": "code",
   "execution_count": null,
   "id": "8941c409",
   "metadata": {},
   "outputs": [],
   "source": [
    "\n"
   ]
  },
  {
   "cell_type": "code",
   "execution_count": null,
   "id": "778006bb",
   "metadata": {},
   "outputs": [],
   "source": []
  },
  {
   "cell_type": "code",
   "execution_count": null,
   "id": "044b85fc",
   "metadata": {},
   "outputs": [],
   "source": []
  }
 ],
 "metadata": {
  "kernelspec": {
   "display_name": "Python 3 (ipykernel)",
   "language": "python",
   "name": "python3"
  },
  "language_info": {
   "codemirror_mode": {
    "name": "ipython",
    "version": 3
   },
   "file_extension": ".py",
   "mimetype": "text/x-python",
   "name": "python",
   "nbconvert_exporter": "python",
   "pygments_lexer": "ipython3",
   "version": "3.10.7"
  }
 },
 "nbformat": 4,
 "nbformat_minor": 5
}
