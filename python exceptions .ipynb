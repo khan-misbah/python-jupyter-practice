{
 "cells": [
  {
   "cell_type": "markdown",
   "id": "f921a9e7",
   "metadata": {},
   "source": [
    "## try:\n",
    "    a = int(input(\"enter the number \"))\n",
    "    b = int(input(\"enter the number \"))\n",
    "    c = a / b\n",
    "    print(\"the answer of divide by b :\",c)\n",
    "except:\n",
    "    print(\"can't divide by zero. enter different number\")"
   ]
  },
  {
   "cell_type": "code",
   "execution_count": 17,
   "id": "a08ef75d",
   "metadata": {},
   "outputs": [
    {
     "name": "stdout",
     "output_type": "stream",
     "text": [
      "the answer\n"
     ]
    }
   ],
   "source": [
    "try:\n",
    "    a = 10\n",
    "    b = 14\n",
    "    if a != b:\n",
    "        print(\"the answer\")\n",
    "except:\n",
    "    print(\"the wrong answer\")"
   ]
  },
  {
   "cell_type": "code",
   "execution_count": 8,
   "id": "f6ca0b34",
   "metadata": {},
   "outputs": [
    {
     "name": "stdout",
     "output_type": "stream",
     "text": [
      "enter the value of a 9\n",
      "enter the value of b 0\n",
      "the answer of a multipay by : 0\n"
     ]
    }
   ],
   "source": [
    "try:\n",
    "    x = int(input(\"enter the value of a \"))\n",
    "    y = int(input(\"enter the value of b \"))\n",
    "    z = x * y\n",
    "    print(\"the answer of a multipay by :\",z)\n",
    "except:\n",
    "    print(\"can't multipay by zero. try another number\")\n",
    "    "
   ]
  },
  {
   "cell_type": "code",
   "execution_count": 12,
   "id": "3a8c20aa",
   "metadata": {},
   "outputs": [
    {
     "name": "stdout",
     "output_type": "stream",
     "text": [
      "enter the value of a 8\n",
      "enter the value of a 0\n",
      "can't divide by zero \n",
      "Inside a finally block\n"
     ]
    }
   ],
   "source": [
    "#Using try with finally\n",
    "\n",
    "try:\n",
    "    a = int(input(\"enter the value of a \"))\n",
    "    b = int(input(\"enter the value of a \"))\n",
    "    c = a / b\n",
    "    print(\"the answer of a divide by b :\",c)\n",
    "except:\n",
    "    print(\"can't divide by zero \")\n",
    "finally:\n",
    "    print(\"Inside a finally block\")"
   ]
  },
  {
   "cell_type": "code",
   "execution_count": 12,
   "id": "53fcb605",
   "metadata": {},
   "outputs": [
    {
     "name": "stdout",
     "output_type": "stream",
     "text": [
      "enter the value of x 8\n",
      "enter thr value of y 0\n",
      "can't divide by zero\n",
      "the finally block\n"
     ]
    }
   ],
   "source": [
    "try:\n",
    "    x = int(input(\"enter the value of x \"))\n",
    "    y = int(input(\"enter thr value of y \"))\n",
    "    z = x / y\n",
    "    print(\"the answer of divide by y: \", z)\n",
    "except:\n",
    "    print(\"can't divide by zero\")\n",
    "finally:\n",
    "    print(\"the finally block\")"
   ]
  },
  {
   "cell_type": "code",
   "execution_count": 14,
   "id": "943d0020",
   "metadata": {},
   "outputs": [
    {
     "name": "stdout",
     "output_type": "stream",
     "text": [
      "Enter value of a:8\n",
      "Enter value of b:4\n",
      "a/b = 2 \n",
      "We are in else block \n"
     ]
    }
   ],
   "source": [
    "#Using try with else clause\n",
    "\n",
    "try:\n",
    "    a = int(input(\"Enter value of a:\"))\n",
    "    b = int(input(\"Enter value of b:\"))\n",
    "    c = a / b\n",
    "    print(\"a/b = %d \" %  c)\n",
    "\n",
    "except ZeroDivisionError:\n",
    "    print(\"Can't divide by zero\")\n",
    "else:\n",
    "    print(\"We are in else block \")\n"
   ]
  },
  {
   "cell_type": "code",
   "execution_count": 7,
   "id": "6b919a16",
   "metadata": {},
   "outputs": [
    {
     "name": "stdout",
     "output_type": "stream",
     "text": [
      "Enter the value of x 5\n",
      "Enter the value of y 8\n",
      "result 0.625\n"
     ]
    }
   ],
   "source": [
    "try:\n",
    "    x = int(input(\"Enter the value of x \"))\n",
    "    y = int(input(\"Enter the value of y \"))\n",
    "    z = x / y\n",
    "    print(\"result\",z)\n",
    "except:\n",
    "    print(\"can't divide by zero. put other value\")"
   ]
  },
  {
   "cell_type": "code",
   "execution_count": 6,
   "id": "aab0a845",
   "metadata": {},
   "outputs": [
    {
     "name": "stdout",
     "output_type": "stream",
     "text": [
      "case 1\n",
      "the simple interest is 7038.0\n",
      "case 2\n",
      "interest rate is out of range 900\n"
     ]
    }
   ],
   "source": [
    "#Raising an Exceptions\n",
    "\n",
    "def simple_interest(amount,year,rate):\n",
    "    try:\n",
    "        if rate > 100:\n",
    "            raise ValueError(rate)\n",
    "        interest = (amount * year * rate) / 100\n",
    "        print(\"the simple interest is\", interest)\n",
    "        return interest\n",
    "    except ValueError:\n",
    "        print(\"interest rate is out of range\", rate)\n",
    "print('case 1')\n",
    "simple_interest(900, 34,23)\n",
    "\n",
    "print('case 2')\n",
    "simple_interest(900, 80,900)\n"
   ]
  },
  {
   "cell_type": "code",
   "execution_count": 23,
   "id": "c8de8042",
   "metadata": {},
   "outputs": [
    {
     "name": "stdout",
     "output_type": "stream",
     "text": [
      "case 1\n",
      "the fees amount is out of range  700\n",
      "case 2\n",
      "the amount of : 36.0\n"
     ]
    },
    {
     "data": {
      "text/plain": [
       "36.0"
      ]
     },
     "execution_count": 23,
     "metadata": {},
     "output_type": "execute_result"
    }
   ],
   "source": [
    "def Student_fees(amount,year):\n",
    "    try:\n",
    "        if amount > 500:\n",
    "            raise ValueError(amount)\n",
    "        fees = (amount * year) / 100\n",
    "        print(\"the amount of :\", fees)\n",
    "        return fees\n",
    "    except ValueError:\n",
    "        print(\"the fees amount is out of range \", amount)\n",
    "print('case 1')\n",
    "Student_fees(700,8)\n",
    "\n",
    "print('case 2')\n",
    "Student_fees(400, 9)"
   ]
  },
  {
   "cell_type": "code",
   "execution_count": 19,
   "id": "6f340759",
   "metadata": {},
   "outputs": [
    {
     "name": "stdout",
     "output_type": "stream",
     "text": [
      "Enter value of a:0\n",
      "Enter value of b:9\n",
      "The answer of a divide by b: 0.0\n"
     ]
    }
   ],
   "source": [
    "try:\n",
    "    a = int(input(\"Enter value of a:\"))\n",
    "    b = int(input(\"Enter value of b:\"))\n",
    "    c = a / b\n",
    "    print(\"The answer of a divide by b:\", c)\n",
    "    \n",
    "except(ValueError, ZeroDivisionError):\n",
    "    print(\"please enter vaild value\")\n",
    "                                       "
   ]
  },
  {
   "cell_type": "code",
   "execution_count": null,
   "id": "104c3ba6",
   "metadata": {},
   "outputs": [],
   "source": []
  },
  {
   "cell_type": "code",
   "execution_count": null,
   "id": "eb9ac66c",
   "metadata": {},
   "outputs": [],
   "source": []
  }
 ],
 "metadata": {
  "kernelspec": {
   "display_name": "Python 3 (ipykernel)",
   "language": "python",
   "name": "python3"
  },
  "language_info": {
   "codemirror_mode": {
    "name": "ipython",
    "version": 3
   },
   "file_extension": ".py",
   "mimetype": "text/x-python",
   "name": "python",
   "nbconvert_exporter": "python",
   "pygments_lexer": "ipython3",
   "version": "3.10.7"
  }
 },
 "nbformat": 4,
 "nbformat_minor": 5
}
