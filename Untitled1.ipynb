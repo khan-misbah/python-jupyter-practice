{
 "cells": [
  {
   "cell_type": "code",
   "execution_count": 204,
   "id": "5746eb0d",
   "metadata": {},
   "outputs": [
    {
     "name": "stdout",
     "output_type": "stream",
     "text": [
      "['even', 'even', 'odd', 'odd']\n"
     ]
    }
   ],
   "source": [
    "def my_func(x):\n",
    "    for i in x:\n",
    "        if i%2==0:\n",
    "            b.append(\"even\")\n",
    "        else:\n",
    "            b.append(\"odd\")\n",
    "b = []\n",
    "a = [4,8,9,3]\n",
    "my_func(a)\n",
    "print(b)\n"
   ]
  },
  {
   "cell_type": "code",
   "execution_count": 135,
   "id": "03c1c0a8",
   "metadata": {},
   "outputs": [
    {
     "name": "stdout",
     "output_type": "stream",
     "text": [
      "6\n"
     ]
    }
   ],
   "source": [
    "a = [3,2,6,4,1,5] \n",
    "for i in range(1,len(a)):\n",
    "    while a[i-1]> a[i] and i>0:\n",
    "        a[i-1],a[i]=a[i],a[i-1]\n",
    "        i = i - 1\n",
    "print(a[-1])"
   ]
  },
  {
   "cell_type": "code",
   "execution_count": 141,
   "id": "c92367aa",
   "metadata": {},
   "outputs": [
    {
     "name": "stdout",
     "output_type": "stream",
     "text": [
      "['even', 'odd', 'odd', 'odd', 'even']\n"
     ]
    }
   ],
   "source": [
    "a = [2,7,9,3,4]\n",
    "b = [\"even\" if i%2==0 else \"odd\" for i in a]\n",
    "print(b)"
   ]
  },
  {
   "cell_type": "code",
   "execution_count": 142,
   "id": "da19b221",
   "metadata": {},
   "outputs": [
    {
     "name": "stdout",
     "output_type": "stream",
     "text": [
      "9\n"
     ]
    }
   ],
   "source": [
    "a = [7,8,9,3]\n",
    "b = 0\n",
    "for i in a:\n",
    "    if i>b:\n",
    "        b=i\n",
    "print(b)        \n",
    "    \n",
    "     "
   ]
  },
  {
   "cell_type": "code",
   "execution_count": 159,
   "id": "fe5c53e6",
   "metadata": {},
   "outputs": [
    {
     "name": "stdout",
     "output_type": "stream",
     "text": [
      "6\n",
      "12\n",
      "18\n",
      "24\n",
      "30\n",
      "36\n",
      "42\n",
      "48\n",
      "54\n",
      "60\n"
     ]
    }
   ],
   "source": [
    "def my_func(a):\n",
    "    for i in range(1,11):\n",
    "        b = i *a\n",
    "        print(b)\n",
    "my_func(6)\n",
    "\n",
    "    \n",
    "     \n",
    "\n",
    "    \n"
   ]
  },
  {
   "cell_type": "code",
   "execution_count": 85,
   "id": "c9a1f435",
   "metadata": {},
   "outputs": [
    {
     "name": "stdout",
     "output_type": "stream",
     "text": [
      "[1, 2, 3, 4, 5, 'a', 'b', 'c', 'd']\n"
     ]
    }
   ],
   "source": [
    "a = [1,2,3,4,5]\n",
    "b = [\"a\",\"b\",\"c\",\"d\"]\n",
    "a.extend(b)\n",
    "print(a)"
   ]
  },
  {
   "cell_type": "code",
   "execution_count": 126,
   "id": "de608eae",
   "metadata": {},
   "outputs": [
    {
     "name": "stdout",
     "output_type": "stream",
     "text": [
      "name\n",
      "lname\n",
      "age\n"
     ]
    }
   ],
   "source": [
    "x = {\n",
    "  \"name\":\"misbah\",\n",
    "    \"lname\":\"khan\",\n",
    "    \"age\":20,  \n",
    "}\n",
    "for i in x:\n",
    "    print(i)\n",
    "             \n",
    "            \n",
    "    "
   ]
  },
  {
   "cell_type": "code",
   "execution_count": 133,
   "id": "05b9abfb",
   "metadata": {},
   "outputs": [
    {
     "name": "stdout",
     "output_type": "stream",
     "text": [
      "True\n"
     ]
    }
   ],
   "source": [
    "a = [\"Apple\", \"banana\", \"cherry\", \"mango\"]\n",
    "print(\"cherry\" in a)\n"
   ]
  },
  {
   "cell_type": "code",
   "execution_count": 186,
   "id": "06cb7197",
   "metadata": {},
   "outputs": [
    {
     "name": "stdout",
     "output_type": "stream",
     "text": [
      "odd\n",
      "even\n",
      "odd\n",
      "even\n",
      "odd\n"
     ]
    }
   ],
   "source": [
    "def my_func(a):\n",
    "    for i in a:\n",
    "        if i %2==0:\n",
    "            print(\"even\")\n",
    "        else:\n",
    "            print(\"odd\")\n",
    "b = [3,8,5,2,9]\n",
    "my_func(b)"
   ]
  },
  {
   "cell_type": "code",
   "execution_count": null,
   "id": "fd4f7c90",
   "metadata": {},
   "outputs": [],
   "source": []
  },
  {
   "cell_type": "code",
   "execution_count": 243,
   "id": "8707cfce",
   "metadata": {},
   "outputs": [
    {
     "name": "stdout",
     "output_type": "stream",
     "text": [
      "15\n"
     ]
    }
   ],
   "source": [
    "def func(a):\n",
    "    for i in a:\n",
    "        c = sum(a)\n",
    "        return c\n",
    "        \n",
    "b = [3,8,4]\n",
    "x = func(b)\n",
    "print(x)\n"
   ]
  },
  {
   "cell_type": "code",
   "execution_count": 260,
   "id": "59cbec5b",
   "metadata": {},
   "outputs": [
    {
     "name": "stdout",
     "output_type": "stream",
     "text": [
      "2\n",
      "4\n",
      "5\n",
      "6\n",
      "7\n"
     ]
    }
   ],
   "source": [
    "a = [2,4,5,6,7]\n",
    "for i in a:\n",
    "    print(i)"
   ]
  },
  {
   "cell_type": "code",
   "execution_count": 262,
   "id": "3bd395d8",
   "metadata": {},
   "outputs": [
    {
     "name": "stdout",
     "output_type": "stream",
     "text": [
      "27\n"
     ]
    }
   ],
   "source": [
    "def my_func(a,b):\n",
    "    return a*b\n",
    "x = my_func(9,3)\n",
    "print(x)"
   ]
  },
  {
   "cell_type": "code",
   "execution_count": 264,
   "id": "697f8392",
   "metadata": {},
   "outputs": [
    {
     "name": "stdout",
     "output_type": "stream",
     "text": [
      "[1, 2, 3, 5, 6, 9]\n"
     ]
    }
   ],
   "source": [
    "a = [3,5,6,2,1,9]\n",
    "a.sort()\n",
    "print(a)"
   ]
  },
  {
   "cell_type": "code",
   "execution_count": 269,
   "id": "70957a0f",
   "metadata": {},
   "outputs": [
    {
     "name": "stdout",
     "output_type": "stream",
     "text": [
      "9\n"
     ]
    }
   ],
   "source": [
    "a = [4,2,3]\n",
    "b = 0\n",
    "for i in a:\n",
    "    b = b + i\n",
    "print(b)    "
   ]
  },
  {
   "cell_type": "code",
   "execution_count": 271,
   "id": "4770d358",
   "metadata": {},
   "outputs": [
    {
     "name": "stdout",
     "output_type": "stream",
     "text": [
      "['d', 'c', 'b', 'a']\n"
     ]
    }
   ],
   "source": [
    "a = [\"a\",\"b\",\"c\",\"d\"]\n",
    "a.reverse()\n",
    "print(a)"
   ]
  },
  {
   "cell_type": "code",
   "execution_count": 273,
   "id": "49a60cbc",
   "metadata": {},
   "outputs": [
    {
     "name": "stdout",
     "output_type": "stream",
     "text": [
      "['a', 'b', 'c', 'd', 'e']\n"
     ]
    }
   ],
   "source": [
    "x = [\"a\",\"b\",\"c\",\"d\"]\n",
    "x.append(\"e\")\n",
    "print(x)"
   ]
  },
  {
   "cell_type": "code",
   "execution_count": 276,
   "id": "8cf124e3",
   "metadata": {},
   "outputs": [
    {
     "name": "stdout",
     "output_type": "stream",
     "text": [
      "['ab', 'cd', 'dc', 'ba']\n"
     ]
    }
   ],
   "source": [
    "z = [\"ab\",\"cd\",\"ba\"]\n",
    "z.insert(2,\"dc\")\n",
    "print(z)\n"
   ]
  },
  {
   "cell_type": "code",
   "execution_count": 281,
   "id": "c31cdc01",
   "metadata": {},
   "outputs": [
    {
     "name": "stdout",
     "output_type": "stream",
     "text": [
      "3\n"
     ]
    }
   ],
   "source": [
    "y = [3,5,2,4,2,3,2]\n",
    "x = y.count(2)\n",
    "print(x)"
   ]
  },
  {
   "cell_type": "code",
   "execution_count": 282,
   "id": "e702288b",
   "metadata": {},
   "outputs": [
    {
     "name": "stdout",
     "output_type": "stream",
     "text": [
      "[3, 5, 8]\n"
     ]
    }
   ],
   "source": [
    "a = [3,5,7,8]\n",
    "a.remove(7)\n",
    "print(a)"
   ]
  },
  {
   "cell_type": "markdown",
   "id": "4a5c2ba7",
   "metadata": {},
   "source": [
    "# strings"
   ]
  },
  {
   "cell_type": "markdown",
   "id": "e23a99ea",
   "metadata": {},
   "source": [
    "# Method Using .join() method \n",
    "\n"
   ]
  },
  {
   "cell_type": "code",
   "execution_count": 3,
   "id": "c637cf11",
   "metadata": {},
   "outputs": [
    {
     "name": "stdout",
     "output_type": "stream",
     "text": [
      "red blue black\n"
     ]
    }
   ],
   "source": [
    "def mylist(s):\n",
    "    srt1= \" \"\n",
    "    return (srt1.join(s))\n",
    "s = [\"red\",\"blue\",\"black\"]\n",
    "print(mylist(s))"
   ]
  },
  {
   "cell_type": "markdown",
   "id": "5cf9918d",
   "metadata": {},
   "source": [
    "# Iterate through the list and keep adding the element for every index in some empty string."
   ]
  },
  {
   "cell_type": "code",
   "execution_count": 33,
   "id": "13a784a6",
   "metadata": {},
   "outputs": [
    {
     "name": "stdout",
     "output_type": "stream",
     "text": [
      "  \n"
     ]
    }
   ],
   "source": [
    "def mylist(s):\n",
    "    str1 = \" \"\n",
    "    for a in str1:\n",
    "        str1 +=a\n",
    "        return str1\n",
    "\n",
    "s = ['my','new','code']\n",
    "\n",
    "print(mylist(s))\n",
    "            \n",
    "        "
   ]
  },
  {
   "cell_type": "markdown",
   "id": "818adf16",
   "metadata": {},
   "source": [
    "#  Using list comprehension"
   ]
  },
  {
   "cell_type": "code",
   "execution_count": 23,
   "id": "14bf0b14",
   "metadata": {},
   "outputs": [
    {
     "name": "stdout",
     "output_type": "stream",
     "text": [
      "my new code\n"
     ]
    }
   ],
   "source": [
    "a = [\"this\",\"is\",\"my\",\"python\",\"code\"]\n",
    "mylist = ' ' .join([str(b)for b in s])\n",
    "print(mylist)"
   ]
  },
  {
   "cell_type": "code",
   "execution_count": 34,
   "id": "83860df1",
   "metadata": {},
   "outputs": [
    {
     "name": "stdout",
     "output_type": "stream",
     "text": [
      "  my new python code\n"
     ]
    }
   ],
   "source": [
    "a = [\"my\",\"new\",\"python\",\"code\"]\n",
    "mystri= ' '\n",
    "for x in a:\n",
    "    mystri+= ' ' + x\n",
    "print(mystri)    "
   ]
  },
  {
   "cell_type": "code",
   "execution_count": 35,
   "id": "a9a60035",
   "metadata": {},
   "outputs": [
    {
     "name": "stdout",
     "output_type": "stream",
     "text": [
      "[1, 2, 3, 5, 6]\n"
     ]
    }
   ],
   "source": [
    "a = [2,1,5,6,3]\n",
    "for i in range(1,len(a)):\n",
    "    while a[i-1]>a[i] and i>0:\n",
    "        a[i-1],a[i]=a[i],a[i-1]\n",
    "        i = i-1\n",
    "print(a)        "
   ]
  },
  {
   "cell_type": "code",
   "execution_count": 46,
   "id": "c65a39cb",
   "metadata": {},
   "outputs": [
    {
     "name": "stdout",
     "output_type": "stream",
     "text": [
      "['this', 'is', 'my', 'new', 'code']\n"
     ]
    }
   ],
   "source": [
    "a = \"this is my new code\"\n",
    "newlists = a.split(\" \")\n",
    "print(newlists)"
   ]
  },
  {
   "cell_type": "code",
   "execution_count": 72,
   "id": "02007bd4",
   "metadata": {},
   "outputs": [
    {
     "name": "stdout",
     "output_type": "stream",
     "text": [
      "(2, 3, 4, 5, 6, 6, 7, 8)\n"
     ]
    }
   ],
   "source": [
    "a = \"2,3,4,5,6,6,7,8\"\n",
    "myresult = tuple(map(int,a.split(',')))\n",
    "print(myresult)"
   ]
  },
  {
   "cell_type": "code",
   "execution_count": 4,
   "id": "074894ca",
   "metadata": {},
   "outputs": [
    {
     "name": "stdout",
     "output_type": "stream",
     "text": [
      "{'afreen', 'misbah', 'zikra'}\n"
     ]
    }
   ],
   "source": [
    "x = \"misbah zikra afreen\"\n",
    "newset = set(x.split(\" \"))\n",
    "print(newset)"
   ]
  },
  {
   "cell_type": "code",
   "execution_count": 66,
   "id": "3e80ac2d",
   "metadata": {},
   "outputs": [
    {
     "name": "stdout",
     "output_type": "stream",
     "text": [
      "['afreen', 'misbah', 'zikra']\n"
     ]
    }
   ],
   "source": [
    "x = \"afreen misbah zikra\"\n",
    "a = x.split(\" \")\n",
    "print(a)"
   ]
  },
  {
   "cell_type": "code",
   "execution_count": null,
   "id": "997fd348",
   "metadata": {},
   "outputs": [],
   "source": [
    "\n"
   ]
  },
  {
   "cell_type": "code",
   "execution_count": null,
   "id": "0ea25c89",
   "metadata": {},
   "outputs": [],
   "source": []
  }
 ],
 "metadata": {
  "kernelspec": {
   "display_name": "Python 3 (ipykernel)",
   "language": "python",
   "name": "python3"
  },
  "language_info": {
   "codemirror_mode": {
    "name": "ipython",
    "version": 3
   },
   "file_extension": ".py",
   "mimetype": "text/x-python",
   "name": "python",
   "nbconvert_exporter": "python",
   "pygments_lexer": "ipython3",
   "version": "3.10.7"
  }
 },
 "nbformat": 4,
 "nbformat_minor": 5
}
