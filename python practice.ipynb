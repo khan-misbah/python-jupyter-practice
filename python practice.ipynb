{
 "cells": [
  {
   "cell_type": "markdown",
   "id": "45668f31",
   "metadata": {},
   "source": [
    "# table"
   ]
  },
  {
   "cell_type": "code",
   "execution_count": 16,
   "id": "77822db2",
   "metadata": {},
   "outputs": [
    {
     "name": "stdout",
     "output_type": "stream",
     "text": [
      "3\n",
      "6\n",
      "9\n",
      "12\n",
      "15\n",
      "18\n",
      "21\n",
      "24\n",
      "27\n",
      "30\n"
     ]
    }
   ],
   "source": [
    "for i in range(1,11):\n",
    "    a = i*3\n",
    "    print(a)"
   ]
  },
  {
   "cell_type": "code",
   "execution_count": 52,
   "id": "e677470d",
   "metadata": {},
   "outputs": [
    {
     "name": "stdout",
     "output_type": "stream",
     "text": [
      "4\n",
      "8\n",
      "12\n",
      "16\n",
      "20\n",
      "24\n",
      "28\n",
      "32\n",
      "36\n",
      "40\n"
     ]
    }
   ],
   "source": [
    "for a in range(1,11):\n",
    "    b = a*4\n",
    "    print(b)"
   ]
  },
  {
   "cell_type": "code",
   "execution_count": 1,
   "id": "effed489",
   "metadata": {},
   "outputs": [
    {
     "name": "stdout",
     "output_type": "stream",
     "text": [
      "6 * 1 = 6\n",
      "6 * 2 = 12\n",
      "6 * 3 = 18\n",
      "6 * 4 = 24\n",
      "6 * 5 = 30\n",
      "6 * 6 = 36\n",
      "6 * 7 = 42\n",
      "6 * 8 = 48\n",
      "6 * 9 = 54\n",
      "6 * 10 = 60\n"
     ]
    }
   ],
   "source": [
    "def table(a):\n",
    "    for i in range(1,11):\n",
    "        b = i*a\n",
    "        print(a,'*',i,'=',b)\n",
    "table(6) "
   ]
  },
  {
   "cell_type": "code",
   "execution_count": 5,
   "id": "70ff3922",
   "metadata": {},
   "outputs": [
    {
     "name": "stdout",
     "output_type": "stream",
     "text": [
      " name\n"
     ]
    }
   ],
   "source": [
    "a = \"my name misbah\"\n",
    "print(a[2:7])"
   ]
  },
  {
   "cell_type": "code",
   "execution_count": 192,
   "id": "9c375465",
   "metadata": {},
   "outputs": [],
   "source": [
    "def buildArray(self, nums):\n",
    "        a = [0,2,1,5,3,4]\n",
    "        b = []\n",
    "        for x in nums:\n",
    "            z = nums[x]\n",
    "            b.appen(z)\n",
    "            print(b)\n",
    "            return(b)    \n",
    "  "
   ]
  },
  {
   "cell_type": "code",
   "execution_count": 4,
   "id": "d3b8eb30",
   "metadata": {},
   "outputs": [
    {
     "name": "stdout",
     "output_type": "stream",
     "text": [
      "12\n"
     ]
    }
   ],
   "source": [
    "a = [[1,2,9],[6,2,1]]\n",
    "b = []\n",
    "for x in a:\n",
    "    b.append(sum(x))\n",
    "print(max(b))    \n"
   ]
  },
  {
   "cell_type": "markdown",
   "id": "48493748",
   "metadata": {},
   "source": [
    "# Reduce function"
   ]
  },
  {
   "cell_type": "code",
   "execution_count": 196,
   "id": "1c46285f",
   "metadata": {},
   "outputs": [
    {
     "name": "stdout",
     "output_type": "stream",
     "text": [
      "19\n"
     ]
    }
   ],
   "source": [
    "from functools import reduce\n",
    "\n",
    "def myfunc(a,b):\n",
    "    return a+b\n",
    "l = [4,6,7,2]\n",
    "c = reduce(myfunc,l)\n",
    "print(c)"
   ]
  },
  {
   "cell_type": "code",
   "execution_count": 20,
   "id": "3e791aaa",
   "metadata": {},
   "outputs": [
    {
     "name": "stdout",
     "output_type": "stream",
     "text": [
      "168\n"
     ]
    }
   ],
   "source": [
    "from functools import reduce\n",
    "\n",
    "def func_num(a,b):\n",
    "    return a*b\n",
    "listt =[2,4,7,3]\n",
    "c = reduce(func_num,listt)\n",
    "print(c)"
   ]
  },
  {
   "cell_type": "markdown",
   "id": "29456c54",
   "metadata": {},
   "source": [
    "# Filter function\n",
    "\n"
   ]
  },
  {
   "cell_type": "code",
   "execution_count": 1,
   "id": "b833fc2b",
   "metadata": {},
   "outputs": [
    {
     "name": "stdout",
     "output_type": "stream",
     "text": [
      "[57, 87, 87, 45, 23, 98, 6]\n"
     ]
    }
   ],
   "source": [
    " def myfunc(n):\n",
    "        if n>3:\n",
    "            return True\n",
    "l = [3,57,87,87,45,23,98,6,1,3] \n",
    "output = list(filter(myfunc, l))\n",
    "print(output)    \n",
    "        \n",
    "        \n",
    "        "
   ]
  },
  {
   "cell_type": "code",
   "execution_count": 11,
   "id": "af71ec86",
   "metadata": {},
   "outputs": [
    {
     "name": "stdout",
     "output_type": "stream",
     "text": [
      "[3, 6, 2]\n"
     ]
    }
   ],
   "source": [
    "def num_func(x):\n",
    "    if x<8:\n",
    "        return True\n",
    "y = [3,6,78,2,9,30]\n",
    "var = list(filter(num_func,y))\n",
    "print(var)\n",
    "        \n",
    "        \n"
   ]
  },
  {
   "cell_type": "markdown",
   "id": "7425b1eb",
   "metadata": {},
   "source": [
    "# zip function"
   ]
  },
  {
   "cell_type": "code",
   "execution_count": 7,
   "id": "981ba14e",
   "metadata": {},
   "outputs": [
    {
     "name": "stdout",
     "output_type": "stream",
     "text": [
      "{'misbah': 'khan', 'afreen': 'manihar', 'nida': 'shaikh'}\n"
     ]
    }
   ],
   "source": [
    "name = [\"misbah\",\"afreen\",\"nida\"]\n",
    "lastname = [\"khan\",\"manihar\",\"shaikh\"]\n",
    "print(dict(zip(name,lastname)))"
   ]
  },
  {
   "cell_type": "code",
   "execution_count": 13,
   "id": "ca786931",
   "metadata": {},
   "outputs": [
    {
     "name": "stdout",
     "output_type": "stream",
     "text": [
      "['hello', 'world']\n"
     ]
    }
   ],
   "source": [
    "a = \"hello world\"\n",
    "print (a.split())\n",
    "for i in a:\n",
    "     "
   ]
  },
  {
   "cell_type": "markdown",
   "id": "af7551d0",
   "metadata": {},
   "source": [
    "# find the highest no"
   ]
  },
  {
   "cell_type": "code",
   "execution_count": 16,
   "id": "fa5b43b9",
   "metadata": {},
   "outputs": [
    {
     "name": "stdout",
     "output_type": "stream",
     "text": [
      "86\n"
     ]
    }
   ],
   "source": [
    "a = [3,5,7,86,23,65]\n",
    "b =0\n",
    "for i in a:\n",
    "    if i>b:\n",
    "        b=i\n",
    "print(b)        \n",
    "\n"
   ]
  },
  {
   "cell_type": "code",
   "execution_count": 63,
   "id": "34a002ef",
   "metadata": {},
   "outputs": [
    {
     "name": "stdout",
     "output_type": "stream",
     "text": [
      "78\n"
     ]
    }
   ],
   "source": [
    "a = [3,5,6,78,4]\n",
    "b = 0\n",
    "for i in a:\n",
    "    if i >b:\n",
    "        b = i\n",
    "print(b)        \n",
    "        "
   ]
  },
  {
   "cell_type": "markdown",
   "id": "81d9d406",
   "metadata": {},
   "source": [
    "# lowest no"
   ]
  },
  {
   "cell_type": "code",
   "execution_count": 61,
   "id": "3ab3af55",
   "metadata": {},
   "outputs": [
    {
     "name": "stdout",
     "output_type": "stream",
     "text": [
      "0.5\n"
     ]
    }
   ],
   "source": [
    "a = [3,4,7,8,56,76,0.5]\n",
    "b = 3\n",
    "\n",
    "for i in a:\n",
    "    if i <b:\n",
    "        b=i\n",
    "print(b)        \n"
   ]
  },
  {
   "cell_type": "markdown",
   "id": "2cd3cd8e",
   "metadata": {},
   "source": [
    "# cube with list\n"
   ]
  },
  {
   "cell_type": "code",
   "execution_count": 54,
   "id": "262d78c4",
   "metadata": {},
   "outputs": [
    {
     "name": "stdout",
     "output_type": "stream",
     "text": [
      "125\n",
      "216\n",
      "343\n",
      "729\n",
      "8\n"
     ]
    }
   ],
   "source": [
    "a = [5,6,7,9,2]\n",
    "for i in a:\n",
    "    b = i**3\n",
    "    print(b)        \n",
    "    \n",
    "    "
   ]
  },
  {
   "cell_type": "markdown",
   "id": "ecc9f978",
   "metadata": {},
   "source": [
    "# lambda"
   ]
  },
  {
   "cell_type": "code",
   "execution_count": 4,
   "id": "831fdbbe",
   "metadata": {},
   "outputs": [
    {
     "name": "stdout",
     "output_type": "stream",
     "text": [
      "15\n"
     ]
    }
   ],
   "source": [
    "x = lambda a ,b,c : a + b + c\n",
    "print(x(4,5,6))"
   ]
  },
  {
   "cell_type": "code",
   "execution_count": 6,
   "id": "fb375b1e",
   "metadata": {},
   "outputs": [
    {
     "name": "stdout",
     "output_type": "stream",
     "text": [
      "35\n"
     ]
    }
   ],
   "source": [
    "def func(a,b):\n",
    "    print(a * b)\n",
    "func(5,7)\n",
    "    "
   ]
  },
  {
   "cell_type": "code",
   "execution_count": 29,
   "id": "9346edee",
   "metadata": {},
   "outputs": [
    {
     "name": "stdout",
     "output_type": "stream",
     "text": [
      "['misabh', 'nida', 'afreen', 'zikra']\n"
     ]
    }
   ],
   "source": [
    "names = [\"misabh\",\"nida\",\"afreen\",\"zikra\"]\n",
    "newlist = []\n",
    "for i in names:\n",
    "        newlist.append(i)\n",
    "print(newlist)        \n",
    "        \n",
    "        \n"
   ]
  },
  {
   "cell_type": "code",
   "execution_count": 32,
   "id": "dc6a4de0",
   "metadata": {},
   "outputs": [
    {
     "name": "stdout",
     "output_type": "stream",
     "text": [
      "['red', 'white', 'blue', 'black']\n"
     ]
    }
   ],
   "source": [
    "newlist = [\"red\", \"blue\",\"black\"]\n",
    "newlist.insert(1,\"white\")\n",
    "print(newlist)"
   ]
  },
  {
   "cell_type": "code",
   "execution_count": 34,
   "id": "6198ef71",
   "metadata": {},
   "outputs": [
    {
     "name": "stdout",
     "output_type": "stream",
     "text": [
      "['red', 'blue', 'black', 'green']\n"
     ]
    }
   ],
   "source": [
    "mylist = [\"red\",\"blue\",\"black\"]\n",
    "mylist.append(\"green\")\n",
    "print(mylist)"
   ]
  },
  {
   "cell_type": "code",
   "execution_count": 35,
   "id": "18269aca",
   "metadata": {},
   "outputs": [
    {
     "name": "stdout",
     "output_type": "stream",
     "text": [
      "['red', 'blue', 'black', 'green', 'gray', 'green']\n"
     ]
    }
   ],
   "source": [
    "newlist = [\"red\", \"blue\",\"black\"]\n",
    "list = (\"gray\",\"green\")\n",
    "mylist.extend(list)\n",
    "print(mylist)"
   ]
  },
  {
   "cell_type": "code",
   "execution_count": 40,
   "id": "31a0b248",
   "metadata": {},
   "outputs": [
    {
     "name": "stdout",
     "output_type": "stream",
     "text": [
      "red\n",
      "blue\n",
      "green\n",
      "white\n"
     ]
    }
   ],
   "source": [
    "newlist = [\"red\",\"blue\",\"green\",\"white\"]\n",
    "i = 0\n",
    "while i < len(newlist):\n",
    "    print(newlist[i])\n",
    "    i = i + 1\n",
    "    \n",
    "        "
   ]
  },
  {
   "cell_type": "code",
   "execution_count": 1,
   "id": "305547ea",
   "metadata": {},
   "outputs": [
    {
     "name": "stdout",
     "output_type": "stream",
     "text": [
      "a\n",
      "b\n",
      "c\n",
      "d\n"
     ]
    }
   ],
   "source": [
    "nlist = [\"a\",\"b\",\"c\",\"d\"]\n",
    "a = 0\n",
    "while a < len(nlist):\n",
    "    print(nlist[a]) \n",
    "    a = a +1"
   ]
  },
  {
   "cell_type": "markdown",
   "id": "e486ad16",
   "metadata": {},
   "source": [
    "# uniquee no in given list"
   ]
  },
  {
   "cell_type": "code",
   "execution_count": 6,
   "id": "ec2de53e",
   "metadata": {},
   "outputs": [
    {
     "name": "stdout",
     "output_type": "stream",
     "text": [
      "5\n"
     ]
    }
   ],
   "source": [
    "a = [3,5,4,7,3,7,4]\n",
    "b = 0                                           #xor use to fine uniquee no\n",
    "for i in a:\n",
    "    b^=i \n",
    "print(b)                                          "
   ]
  },
  {
   "cell_type": "code",
   "execution_count": 85,
   "id": "739082a9",
   "metadata": {},
   "outputs": [
    {
     "name": "stdout",
     "output_type": "stream",
     "text": [
      "90\n"
     ]
    }
   ],
   "source": [
    "a = [4,90,83,4,83]\n",
    "b =0\n",
    "for i in a:\n",
    "    b^=i\n",
    "print(b)    "
   ]
  },
  {
   "cell_type": "code",
   "execution_count": 40,
   "id": "cb76b7ed",
   "metadata": {},
   "outputs": [
    {
     "name": "stdout",
     "output_type": "stream",
     "text": [
      "7\n",
      "8\n"
     ]
    }
   ],
   "source": [
    "a = [3,5,7,8,3,5]\n",
    "for i in a:\n",
    "    if a.count(i)==1:\n",
    "        print(i)"
   ]
  },
  {
   "cell_type": "code",
   "execution_count": 8,
   "id": "f51dbd7a",
   "metadata": {},
   "outputs": [
    {
     "name": "stdout",
     "output_type": "stream",
     "text": [
      "6\n",
      "7\n"
     ]
    }
   ],
   "source": [
    "a = [2,4,6,4,2,7]\n",
    "for i in a:\n",
    "    if a.count(i)==1:\n",
    "         print(i)"
   ]
  },
  {
   "cell_type": "markdown",
   "id": "7b3f1012",
   "metadata": {},
   "source": [
    "# cube \n",
    "\n",
    "\n"
   ]
  },
  {
   "cell_type": "code",
   "execution_count": 62,
   "id": "6d8d5898",
   "metadata": {},
   "outputs": [
    {
     "name": "stdout",
     "output_type": "stream",
     "text": [
      "1\n",
      "8\n",
      "27\n",
      "64\n",
      "125\n",
      "216\n",
      "343\n",
      "512\n",
      "729\n",
      "1000\n"
     ]
    }
   ],
   "source": [
    "for i in range(1,11):\n",
    "    b =i**3\n",
    "    print(b)\n"
   ]
  },
  {
   "cell_type": "markdown",
   "id": "cc515a23",
   "metadata": {},
   "source": [
    "# lowest no"
   ]
  },
  {
   "cell_type": "code",
   "execution_count": 82,
   "id": "96ae510e",
   "metadata": {},
   "outputs": [
    {
     "name": "stdout",
     "output_type": "stream",
     "text": [
      "1\n"
     ]
    }
   ],
   "source": [
    "a = [45,1,89,76,23,42,2,3]\n",
    "b = 45\n",
    "for i in a:\n",
    "    if i< b:\n",
    "        b = i\n",
    "print(b)        \n",
    "        "
   ]
  },
  {
   "cell_type": "markdown",
   "id": "88dac580",
   "metadata": {},
   "source": [
    "# slicing steping"
   ]
  },
  {
   "cell_type": "code",
   "execution_count": 9,
   "id": "901af00d",
   "metadata": {},
   "outputs": [
    {
     "name": "stdout",
     "output_type": "stream",
     "text": [
      "mtwtfss\n"
     ]
    }
   ],
   "source": [
    "days = \"mon, tue, wed, thu, fri, sat, sun\"\n",
    "print(days[::5])"
   ]
  },
  {
   "cell_type": "code",
   "execution_count": 12,
   "id": "71ff28db",
   "metadata": {},
   "outputs": [
    {
     "name": "stdout",
     "output_type": "stream",
     "text": [
      "26\n",
      "mbaen,s\n"
     ]
    }
   ],
   "source": [
    "names = \"misabh, afreen, nida, aqsa\"\n",
    "print(len(names))\n",
    "print(names[::4])"
   ]
  },
  {
   "cell_type": "markdown",
   "id": "8e54d7cf",
   "metadata": {},
   "source": [
    "# sort the list without useing sort method"
   ]
  },
  {
   "cell_type": "code",
   "execution_count": 9,
   "id": "71d47f84",
   "metadata": {},
   "outputs": [
    {
     "name": "stdout",
     "output_type": "stream",
     "text": [
      "[1, 2, 3, 4, 5, 6]\n"
     ]
    }
   ],
   "source": [
    "a = [4,5,3,1,2,6]\n",
    "for i in range(1,len(a)):\n",
    "    while a[i-1]>a[i] and i>0:\n",
    "        a[i-1],a[i] = a[i],a[i-1]\n",
    "        i = i - 1\n",
    "print(a)        \n",
    "\n",
    "    \n",
    "    "
   ]
  },
  {
   "cell_type": "markdown",
   "id": "f05f7f62",
   "metadata": {},
   "source": [
    "\n",
    "# swap method and find second highest number"
   ]
  },
  {
   "cell_type": "code",
   "execution_count": 91,
   "id": "87740250",
   "metadata": {},
   "outputs": [
    {
     "name": "stdout",
     "output_type": "stream",
     "text": [
      "8\n"
     ]
    }
   ],
   "source": [
    "a =[2,8,5,9,3,1]\n",
    "for i in range(1,len(a)):\n",
    "    while a[i-1]>a[i] and i >0:\n",
    "        a[i-1],a[i] = a[i],a[i-1]\n",
    "        i = i - 1\n",
    "        \n",
    "\n",
    "print(a[-2])         # to find highest no use indexing method \n"
   ]
  },
  {
   "cell_type": "markdown",
   "id": "ce687c89",
   "metadata": {},
   "source": [
    "# even and odd number"
   ]
  },
  {
   "cell_type": "code",
   "execution_count": 1,
   "id": "9662b440",
   "metadata": {},
   "outputs": [
    {
     "name": "stdout",
     "output_type": "stream",
     "text": [
      "enter int number8\n",
      "8 is an even num\n"
     ]
    }
   ],
   "source": [
    "num = int(input(\"enter int number\"))\n",
    "remainder = num %2\n",
    "if (remainder == 0):\n",
    "    print(num,\"is an even num\")\n",
    "else:\n",
    "        print(num,\"is an odd num\")"
   ]
  },
  {
   "cell_type": "markdown",
   "id": "703d53ae",
   "metadata": {},
   "source": [
    "# list second highest no"
   ]
  },
  {
   "cell_type": "code",
   "execution_count": 58,
   "id": "3e8decdb",
   "metadata": {},
   "outputs": [
    {
     "name": "stdout",
     "output_type": "stream",
     "text": [
      "45\n"
     ]
    }
   ],
   "source": [
    "a = [3,34,78,45,]\n",
    "b = []\n",
    "for i in a:\n",
    "    if i>0:\n",
    "        b = i\n",
    "\n",
    "print(b)        "
   ]
  },
  {
   "cell_type": "markdown",
   "id": "6adec759",
   "metadata": {},
   "source": [
    "# list lowest no"
   ]
  },
  {
   "cell_type": "code",
   "execution_count": 59,
   "id": "9af39223",
   "metadata": {},
   "outputs": [
    {
     "name": "stdout",
     "output_type": "stream",
     "text": [
      "3\n"
     ]
    }
   ],
   "source": [
    "a = [0.2,3,8,6,1]\n",
    "b = 0\n",
    "for i in a:\n",
    "    if i<0:\n",
    "        b = i\n",
    "print(b)        \n",
    "        "
   ]
  },
  {
   "cell_type": "markdown",
   "id": "8a9a88dc",
   "metadata": {},
   "source": [
    "# function question"
   ]
  },
  {
   "cell_type": "code",
   "execution_count": 7,
   "id": "008ae278",
   "metadata": {},
   "outputs": [
    {
     "name": "stdout",
     "output_type": "stream",
     "text": [
      "6\n",
      "36\n"
     ]
    }
   ],
   "source": [
    "def add(a,b):\n",
    "    result = a + b\n",
    "    return result\n",
    "def new_func(c):\n",
    "    return c*6\n",
    "    \n",
    "\n",
    "n = add(2,4)\n",
    "s = new_func(6)\n",
    "print(n)\n",
    "print(s)\n",
    "\n",
    "\n"
   ]
  },
  {
   "cell_type": "code",
   "execution_count": 53,
   "id": "d806b26f",
   "metadata": {},
   "outputs": [
    {
     "name": "stdout",
     "output_type": "stream",
     "text": [
      "8\n"
     ]
    }
   ],
   "source": [
    "def myfucn(number1,number2):\n",
    "    return number1 + number2\n",
    "\n",
    "result = (my_func(3,5))\n",
    "print(result)"
   ]
  },
  {
   "cell_type": "markdown",
   "id": "fa0e78fc",
   "metadata": {},
   "source": [
    "# function return value"
   ]
  },
  {
   "cell_type": "code",
   "execution_count": 23,
   "id": "5fe7299e",
   "metadata": {},
   "outputs": [
    {
     "name": "stdout",
     "output_type": "stream",
     "text": [
      "[2, 4, 8]\n"
     ]
    }
   ],
   "source": [
    "def get_even(numbers):\n",
    "    even_nums = [num for num in numbers if not num % 2]\n",
    "    return even_nums\n",
    "\n",
    "a = get_even([1,2,3,4,5,8])\n",
    "print(a)"
   ]
  },
  {
   "cell_type": "code",
   "execution_count": 22,
   "id": "eea24189",
   "metadata": {},
   "outputs": [
    {
     "name": "stdout",
     "output_type": "stream",
     "text": [
      "[7, 5, 1, 3]\n"
     ]
    }
   ],
   "source": [
    "def get_odd(numbers):\n",
    "    odd_nums = [num for num in numbers if num % 2==1]\n",
    "    return odd_nums\n",
    "\n",
    "a = get_odd([2,4,7,5,8,1,3])\n",
    "print(a)"
   ]
  },
  {
   "cell_type": "code",
   "execution_count": 69,
   "id": "c5244811",
   "metadata": {},
   "outputs": [
    {
     "name": "stdout",
     "output_type": "stream",
     "text": [
      "7\n",
      "49\n"
     ]
    }
   ],
   "source": [
    "def my_add(a,b):\n",
    "    sum = a + b\n",
    "    return sum\n",
    "def new_func(z):\n",
    "    return z*x\n",
    "\n",
    "x = my_add(3,4)\n",
    "print(x)\n",
    "    \n",
    "y = new_func(7)\n",
    "print(y)"
   ]
  },
  {
   "cell_type": "code",
   "execution_count": 79,
   "id": "fb5ac57d",
   "metadata": {},
   "outputs": [
    {
     "data": {
      "text/plain": [
       "25"
      ]
     },
     "execution_count": 79,
     "metadata": {},
     "output_type": "execute_result"
    }
   ],
   "source": [
    "def my_func(a,b):\n",
    "    nums = a - b\n",
    "    return nums\n",
    "def new_func(x):\n",
    "    return x *5\n",
    "\n",
    "my_func(8,3)\n",
    "\n",
    "new_func(5)"
   ]
  },
  {
   "cell_type": "code",
   "execution_count": 34,
   "id": "92e83164",
   "metadata": {},
   "outputs": [
    {
     "name": "stdout",
     "output_type": "stream",
     "text": [
      "[3, 5, 7]\n"
     ]
    }
   ],
   "source": [
    "def my_func(numbers):\n",
    "    odd_nums=[num for num in numbers if  num % 2 ==1]\n",
    "    return odd_nums                                                              # 2==1 define the even     \n",
    "                                                                                 # 2==0 define the odd\n",
    "a = my_func([2,3,5,7,8,4])\n",
    "print(a)"
   ]
  },
  {
   "cell_type": "code",
   "execution_count": null,
   "id": "3886ab73",
   "metadata": {},
   "outputs": [],
   "source": []
  },
  {
   "cell_type": "code",
   "execution_count": 37,
   "id": "ea699266",
   "metadata": {},
   "outputs": [
    {
     "name": "stdout",
     "output_type": "stream",
     "text": [
      "hello\n"
     ]
    }
   ],
   "source": [
    "def mun_func():\n",
    "    print(\"hello\")\n",
    "mun_func()"
   ]
  },
  {
   "cell_type": "code",
   "execution_count": 49,
   "id": "297654fa",
   "metadata": {},
   "outputs": [
    {
     "name": "stdout",
     "output_type": "stream",
     "text": [
      "21\n",
      "56\n",
      "63\n"
     ]
    }
   ],
   "source": [
    "def my_func(a):\n",
    "    print(a * 7)\n",
    "    \n",
    "my_func(3) \n",
    "my_func(8)\n",
    "my_func(9)\n",
    "    \n",
    "    \n"
   ]
  },
  {
   "cell_type": "markdown",
   "id": "381d5546",
   "metadata": {},
   "source": [
    "# dict"
   ]
  },
  {
   "cell_type": "code",
   "execution_count": 10,
   "id": "b8a00a20",
   "metadata": {},
   "outputs": [
    {
     "name": "stdout",
     "output_type": "stream",
     "text": [
      "{'a': 1, 'b': 'anam', 'c': 3}\n"
     ]
    }
   ],
   "source": [
    "a = {\"a\":1,\"b\":2,\"c\":3}\n",
    "# a.update({\"b\":5})\n",
    "#print(a[\"c\"])\n",
    "a[\"b\"]=\"anam\"\n",
    "print(a)"
   ]
  },
  {
   "cell_type": "code",
   "execution_count": 59,
   "id": "db58077e",
   "metadata": {},
   "outputs": [
    {
     "name": "stdout",
     "output_type": "stream",
     "text": [
      "<class 'dict'>\n"
     ]
    }
   ],
   "source": [
    "a={}\n",
    "print(type(a))"
   ]
  },
  {
   "cell_type": "code",
   "execution_count": 159,
   "id": "3f174467",
   "metadata": {},
   "outputs": [],
   "source": [
    "# emty set and dict"
   ]
  },
  {
   "cell_type": "code",
   "execution_count": 1,
   "id": "f8d81877",
   "metadata": {},
   "outputs": [
    {
     "name": "stdout",
     "output_type": "stream",
     "text": [
      "<class 'set'>\n",
      "<class 'dict'>\n"
     ]
    }
   ],
   "source": [
    "a = set()\n",
    "print(type(a))                                      #emty set use () \n",
    "                                                     # this is emty \"set()\"\n",
    "a = {}\n",
    "print(type(a))"
   ]
  },
  {
   "cell_type": "code",
   "execution_count": 3,
   "id": "31dd4e82",
   "metadata": {},
   "outputs": [
    {
     "name": "stdout",
     "output_type": "stream",
     "text": [
      "k bnm\n"
     ]
    }
   ],
   "source": [
    "a = \"khan misbah naeem\"\n",
    "print(a[::4])"
   ]
  },
  {
   "cell_type": "code",
   "execution_count": 5,
   "id": "db00fbd0",
   "metadata": {},
   "outputs": [
    {
     "name": "stdout",
     "output_type": "stream",
     "text": [
      "['misnah', 'sadiya', 'nida', 'aqsa']\n"
     ]
    }
   ],
   "source": [
    "a = [\"misnah\",\"nida\",\"aqsa\"]\n",
    "a.insert(1,\"sadiya\")\n",
    "print(a)"
   ]
  },
  {
   "cell_type": "code",
   "execution_count": 6,
   "id": "503bd409",
   "metadata": {},
   "outputs": [
    {
     "name": "stdout",
     "output_type": "stream",
     "text": [
      "['misnah', 'nida', 'aqsa', 'affan', 'hassan', 'taha']\n"
     ]
    }
   ],
   "source": [
    "a = [\"misnah\",\"nida\",\"aqsa\"]\n",
    "b = [ \"affan\",\"hassan\",\"taha\"]\n",
    "a.extend(b)\n",
    "print(a)"
   ]
  },
  {
   "cell_type": "code",
   "execution_count": 2,
   "id": "8b5b835d",
   "metadata": {},
   "outputs": [
    {
     "name": "stdout",
     "output_type": "stream",
     "text": [
      "['misbah', 'nida']\n"
     ]
    }
   ],
   "source": [
    "a = [\"misbah\",\"nida\",\"aqsa\"]\n",
    "a.pop(2)\n",
    "print(a)"
   ]
  },
  {
   "cell_type": "code",
   "execution_count": 9,
   "id": "87d4d508",
   "metadata": {},
   "outputs": [
    {
     "name": "stdout",
     "output_type": "stream",
     "text": [
      "['misnah', 'aqsa']\n"
     ]
    }
   ],
   "source": [
    "a = [\"misnah\",\"nida\",\"aqsa\"]\n",
    "a.remove(\"nida\")\n",
    "print(a)"
   ]
  },
  {
   "cell_type": "code",
   "execution_count": 14,
   "id": "3ea2f6ce",
   "metadata": {},
   "outputs": [
    {
     "name": "stdout",
     "output_type": "stream",
     "text": [
      "misbah\n",
      "nida\n",
      "aqsa\n"
     ]
    }
   ],
   "source": [
    " mylist = [\"misbah\",\"nida\",\"aqsa\"]\n",
    "for i in mylist:\n",
    "    print(i)\n"
   ]
  },
  {
   "cell_type": "code",
   "execution_count": 16,
   "id": "30d49d02",
   "metadata": {},
   "outputs": [
    {
     "name": "stdout",
     "output_type": "stream",
     "text": [
      "misbah\n",
      "nida\n",
      "aqsa\n"
     ]
    }
   ],
   "source": [
    "mylist = [\"misbah\",\"nida\",\"aqsa\"]\n",
    "for i in range(len(mylist)):\n",
    "    print(mylist[i])"
   ]
  },
  {
   "cell_type": "code",
   "execution_count": 17,
   "id": "17f03284",
   "metadata": {},
   "outputs": [
    {
     "name": "stdout",
     "output_type": "stream",
     "text": [
      "1\n",
      "2\n",
      "3\n",
      "4\n",
      "5\n",
      "6\n",
      "7\n",
      "8\n",
      "9\n",
      "10\n"
     ]
    }
   ],
   "source": [
    "for i in range(1,11):\n",
    "    if i > 0:\n",
    "        print(i)\n"
   ]
  },
  {
   "cell_type": "code",
   "execution_count": 20,
   "id": "ce6befae",
   "metadata": {},
   "outputs": [
    {
     "name": "stdout",
     "output_type": "stream",
     "text": [
      "misbah\n",
      "nida\n",
      "aqsa\n"
     ]
    }
   ],
   "source": [
    " mylist = [\"misbah\",\"nida\",\"aqsa\"]\n",
    "a = 0\n",
    "while a <len(mylist):\n",
    "    print(mylist[a])\n",
    "    a = a + 1"
   ]
  },
  {
   "cell_type": "code",
   "execution_count": 9,
   "id": "8331f7e6",
   "metadata": {},
   "outputs": [
    {
     "name": "stdout",
     "output_type": "stream",
     "text": [
      "('misbah', 'nida', 'zikra')\n"
     ]
    }
   ],
   "source": [
    "x = (\"misbah\",\"nida\",\"afreen\")\n",
    "y = list(x)\n",
    "y[2] = \"zikra\"\n",
    "x = tuple(y)\n",
    "print(x)"
   ]
  },
  {
   "cell_type": "code",
   "execution_count": 11,
   "id": "442bbfb3",
   "metadata": {},
   "outputs": [
    {
     "name": "stdout",
     "output_type": "stream",
     "text": [
      "('misbah', 'nida', 'afreen', 'aqsa')\n"
     ]
    }
   ],
   "source": [
    "x = (\"misbah\",\"nida\",\"afreen\")\n",
    "z = list(x)\n",
    "x = z.append(\"aqsa\")\n",
    "x = tuple(z)\n",
    "print(x)"
   ]
  },
  {
   "cell_type": "code",
   "execution_count": 12,
   "id": "075a7428",
   "metadata": {},
   "outputs": [
    {
     "name": "stdout",
     "output_type": "stream",
     "text": [
      "('red', 'blue', 'black', 'orange')\n"
     ]
    }
   ],
   "source": [
    "x = (\"red\",\"blue\",\"black\")\n",
    "y = (\"orange\",)\n",
    "x +=y\n",
    "print(x)"
   ]
  },
  {
   "cell_type": "code",
   "execution_count": 106,
   "id": "ded80951",
   "metadata": {},
   "outputs": [
    {
     "name": "stdout",
     "output_type": "stream",
     "text": [
      "{1: 1, 2: 8, 3: 27, 4: 64, 5: 125, 6: 216, 7: 343, 8: 512, 9: 729, 10: 1000}\n"
     ]
    }
   ],
   "source": [
    "mydict = {i:i**3 for i in range(1,11)}\n",
    "print(mydict)"
   ]
  },
  {
   "cell_type": "code",
   "execution_count": 101,
   "id": "d2dc3951",
   "metadata": {},
   "outputs": [
    {
     "name": "stdout",
     "output_type": "stream",
     "text": [
      "{1: 4, 2: 8, 3: 12, 4: 16, 5: 20, 6: 24, 7: 28, 8: 32, 9: 36, 10: 40}\n"
     ]
    }
   ],
   "source": [
    "mydict = {i :i*4 for i in range(1,11)}\n",
    "print(mydict)"
   ]
  },
  {
   "cell_type": "markdown",
   "id": "6ad02f3b",
   "metadata": {},
   "source": [
    "# To create 5 different list using list comprehension method.\n"
   ]
  },
  {
   "cell_type": "code",
   "execution_count": 8,
   "id": "7469c21e",
   "metadata": {},
   "outputs": [
    {
     "name": "stdout",
     "output_type": "stream",
     "text": [
      "['black', 'blue']\n",
      "['red', 'blue', 'green', 'white']\n"
     ]
    }
   ],
   "source": [
    "a = [\"red\",\"black\",\"blue\",\"green\",\"white\"]\n",
    "b = [i for i in a if \"e\" in i]\n",
    "c = [i for i in a if \"b\" in i ]\n",
    "\n",
    "print(c)\n",
    "print(b)\n",
    "\n",
    "    "
   ]
  },
  {
   "cell_type": "markdown",
   "id": "e3170050",
   "metadata": {},
   "source": [
    "# odd & even useing list comprehension"
   ]
  },
  {
   "cell_type": "code",
   "execution_count": 39,
   "id": "d33da957",
   "metadata": {},
   "outputs": [
    {
     "name": "stdout",
     "output_type": "stream",
     "text": [
      "['Even', 'Even', 'Odd', 'Odd']\n"
     ]
    }
   ],
   "source": [
    "a = [2,4,7,9]\n",
    "b = [\"Even\" if i%2==0 else \"Odd\" for i in a]\n",
    "print(b)"
   ]
  },
  {
   "cell_type": "code",
   "execution_count": 44,
   "id": "6f76c696",
   "metadata": {},
   "outputs": [
    {
     "name": "stdout",
     "output_type": "stream",
     "text": [
      "['even', 'even', 'odd', 'odd']\n"
     ]
    }
   ],
   "source": [
    "x =[3,8,5,4,9]\n",
    "y = [\"even\" if i %2==0 else \"odd\" for i in a ]\n",
    "print(y)"
   ]
  },
  {
   "cell_type": "markdown",
   "id": "5a0e39c7",
   "metadata": {},
   "source": [
    "# Create list , add random 10 numbers in list and print largest number of list."
   ]
  },
  {
   "cell_type": "code",
   "execution_count": 93,
   "id": "8b4af6e5",
   "metadata": {},
   "outputs": [
    {
     "name": "stdout",
     "output_type": "stream",
     "text": [
      "10\n"
     ]
    }
   ],
   "source": [
    "a = [1,2,3,4,5,6,7,8,9,10]\n",
    "b = []\n",
    "for i in a:\n",
    "    b = i\n",
    "print(b)    \n",
    "    "
   ]
  },
  {
   "cell_type": "code",
   "execution_count": null,
   "id": "e8042e9b",
   "metadata": {},
   "outputs": [],
   "source": []
  },
  {
   "cell_type": "markdown",
   "id": "9017b51d",
   "metadata": {},
   "source": [
    "# To check whether a given number is present in list or not?\n"
   ]
  },
  {
   "cell_type": "code",
   "execution_count": 139,
   "id": "54b3bca8",
   "metadata": {},
   "outputs": [
    {
     "name": "stdout",
     "output_type": "stream",
     "text": [
      "True\n"
     ]
    }
   ],
   "source": [
    "a = [23,87,58,3,2,4]\n",
    "print(87 in a)\n",
    "    "
   ]
  },
  {
   "cell_type": "markdown",
   "id": "55b7b23c",
   "metadata": {},
   "source": [
    "# To demonstrate any 10 methods of List\n"
   ]
  },
  {
   "cell_type": "code",
   "execution_count": 65,
   "id": "4e7de8aa",
   "metadata": {},
   "outputs": [
    {
     "name": "stdout",
     "output_type": "stream",
     "text": [
      "['a', 'b', 'c', 'd', 'e']\n"
     ]
    }
   ],
   "source": [
    "x = [\"a\",\"b\",\"c\",\"d\"]\n",
    "x.append(\"e\")\n",
    "print(x)"
   ]
  },
  {
   "cell_type": "code",
   "execution_count": 79,
   "id": "3c14a252",
   "metadata": {},
   "outputs": [
    {
     "name": "stdout",
     "output_type": "stream",
     "text": [
      "[1, 2, 4, 5, 7, 8]\n"
     ]
    }
   ],
   "source": [
    "x = [1,2,4,5,7,8]\n",
    "y = x.copy()\n",
    "print(y)\n"
   ]
  },
  {
   "cell_type": "code",
   "execution_count": 80,
   "id": "9041cbf7",
   "metadata": {},
   "outputs": [
    {
     "name": "stdout",
     "output_type": "stream",
     "text": [
      "[]\n"
     ]
    }
   ],
   "source": [
    "mylist = [76,90,54,32]\n",
    "mylist.clear()\n",
    "print(mylist)"
   ]
  },
  {
   "cell_type": "code",
   "execution_count": 89,
   "id": "e4db3f67",
   "metadata": {},
   "outputs": [
    {
     "name": "stdout",
     "output_type": "stream",
     "text": [
      "3\n"
     ]
    }
   ],
   "source": [
    "a = [3,8,9,4,3,4,3]\n",
    "b = a.count(3)\n",
    "print(b)"
   ]
  },
  {
   "cell_type": "code",
   "execution_count": 94,
   "id": "779bffc1",
   "metadata": {},
   "outputs": [
    {
     "name": "stdout",
     "output_type": "stream",
     "text": [
      "['misbah', 'aqsa', 'nida', 'zikra', 'afreen']\n"
     ]
    }
   ],
   "source": [
    "a = [\"misbah\",\"aqsa\",\"nida\"]\n",
    "x = [\"zikra\",\"afreen\"]\n",
    "a.extend(x)\n",
    "print(a)"
   ]
  },
  {
   "cell_type": "code",
   "execution_count": 95,
   "id": "a31e9b4c",
   "metadata": {},
   "outputs": [
    {
     "name": "stdout",
     "output_type": "stream",
     "text": [
      "[1, 3, 5, 5, 7, 9]\n"
     ]
    }
   ],
   "source": [
    "a = [3,5,9,7,5,1]\n",
    "a.sort()\n",
    "print(a)"
   ]
  },
  {
   "cell_type": "code",
   "execution_count": 98,
   "id": "7e4451df",
   "metadata": {},
   "outputs": [
    {
     "name": "stdout",
     "output_type": "stream",
     "text": [
      "['a', 'b', 'c', 'e', 'd']\n"
     ]
    }
   ],
   "source": [
    "a = [\"a\",\"b\",\"c\",\"d\"]\n",
    "a.insert(3,\"e\")\n",
    "print(a)"
   ]
  },
  {
   "cell_type": "code",
   "execution_count": 101,
   "id": "b1fd7e3a",
   "metadata": {},
   "outputs": [
    {
     "name": "stdout",
     "output_type": "stream",
     "text": [
      "[3, 5, 7, 8]\n"
     ]
    }
   ],
   "source": [
    "a = [3,4,5,7,8]\n",
    "a.pop(1,)\n",
    "print(a)"
   ]
  },
  {
   "cell_type": "code",
   "execution_count": 102,
   "id": "6342c306",
   "metadata": {},
   "outputs": [
    {
     "name": "stdout",
     "output_type": "stream",
     "text": [
      "['a', 'b']\n"
     ]
    }
   ],
   "source": [
    "x =[\"a\",\"b\",\"c\"]\n",
    "x.remove(\"c\")\n",
    "print(x)"
   ]
  },
  {
   "cell_type": "code",
   "execution_count": 107,
   "id": "fed9bae0",
   "metadata": {},
   "outputs": [
    {
     "name": "stdout",
     "output_type": "stream",
     "text": [
      "[1, 9, 6, 3, 2]\n"
     ]
    }
   ],
   "source": [
    "z = [2,3,6,9,1]\n",
    "z.reverse()\n",
    "print(z)"
   ]
  },
  {
   "cell_type": "markdown",
   "id": "eb767a13",
   "metadata": {},
   "source": [
    "# To add two list [ adding elements of list ]\n"
   ]
  },
  {
   "cell_type": "code",
   "execution_count": 108,
   "id": "007be497",
   "metadata": {},
   "outputs": [
    {
     "name": "stdout",
     "output_type": "stream",
     "text": [
      "['red', 'blue', 'black', 'orange', 'kiwi', 'banana']\n"
     ]
    }
   ],
   "source": [
    "a = [\"red\",\"blue\",\"black\"]\n",
    "b =[\"orange\",\"kiwi\",\"banana\"]\n",
    "a.extend(b)\n",
    "print(a)"
   ]
  },
  {
   "cell_type": "markdown",
   "id": "face3bf5",
   "metadata": {},
   "source": [
    "# To sort a given number list in ascending order using functions.\n"
   ]
  },
  {
   "cell_type": "code",
   "execution_count": 136,
   "id": "cf72f307",
   "metadata": {},
   "outputs": [
    {
     "name": "stdout",
     "output_type": "stream",
     "text": [
      "[1, 2, 3, 4, 7, 8]\n"
     ]
    }
   ],
   "source": [
    "a = [3,4,7,8,2,1]\n",
    "for i in range(1,len(a)):\n",
    "    while a[i-1]>a[i] and i>0:\n",
    "        a[i-1],a[i]=a[i],a[i-1]\n",
    "        i = i-1\n",
    "print(a)\n"
   ]
  },
  {
   "cell_type": "markdown",
   "id": "f2601162",
   "metadata": {},
   "source": [
    "# list comprehestion"
   ]
  },
  {
   "cell_type": "code",
   "execution_count": 140,
   "id": "45c67269",
   "metadata": {},
   "outputs": [
    {
     "name": "stdout",
     "output_type": "stream",
     "text": [
      "['nida', 'afreen']\n"
     ]
    }
   ],
   "source": [
    "a = [\"misbah\",\"nida\",\"afreen\"]\n",
    "b = [i for i in a if i != \"misbah\"]\n",
    "print(b)"
   ]
  },
  {
   "cell_type": "code",
   "execution_count": 174,
   "id": "70b4425c",
   "metadata": {},
   "outputs": [
    {
     "name": "stdout",
     "output_type": "stream",
     "text": [
      "['even', 'even', 'even', 'odd', 'even']\n"
     ]
    }
   ],
   "source": [
    "a = [2,4,6,7,8]\n",
    "b = [\"even\" if i%2==0 else \"odd\" for i in a]\n",
    "print(b)"
   ]
  },
  {
   "cell_type": "code",
   "execution_count": 142,
   "id": "4d69bfdf",
   "metadata": {},
   "outputs": [
    {
     "name": "stdout",
     "output_type": "stream",
     "text": [
      "['black']\n"
     ]
    }
   ],
   "source": [
    "a = [\"red\",\"black\",\"white\"]\n",
    "b = [i for i in a if \"a\" in i]\n",
    "print(b)"
   ]
  },
  {
   "cell_type": "code",
   "execution_count": 148,
   "id": "0195be68",
   "metadata": {},
   "outputs": [
    {
     "name": "stdout",
     "output_type": "stream",
     "text": [
      "[1, 2, 3, 4, 5]\n"
     ]
    }
   ],
   "source": [
    "a =[i for i in range(6) if i > 0]\n",
    "print(a)"
   ]
  },
  {
   "cell_type": "code",
   "execution_count": 149,
   "id": "148850e4",
   "metadata": {},
   "outputs": [
    {
     "name": "stdout",
     "output_type": "stream",
     "text": [
      "[1, 2, 3, 4, 5, 6, 7, 8, 9, 10]\n"
     ]
    }
   ],
   "source": [
    "a = [i for i in range(1,11)]\n",
    "print(a)"
   ]
  },
  {
   "cell_type": "code",
   "execution_count": 153,
   "id": "d83ea6ae",
   "metadata": {},
   "outputs": [
    {
     "name": "stdout",
     "output_type": "stream",
     "text": [
      "['RED', 'BLACK', 'WHITE']\n"
     ]
    }
   ],
   "source": [
    "a = [\"red\",\"black\",\"white\"]\n",
    "b = [i.upper() for i in a]\n",
    "print(b)"
   ]
  },
  {
   "cell_type": "code",
   "execution_count": 155,
   "id": "d42f3cb2",
   "metadata": {},
   "outputs": [
    {
     "name": "stdout",
     "output_type": "stream",
     "text": [
      "['red', 'black', 'white']\n"
     ]
    }
   ],
   "source": [
    "a = [\"Red\",\"Black\",\"White\"]\n",
    "b = [i.lower() for i in a]\n",
    "print(b)"
   ]
  },
  {
   "cell_type": "code",
   "execution_count": 158,
   "id": "ff4782df",
   "metadata": {},
   "outputs": [
    {
     "name": "stdout",
     "output_type": "stream",
     "text": [
      "['red', 'blue', 'white']\n"
     ]
    }
   ],
   "source": [
    "a = [\"red\",\"black\",\"white\"]\n",
    "b = [i if i !=\"black\" else \"blue\" for i in a]\n",
    "print(b)"
   ]
  },
  {
   "cell_type": "code",
   "execution_count": 200,
   "id": "a09feb4b",
   "metadata": {},
   "outputs": [
    {
     "name": "stdout",
     "output_type": "stream",
     "text": [
      "dict_items([('a', 2), ('b', 4), ('c', 7), ('d', 5)])\n"
     ]
    }
   ],
   "source": [
    "a = {\"a\":2,\"b\":4,\"c\":7,\"d\":5}\n",
    "b = a.items()\n",
    "print(b)"
   ]
  },
  {
   "cell_type": "code",
   "execution_count": 14,
   "id": "91f56770",
   "metadata": {},
   "outputs": [
    {
     "name": "stdout",
     "output_type": "stream",
     "text": [
      "['red', 'white']\n"
     ]
    }
   ],
   "source": [
    "a = [\"red\",\"black\",\"white\"]\n",
    "b = [i for i in a if \"e\" in i]\n",
    "print(b)\n"
   ]
  },
  {
   "cell_type": "code",
   "execution_count": 15,
   "id": "b28d769a",
   "metadata": {},
   "outputs": [
    {
     "name": "stdout",
     "output_type": "stream",
     "text": [
      "['hello', 'hello', 'hello']\n"
     ]
    }
   ],
   "source": [
    "a = [\"hello\" for i in a]\n",
    "print(a)"
   ]
  },
  {
   "cell_type": "code",
   "execution_count": 26,
   "id": "1e82e489",
   "metadata": {},
   "outputs": [
    {
     "name": "stdout",
     "output_type": "stream",
     "text": [
      "sun of number: 21\n"
     ]
    }
   ],
   "source": [
    "def mu_func(*numbers):\n",
    "    totle = 0\n",
    "    for i in numbers:\n",
    "        totle=totle + i\n",
    "    print(\"sun of number:\" , totle)\n",
    "        \n",
    "mu_func(10,2,3,6,)        "
   ]
  },
  {
   "cell_type": "markdown",
   "id": "0f90a169",
   "metadata": {},
   "source": [
    "# function questions"
   ]
  },
  {
   "cell_type": "markdown",
   "id": "b7b81451",
   "metadata": {},
   "source": [
    "# 1.Write a Python function to find the Max of three numbers.\n"
   ]
  },
  {
   "cell_type": "code",
   "execution_count": 33,
   "id": "0cb9e756",
   "metadata": {},
   "outputs": [
    {
     "name": "stdout",
     "output_type": "stream",
     "text": [
      "max number is 78\n"
     ]
    }
   ],
   "source": [
    "def my_func(a,b):\n",
    "    if a>b:\n",
    "        return a\n",
    "\n",
    "    return b\n",
    "def func(a,b,c):\n",
    "    return max(a,max(b,c))\n",
    "print(\"max number is\",func(3,34,78))\n",
    "\n",
    "    \n",
    "    "
   ]
  },
  {
   "cell_type": "code",
   "execution_count": 38,
   "id": "b837d966",
   "metadata": {},
   "outputs": [
    {
     "name": "stdout",
     "output_type": "stream",
     "text": [
      "4\n"
     ]
    }
   ],
   "source": [
    "def func(a,b,c):\n",
    "    if a>b:\n",
    "        if a>c:\n",
    "            print(a)\n",
    "        else:\n",
    "            print(c)\n",
    "    else:\n",
    "        if b>c:\n",
    "            print(b)\n",
    "        else:\n",
    "            print(c)\n",
    "func(2,3,4)        "
   ]
  },
  {
   "cell_type": "code",
   "execution_count": 42,
   "id": "7493e1d0",
   "metadata": {},
   "outputs": [
    {
     "name": "stdout",
     "output_type": "stream",
     "text": [
      "9\n"
     ]
    }
   ],
   "source": [
    "def my_func(x,y,z):\n",
    "    if x>y:\n",
    "        print(x)\n",
    "    else:\n",
    "        if y>z:\n",
    "            print(y)\n",
    "        else: \n",
    "            if z>x:\n",
    "                print(z)\n",
    "                        \n",
    "my_func(3,8,9)                        "
   ]
  },
  {
   "cell_type": "code",
   "execution_count": 49,
   "id": "a96fcb21",
   "metadata": {},
   "outputs": [
    {
     "name": "stdout",
     "output_type": "stream",
     "text": [
      "67\n"
     ]
    }
   ],
   "source": [
    "a =[3,45,56,67]\n",
    "b = []\n",
    "for i in a:\n",
    "    b = a\n",
    "print(max(b))"
   ]
  },
  {
   "cell_type": "markdown",
   "id": "308bdfbe",
   "metadata": {},
   "source": [
    "# define a function that accepts 2 values and return its sum, subtraction and multiplication..\n"
   ]
  },
  {
   "cell_type": "code",
   "execution_count": 54,
   "id": "4ccf6448",
   "metadata": {},
   "outputs": [
    {
     "name": "stdout",
     "output_type": "stream",
     "text": [
      "5\n",
      "20\n"
     ]
    }
   ],
   "source": [
    "def my_func(a,b):\n",
    "    return a-b\n",
    "def new_func(c,d):\n",
    "    return c*d\n",
    "y = new_func(4,5)\n",
    "x = my_func(8,3)\n",
    "print(x)\n",
    "print(y)\n",
    "\n"
   ]
  },
  {
   "cell_type": "markdown",
   "id": "779ba523",
   "metadata": {},
   "source": [
    "# Write a Python function to multiply all the numbers in a list\n",
    "    "
   ]
  },
  {
   "cell_type": "code",
   "execution_count": 20,
   "id": "9f4b90f2",
   "metadata": {},
   "outputs": [
    {
     "name": "stdout",
     "output_type": "stream",
     "text": [
      "5 * 1 = 5\n",
      "5 * 2 = 10\n",
      "5 * 3 = 15\n",
      "5 * 4 = 20\n",
      "5 * 5 = 25\n",
      "5 * 6 = 30\n",
      "5 * 7 = 35\n",
      "5 * 8 = 40\n",
      "5 * 9 = 45\n",
      "5 * 10 = 50\n"
     ]
    }
   ],
   "source": [
    "def table(a):\n",
    "  #  a = int(input(\"enter int number \"))\n",
    "    for i in range(1,11):\n",
    "        b = a*i\n",
    "        print(a,'*',i,\"=\",b)\n",
    "table(5)        \n"
   ]
  },
  {
   "cell_type": "code",
   "execution_count": 12,
   "id": "7fdbc440",
   "metadata": {},
   "outputs": [
    {
     "name": "stdout",
     "output_type": "stream",
     "text": [
      "{1: 1, 2: 8, 3: 27, 4: 64, 5: 125, 6: 216, 7: 343, 8: 512, 9: 729, 10: 1000}\n"
     ]
    }
   ],
   "source": [
    "a ={i:i**3 for i in range(1,11)}\n",
    "print(a)\n"
   ]
  },
  {
   "cell_type": "code",
   "execution_count": 3,
   "id": "90525e2a",
   "metadata": {},
   "outputs": [
    {
     "name": "stdout",
     "output_type": "stream",
     "text": [
      "40 3\n",
      "40 6\n",
      "40 9\n",
      "40 12\n",
      "40 15\n",
      "40 18\n",
      "40 21\n",
      "40 24\n",
      "40 27\n",
      "40 30\n"
     ]
    }
   ],
   "source": [
    "for i in range(1,11):\n",
    "    i = i*4 \n",
    "for j in range(1,11):\n",
    "    j = j *3\n",
    "    print(i,j)    \n",
    "\n"
   ]
  },
  {
   "cell_type": "markdown",
   "id": "93dda0b8",
   "metadata": {},
   "source": [
    "# odd and even useing function\n"
   ]
  },
  {
   "cell_type": "code",
   "execution_count": 40,
   "id": "96a887b5",
   "metadata": {},
   "outputs": [
    {
     "name": "stdout",
     "output_type": "stream",
     "text": [
      "even\n",
      "odd\n",
      "odd\n",
      "odd\n",
      "even\n"
     ]
    }
   ],
   "source": [
    "def my_func(a):\n",
    "    for i in a:\n",
    "        if i % 2==0:\n",
    "            print(\"even\")\n",
    "        else:\n",
    "            print(\"odd\")\n",
    "b = [2,3,7,5,4]\n",
    "my_func(b)"
   ]
  },
  {
   "cell_type": "markdown",
   "id": "2612ee64",
   "metadata": {},
   "source": [
    "# bisect function"
   ]
  },
  {
   "cell_type": "code",
   "execution_count": 8,
   "id": "d38b281f",
   "metadata": {},
   "outputs": [
    {
     "name": "stdout",
     "output_type": "stream",
     "text": [
      "4\n",
      "[1, 2, 3, 4, 5, 6, 7]\n"
     ]
    }
   ],
   "source": [
    "import bisect\n",
    "a = [1,2,3,4,6,7]\n",
    "b = 5\n",
    "c = bisect.bisect(a,b)\n",
    "print(c)\n",
    "bisect.insort(a,b)\n",
    "print(a)"
   ]
  },
  {
   "cell_type": "code",
   "execution_count": 13,
   "id": "8e37fc9c",
   "metadata": {},
   "outputs": [
    {
     "name": "stdout",
     "output_type": "stream",
     "text": [
      "(('a', 1), ('b', 2), ('c', 3), ('d', 4))\n"
     ]
    }
   ],
   "source": [
    "a = [\"a\",\"b\",\"c\",\"d\"]\n",
    "b = [1,2,3,4]\n",
    "c = zip(a,b)\n",
    "print(tuple(c))"
   ]
  },
  {
   "cell_type": "code",
   "execution_count": 8,
   "id": "05c65358",
   "metadata": {},
   "outputs": [
    {
     "name": "stdout",
     "output_type": "stream",
     "text": [
      "9\n"
     ]
    }
   ],
   "source": [
    "a = [3,5,7,9,0.1]\n",
    "b = 0\n",
    "for i in a:\n",
    "    if i >b:\n",
    "        b = i\n",
    "print(b)        \n",
    "    "
   ]
  },
  {
   "cell_type": "code",
   "execution_count": 16,
   "id": "f3b5cd05",
   "metadata": {},
   "outputs": [
    {
     "name": "stdout",
     "output_type": "stream",
     "text": [
      "enter int number8\n",
      "8 even number\n"
     ]
    }
   ],
   "source": [
    "a = int(input(\"enter int number\"))\n",
    "b = a %2\n",
    "if (b ==0):\n",
    "    print(a,\"even number\")\n",
    "else:\n",
    "    print(a,\"odd number\")    \n",
    "    \n",
    "    "
   ]
  },
  {
   "cell_type": "markdown",
   "id": "5bd7a79d",
   "metadata": {},
   "source": [
    "# multiple return values"
   ]
  },
  {
   "cell_type": "code",
   "execution_count": 26,
   "id": "030ee1b4",
   "metadata": {},
   "outputs": [
    {
     "name": "stdout",
     "output_type": "stream",
     "text": [
      "9\n",
      "3\n",
      "18\n",
      "2.0\n"
     ]
    }
   ],
   "source": [
    "def myfunc(num1,num2):\n",
    "    add = num1 + num2\n",
    "    sub = num1 - num2\n",
    "    multiply = num1*num2\n",
    "    division = num1/ num2\n",
    "    return add,sub,multiply,division\n",
    "\n",
    "a,b,c,d = myfunc(6,3)\n",
    "print(a)\n",
    "print(b)\n",
    "print(c)\n",
    "print(d)"
   ]
  },
  {
   "cell_type": "markdown",
   "id": "2a84fcec",
   "metadata": {},
   "source": [
    "# slicing"
   ]
  },
  {
   "cell_type": "code",
   "execution_count": 14,
   "id": "6824dac3",
   "metadata": {},
   "outputs": [
    {
     "name": "stdout",
     "output_type": "stream",
     "text": [
      "[4, 5, 3, 4]\n"
     ]
    }
   ],
   "source": [
    "a = [4,54,3,4,5,6,4,23]\n",
    "s = (a[::2])\n",
    "print(s[::-1])"
   ]
  },
  {
   "cell_type": "code",
   "execution_count": 77,
   "id": "8cb93fb3",
   "metadata": {},
   "outputs": [
    {
     "name": "stdout",
     "output_type": "stream",
     "text": [
      "[4, 5, 3, 4]\n"
     ]
    }
   ],
   "source": [
    "a = [4,54,3,4,5,6,4,23]\n",
    "print(a[-2::-2])"
   ]
  },
  {
   "cell_type": "code",
   "execution_count": 84,
   "id": "60be94ca",
   "metadata": {},
   "outputs": [
    {
     "name": "stdout",
     "output_type": "stream",
     "text": [
      "['this is my python code']\n"
     ]
    }
   ],
   "source": [
    "a = \"this is my python code\"\n",
    "x= a.splitlines()\n",
    "print(x)"
   ]
  },
  {
   "cell_type": "code",
   "execution_count": 87,
   "id": "e69254b6",
   "metadata": {},
   "outputs": [
    {
     "name": "stdout",
     "output_type": "stream",
     "text": [
      "[23, 2, 9, 75]\n"
     ]
    }
   ],
   "source": [
    "a = [6,23,3,2,0,9,8,75]\n",
    "print(a[1:8:2])"
   ]
  },
  {
   "cell_type": "code",
   "execution_count": 93,
   "id": "a9c0e601",
   "metadata": {},
   "outputs": [
    {
     "name": "stdout",
     "output_type": "stream",
     "text": [
      "hello\n"
     ]
    }
   ],
   "source": [
    "def my_func():\n",
    "    print(\"hello\")  \n",
    "my_func()    "
   ]
  },
  {
   "cell_type": "code",
   "execution_count": 100,
   "id": "cbae3dee",
   "metadata": {},
   "outputs": [
    {
     "name": "stdout",
     "output_type": "stream",
     "text": [
      "odd\n",
      "even\n",
      "even\n",
      "even\n",
      "odd\n",
      "even\n",
      "odd\n",
      "odd\n"
     ]
    }
   ],
   "source": [
    "def my_func(a):\n",
    "    for i in a:\n",
    "        if i %2==0:\n",
    "            print(\"even\")\n",
    "        else:\n",
    "            print(\"odd\")\n",
    "b = [3,4,2,6]\n",
    "my_func(b)\n",
    "c=[9,0,7,7]\n",
    "my_func(c)\n"
   ]
  },
  {
   "cell_type": "code",
   "execution_count": 11,
   "id": "92a7811e",
   "metadata": {},
   "outputs": [
    {
     "name": "stdout",
     "output_type": "stream",
     "text": [
      "([2, 1], 'abc', 0, 9)\n"
     ]
    }
   ],
   "source": [
    "tupl=([2,3],\"abc\",0,9)\n",
    "\n",
    "tupl[0][1]=1\n",
    "\n",
    "print(tupl)\n"
   ]
  },
  {
   "cell_type": "code",
   "execution_count": null,
   "id": "949f68ce",
   "metadata": {},
   "outputs": [],
   "source": []
  },
  {
   "cell_type": "code",
   "execution_count": 8,
   "id": "b365564a",
   "metadata": {},
   "outputs": [
    {
     "name": "stdout",
     "output_type": "stream",
     "text": [
      "str text A\n",
      "this is capital\n"
     ]
    }
   ],
   "source": [
    "x =input(\"str text \")\n",
    "if x.isupper():\n",
    "    print('this is capital')\n",
    "else: \n",
    "    print(' this is small')\n",
    "\n",
    "   "
   ]
  },
  {
   "cell_type": "code",
   "execution_count": null,
   "id": "19bf6e81",
   "metadata": {},
   "outputs": [],
   "source": []
  },
  {
   "cell_type": "code",
   "execution_count": null,
   "id": "2f54f33b",
   "metadata": {},
   "outputs": [],
   "source": []
  },
  {
   "cell_type": "code",
   "execution_count": null,
   "id": "b4bc8fa7",
   "metadata": {},
   "outputs": [],
   "source": []
  },
  {
   "cell_type": "code",
   "execution_count": null,
   "id": "be477ecd",
   "metadata": {},
   "outputs": [],
   "source": []
  }
 ],
 "metadata": {
  "kernelspec": {
   "display_name": "Python 3 (ipykernel)",
   "language": "python",
   "name": "python3"
  },
  "language_info": {
   "codemirror_mode": {
    "name": "ipython",
    "version": 3
   },
   "file_extension": ".py",
   "mimetype": "text/x-python",
   "name": "python",
   "nbconvert_exporter": "python",
   "pygments_lexer": "ipython3",
   "version": "3.10.7"
  }
 },
 "nbformat": 4,
 "nbformat_minor": 5
}
