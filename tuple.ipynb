{
 "cells": [
  {
   "cell_type": "code",
   "execution_count": 1,
   "id": "7d9b7d7f",
   "metadata": {},
   "outputs": [
    {
     "name": "stdout",
     "output_type": "stream",
     "text": [
      "black\n"
     ]
    }
   ],
   "source": [
    "tuplelist = (\"red\", \"black\", \"white\",)\n",
    "print(tuplelist[1])"
   ]
  },
  {
   "cell_type": "code",
   "execution_count": 2,
   "id": "e2cb422a",
   "metadata": {},
   "outputs": [
    {
     "name": "stdout",
     "output_type": "stream",
     "text": [
      "white\n"
     ]
    }
   ],
   "source": [
    "tuplelist = (\"red\", \"black\", \"white\",)\n",
    "print(tuplelist[-1])"
   ]
  },
  {
   "cell_type": "code",
   "execution_count": 4,
   "id": "417e8f70",
   "metadata": {},
   "outputs": [
    {
     "name": "stdout",
     "output_type": "stream",
     "text": [
      "('black', 'white', 'blue', 'orange')\n"
     ]
    }
   ],
   "source": [
    "tuplelist = (\"red\", \"black\", \"white\", \"blue\", \"orange\",\"pink\")\n",
    "print(tuplelist[1:5])"
   ]
  },
  {
   "cell_type": "code",
   "execution_count": 8,
   "id": "a98600d8",
   "metadata": {},
   "outputs": [
    {
     "name": "stdout",
     "output_type": "stream",
     "text": [
      "('black', 'white', 'blue', 'orange')\n"
     ]
    }
   ],
   "source": [
    "tuplelist = (\"red\", \"black\", \"white\",\"blue\", \"orange\",\"pink\")\n",
    "print(tuplelist[-5:-1])"
   ]
  },
  {
   "cell_type": "code",
   "execution_count": 20,
   "id": "e3c132dc",
   "metadata": {},
   "outputs": [
    {
     "name": "stdout",
     "output_type": "stream",
     "text": [
      "yes,'pink' is in the color tuple\n"
     ]
    }
   ],
   "source": [
    "tuplelist = (\"blue\", \"orange\",\"pink\")\n",
    "if \"pink\" in tuplelist:\n",
    "    print(\"yes,'pink' is in the color tuple\")"
   ]
  },
  {
   "cell_type": "code",
   "execution_count": 22,
   "id": "3449a262",
   "metadata": {},
   "outputs": [
    {
     "name": "stdout",
     "output_type": "stream",
     "text": [
      "('banana', 'kiwi', 'apple')\n"
     ]
    }
   ],
   "source": [
    "x = (\"banana\", \"chiku\",\"apple\")\n",
    "y = list(x)\n",
    "y [1]= \"kiwi\"    \n",
    "x = tuple(y)\n",
    "print(x)"
   ]
  },
  {
   "cell_type": "code",
   "execution_count": 24,
   "id": "618d3821",
   "metadata": {},
   "outputs": [
    {
     "name": "stdout",
     "output_type": "stream",
     "text": [
      "('red', 'black', 'pink', 'orange', 'blue')\n"
     ]
    }
   ],
   "source": [
    "mylist = (\"red\", \"black\", \"pink\", \"orange\")\n",
    "y =list(mylist)\n",
    "y.append(\"blue\")\n",
    "mylist=tuple(y)\n",
    "print(mylist)"
   ]
  },
  {
   "cell_type": "code",
   "execution_count": 27,
   "id": "851a1a64",
   "metadata": {},
   "outputs": [
    {
     "name": "stdout",
     "output_type": "stream",
     "text": [
      "['banana', 'chiku', 'apple', 'orange']\n"
     ]
    }
   ],
   "source": [
    "newlist = (\"banana\", \"chiku\",\"apple\")\n",
    "x =list(newlist)\n",
    "x.append(\"orange\")\n",
    "newlist=tuple(x)\n",
    "print(x)         "
   ]
  },
  {
   "cell_type": "code",
   "execution_count": 38,
   "id": "1182aa15",
   "metadata": {},
   "outputs": [
    {
     "name": "stdout",
     "output_type": "stream",
     "text": [
      "mumbai\n",
      "pune\n",
      "goa\n"
     ]
    }
   ],
   "source": [
    "place =(\"mumbai\", \"pune\",\"goa\",)\n",
    "(red, blue, black)= place\n",
    "print(red)\n",
    "print(blue)\n",
    "print(black)\n"
   ]
  },
  {
   "cell_type": "code",
   "execution_count": 39,
   "id": "2c0a61cd",
   "metadata": {},
   "outputs": [
    {
     "name": "stdout",
     "output_type": "stream",
     "text": [
      "apple\n",
      "kiwi\n",
      "['mango', 'chiku', 'banana']\n"
     ]
    }
   ],
   "source": [
    "fruit = (\"apple\", \"kiwi\",\"mango\", \"chiku\",\"banana\")\n",
    "(one,two,*three) = fruit\n",
    "print(one)\n",
    "print(two)\n",
    "print(three)\n"
   ]
  },
  {
   "cell_type": "code",
   "execution_count": 40,
   "id": "fdb09b21",
   "metadata": {},
   "outputs": [
    {
     "name": "stdout",
     "output_type": "stream",
     "text": [
      "apple\n",
      "['kiwi', 'mango', 'chiku']\n",
      "banana\n"
     ]
    }
   ],
   "source": [
    "fruit = (\"apple\", \"kiwi\",\"mango\", \"chiku\",\"banana\")\n",
    "(one,*two,three) = fruit\n",
    "print(one)\n",
    "print(two)\n",
    "print(three)\n"
   ]
  },
  {
   "cell_type": "code",
   "execution_count": 43,
   "id": "4e6697ae",
   "metadata": {},
   "outputs": [
    {
     "name": "stdout",
     "output_type": "stream",
     "text": [
      "apple\n",
      "kiwi\n",
      "chiku\n",
      "banana\n"
     ]
    }
   ],
   "source": [
    "fruit = (\"apple\", \"kiwi\", \"chiku\",\"banana\")\n",
    "for x in fruit:\n",
    "    print(x)\n"
   ]
  },
  {
   "cell_type": "code",
   "execution_count": 44,
   "id": "12c86339",
   "metadata": {},
   "outputs": [
    {
     "name": "stdout",
     "output_type": "stream",
     "text": [
      "apple\n",
      "kiwi\n",
      "mango\n",
      "chiku\n",
      "banana\n"
     ]
    }
   ],
   "source": [
    "fruit = (\"apple\", \"kiwi\",\"mango\", \"chiku\",\"banana\")\n",
    "for a in range(len(fruit)):\n",
    "    print(fruit[a])"
   ]
  },
  {
   "cell_type": "code",
   "execution_count": 45,
   "id": "4c176542",
   "metadata": {},
   "outputs": [
    {
     "name": "stdout",
     "output_type": "stream",
     "text": [
      "apple\n",
      "kiwi\n",
      "mango\n",
      "chiku\n",
      "banana\n"
     ]
    }
   ],
   "source": [
    "fruit = (\"apple\", \"kiwi\",\"mango\", \"chiku\",\"banana\")\n",
    "i = 0\n",
    "while i < len(fruit):\n",
    "    print(fruit[i])\n",
    "    i = i + 1"
   ]
  },
  {
   "cell_type": "code",
   "execution_count": 2,
   "id": "8603f9a9",
   "metadata": {},
   "outputs": [
    {
     "name": "stdout",
     "output_type": "stream",
     "text": [
      "nida\n"
     ]
    }
   ],
   "source": [
    "name = (\"misabh\",\"nida\",\"afreen\")\n",
    "x = (name[-2])\n",
    "print(x)"
   ]
  },
  {
   "cell_type": "code",
   "execution_count": 10,
   "id": "361c31a2",
   "metadata": {},
   "outputs": [
    {
     "name": "stdout",
     "output_type": "stream",
     "text": [
      "('aqsa', 'affan', 'hassan')\n"
     ]
    }
   ],
   "source": [
    "a = (\"aqsa\",\"affan\",\"misbah\")\n",
    "x =list(a)\n",
    "x[2]=\"hassan\"\n",
    "a = tuple(x)\n",
    "print(a)\n"
   ]
  },
  {
   "cell_type": "code",
   "execution_count": 19,
   "id": "9fa4dfdc",
   "metadata": {},
   "outputs": [
    {
     "name": "stdout",
     "output_type": "stream",
     "text": [
      "['red', 'blue', 'black']\n",
      "white\n",
      "green\n"
     ]
    }
   ],
   "source": [
    "A = (\"red\",\"blue\",\"black\",\"white\",\"green\")\n",
    "(*one , two,three) = A \n",
    "print(one)\n",
    "print(two)\n",
    "print(three)\n"
   ]
  },
  {
   "cell_type": "code",
   "execution_count": 20,
   "id": "6bac4b76",
   "metadata": {},
   "outputs": [
    {
     "name": "stdout",
     "output_type": "stream",
     "text": [
      "red\n",
      "black\n",
      "white\n"
     ]
    }
   ],
   "source": [
    "A = (\"red\",\"black\",\"white\")\n",
    "for i in range(len(A)):\n",
    "    print(A[i])\n",
    "\n",
    "    "
   ]
  },
  {
   "cell_type": "code",
   "execution_count": 27,
   "id": "f33ff286",
   "metadata": {},
   "outputs": [
    {
     "name": "stdout",
     "output_type": "stream",
     "text": [
      "red\n",
      "black\n",
      "white\n",
      "blue\n"
     ]
    }
   ],
   "source": [
    "x = (\"red\",\"black\",\"white\",\"blue\")\n",
    "y = 0\n",
    "while y< len(x):\n",
    "    print(x[y])\n",
    "    y = y +1"
   ]
  },
  {
   "cell_type": "code",
   "execution_count": 53,
   "id": "d73f0b13",
   "metadata": {},
   "outputs": [
    {
     "name": "stdout",
     "output_type": "stream",
     "text": [
      "(1, 2, 7, 8, 5, 9)\n",
      "(1, 2, 7, 8, 5, 9)\n",
      "(1, 2, 7, 8, 5, 9)\n",
      "(1, 2, 7, 8, 5, 9)\n",
      "(1, 2, 7, 8, 5, 9)\n",
      "(1, 2, 7, 8, 5, 9)\n"
     ]
    }
   ],
   "source": [
    "A = (1,2,7,8,5,9)\n",
    "for i in A:\n",
    "    print(A)\n",
    "         \n",
    "         "
   ]
  },
  {
   "cell_type": "code",
   "execution_count": 54,
   "id": "10ef544b",
   "metadata": {},
   "outputs": [
    {
     "name": "stdout",
     "output_type": "stream",
     "text": [
      "3\n",
      "4\n",
      "6\n",
      "8\n",
      "9\n",
      "2\n"
     ]
    }
   ],
   "source": [
    "a = (3,4,6,8,9,2)\n",
    "b = 0\n",
    "while b <len(a):\n",
    "    print(a[b])\n",
    "    b = b + 1"
   ]
  },
  {
   "cell_type": "code",
   "execution_count": null,
   "id": "9af83134",
   "metadata": {},
   "outputs": [],
   "source": []
  }
 ],
 "metadata": {
  "kernelspec": {
   "display_name": "Python 3 (ipykernel)",
   "language": "python",
   "name": "python3"
  },
  "language_info": {
   "codemirror_mode": {
    "name": "ipython",
    "version": 3
   },
   "file_extension": ".py",
   "mimetype": "text/x-python",
   "name": "python",
   "nbconvert_exporter": "python",
   "pygments_lexer": "ipython3",
   "version": "3.10.7"
  }
 },
 "nbformat": 4,
 "nbformat_minor": 5
}
