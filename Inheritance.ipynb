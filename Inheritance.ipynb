{
 "cells": [
  {
   "cell_type": "markdown",
   "id": "b85ba7eb",
   "metadata": {},
   "source": [
    "the process of inheriting the properties of the parent class into child is called inheritance.\n",
    "the main purpose of inheritance is reusability."
   ]
  },
  {
   "cell_type": "markdown",
   "id": "c421a621",
   "metadata": {},
   "source": [
    "# single inheritance\n"
   ]
  },
  {
   "cell_type": "code",
   "execution_count": 4,
   "id": "3b9ab4c8",
   "metadata": {},
   "outputs": [
    {
     "name": "stdout",
     "output_type": "stream",
     "text": [
      "the company name is ABC\n",
      "the numbers employe is 32\n"
     ]
    }
   ],
   "source": [
    "class Company:\n",
    "    def company_info(self):\n",
    "        print(\"the company name is ABC\")\n",
    "\n",
    "class Empolyee(Company):\n",
    "    def empolye_info(self):\n",
    "        print(\"the numbers employe is 32\")\n",
    "        \n",
    "emp = Empolyee()\n",
    "emp.company_info()\n",
    "emp.empolye_info()\n",
    "        "
   ]
  },
  {
   "cell_type": "code",
   "execution_count": 16,
   "id": "a9da35ae",
   "metadata": {},
   "outputs": [
    {
     "name": "stdout",
     "output_type": "stream",
     "text": [
      "Company_name: MCC\n",
      "Company_Location: BKC\n",
      "Employee_name: MISBAH\n",
      "Employee_age: 21\n"
     ]
    }
   ],
   "source": [
    "class company:\n",
    "    def __init__(self,com_name, location):\n",
    "        self.com_name = com_name\n",
    "        self.location = location\n",
    "class Employee(company):\n",
    "    def __init__(self,com_name,location,emp_name,age):\n",
    "        super().__init__(com_name,location)\n",
    "        self.emp_name = emp_name\n",
    "        self.age = age\n",
    "    def show(self):\n",
    "        print(\"Company_name:\", self.com_name)\n",
    "        print(\"Company_Location:\", self.location) \n",
    "        print(\"Employee_name:\", self.emp_name)\n",
    "        print(\"Employee_age:\", self.age)        \n",
    "e1 = Employee(\"MCC\",\"BKC\",\"MISBAH\",21)\n",
    "e1.show()\n",
    "    \n",
    "    \n",
    "        "
   ]
  },
  {
   "cell_type": "code",
   "execution_count": 7,
   "id": "fd4074c3",
   "metadata": {},
   "outputs": [
    {
     "name": "stdout",
     "output_type": "stream",
     "text": [
      "techer name is : Aqsa\n",
      "the salary is : 9000\n",
      "stud name is : misbah\n",
      "stud age : 21\n"
     ]
    }
   ],
   "source": [
    "class Techer:\n",
    "    def __init__(self,tec_name,salary):\n",
    "        self.tec_name = tec_name \n",
    "        self.salary = salary\n",
    "class Student(Techer):\n",
    "    def __init__(self,tec_name,salary,name,age):\n",
    "        super().__init__(tec_name,salary)\n",
    "        self.name = name \n",
    "        self.age = age\n",
    "    def show(self):\n",
    "        print(\"techer name is :\", self.tec_name)\n",
    "        print(\"the salary is :\", self.salary)\n",
    "        print(\"stud name is :\", self.name)\n",
    "        print(\"stud age :\" , self.age)\n",
    "        \n",
    "S1 = Student(\"Aqsa\", 9000, \"misbah\", 21)\n",
    "S1.show()"
   ]
  },
  {
   "cell_type": "code",
   "execution_count": 17,
   "id": "69ca602f",
   "metadata": {},
   "outputs": [
    {
     "name": "stdout",
     "output_type": "stream",
     "text": [
      "the parent name is : khan naeem\n",
      "parent age: 54\n",
      "the child name :  affan\n",
      "child age : 20\n"
     ]
    }
   ],
   "source": [
    "class Parent:\n",
    "    def __init__(self,p_name,p_age):\n",
    "        self.p_name = p_name\n",
    "        self.p_age = p_age\n",
    "class Child(Parent):\n",
    "    def __init__(self,p_name, p_age ,name,age):\n",
    "        super().__init__(p_name,p_age)\n",
    "        self.name = name\n",
    "        self.age = age\n",
    "    def show(self):\n",
    "        print(\"the parent name is :\" ,self.p_name)\n",
    "        print(\"parent age:\", self.p_age )\n",
    "        print(\"the child name :\",self.name)\n",
    "        print(\"child age :\",self.age)\n",
    "\n",
    "p1 = Child(\"khan naeem\", 54, \" affan\", 20)\n",
    "p1.show()"
   ]
  },
  {
   "cell_type": "markdown",
   "id": "048aef5c",
   "metadata": {},
   "source": [
    "# Multiple Inheritance"
   ]
  },
  {
   "cell_type": "code",
   "execution_count": 88,
   "id": "759cc6d6",
   "metadata": {},
   "outputs": [
    {
     "name": "stdout",
     "output_type": "stream",
     "text": [
      "My name is zikra\n",
      "my age is 21\n",
      "my name is afreen\n",
      "My age is 21\n",
      "My name is misbah\n",
      "my age is 21\n"
     ]
    }
   ],
   "source": [
    "class Person :\n",
    "    def  person_info(self):\n",
    "        print(\"my name is afreen\")\n",
    "        print(\"My age is 21\")\n",
    "        \n",
    "class Company:\n",
    "    def company_info(self):\n",
    "        print(\"My name is misbah\")\n",
    "        print(\"my age is 21\")\n",
    "        \n",
    "class Employe(Company,Person):\n",
    "    def Emp_info(self):\n",
    "        print(\"My name is zikra\")\n",
    "        print(\"my age is 21\")\n",
    "        \n",
    "        \n",
    "obje = Employe()\n",
    "\n",
    "obje.Emp_info()\n",
    "obje.person_info()\n",
    "obje.company_info()"
   ]
  },
  {
   "cell_type": "code",
   "execution_count": 117,
   "id": "432411df",
   "metadata": {},
   "outputs": [
    {
     "name": "stdout",
     "output_type": "stream",
     "text": [
      "person name : zikra\n",
      "age: 22\n",
      "company name : BCA\n",
      "location : kurla\n",
      "employe name : misbah\n",
      "salary : 34000\n"
     ]
    }
   ],
   "source": [
    "class Persons:\n",
    "    def persons_info(self,name,age):\n",
    "        print(\"person name :\" , name)\n",
    "        print(\"age:\", age)\n",
    "class Companyy:\n",
    "    def companyy_info(self,com_name,location):\n",
    "        print(\"company name :\",com_name )\n",
    "        print(\"location :\" ,location)\n",
    "        \n",
    "class Empolyee(Persons,Companyy):\n",
    "    def employee_info(self,emp_name,salary):\n",
    "        print(\"employe name :\", emp_name)\n",
    "        print(\"salary :\", salary)\n",
    "\n",
    "s1 = Empolyee()        \n",
    "\n",
    "s1.persons_info(\"zikra\", 22)\n",
    "s1.companyy_info(\"BCA\", \"kurla\")\n",
    "s1.employee_info(\"misbah\", 34000)\n",
    "        "
   ]
  },
  {
   "cell_type": "markdown",
   "id": "eeda62ba",
   "metadata": {},
   "source": [
    "# multilevel inheritance"
   ]
  },
  {
   "cell_type": "code",
   "execution_count": 91,
   "id": "6e617fd9",
   "metadata": {},
   "outputs": [
    {
     "name": "stdout",
     "output_type": "stream",
     "text": [
      "parent name is afreen\n",
      "parent age is 23\n",
      "child name is misbah\n",
      "child age is 20\n",
      "the second child name zikra\n",
      "the second child age is 21\n"
     ]
    }
   ],
   "source": [
    "class Parent:\n",
    "    def parent_info(self):\n",
    "        print(\"parent name is afreen\")\n",
    "        print(\"parent age is 23\")\n",
    "class Child1(Parent):\n",
    "    def child1_info(self):\n",
    "        print(\"child name is misbah\")\n",
    "        print(\"child age is 20\")\n",
    "class Child2(Child1):\n",
    "    def child2_info(self):\n",
    "        print(\"the second child name zikra\")\n",
    "        print(\"the second child age is 21\")\n",
    "emp = Child2()\n",
    "\n",
    "emp.parent_info()\n",
    "emp.child1_info()\n",
    "emp.child2_info()\n",
    "    "
   ]
  },
  {
   "cell_type": "markdown",
   "id": "4e26ac7b",
   "metadata": {},
   "source": [
    "# Hierarchical Inheritance\n"
   ]
  },
  {
   "cell_type": "code",
   "execution_count": 99,
   "id": "f635ed85",
   "metadata": {},
   "outputs": [],
   "source": [
    "#one parent class and multiple child classes."
   ]
  },
  {
   "cell_type": "code",
   "execution_count": 1,
   "id": "e0b60d62",
   "metadata": {},
   "outputs": [
    {
     "name": "stdout",
     "output_type": "stream",
     "text": [
      "this is vehicle\n",
      "car name : BMW\n",
      "car model : AC34\n",
      "this is vehicle\n",
      "bike name : KTM\n",
      "bike model : AS233\n"
     ]
    }
   ],
   "source": [
    "class Vehicle:\n",
    "    def vehicle_info(self):\n",
    "        print(\"this is vehicle\")\n",
    "        \n",
    "class Car(Vehicle):\n",
    "    def car_info(self,name,model):\n",
    "        self.name = name \n",
    "        self.model = model\n",
    "        print(\"car name :\", name)\n",
    "        print(\"car model :\" , model)\n",
    "        \n",
    "class Bike(Car):\n",
    "    def bike_info(self,name,model):\n",
    "        self.name = name\n",
    "        self.model = model\n",
    "        print(\"bike name :\", name)\n",
    "        print(\"bike model :\" , model)\n",
    "\n",
    "obj1 = Car() \n",
    "obj1.vehicle_info()\n",
    "obj1.car_info(\"BMW\", \"AC34\")\n",
    " \n",
    "obj2 = Bike()\n",
    "obj2.vehicle_info()\n",
    "obj2.bike_info(\"KTM\", \"AS233\")"
   ]
  },
  {
   "cell_type": "markdown",
   "id": "f7674446",
   "metadata": {},
   "source": [
    "# Hybrid Inheritance\n",
    "when inheritance is consist of multiple type or a combination of different inheritance is called hybrid inheritance."
   ]
  },
  {
   "cell_type": "code",
   "execution_count": 125,
   "id": "5b94edd6",
   "metadata": {},
   "outputs": [
    {
     "name": "stdout",
     "output_type": "stream",
     "text": [
      "parent class\n",
      "car name: BMW\n",
      "bike name : KTM\n"
     ]
    }
   ],
   "source": [
    "class Vehicle:\n",
    "    def v_info(self):\n",
    "        print(\"parent class\")\n",
    "class Car(Vehicle):\n",
    "    def car_info(self,c_name):\n",
    "        self.c_name = c_name\n",
    "        print(\"car name:\", c_name)                     \n",
    "    \n",
    "class Truck(Vehicle):\n",
    "    def truck_info(self,T_name):\n",
    "        self.T_name = T_name\n",
    "        print(\"truck name:\", T_name)\n",
    "        \n",
    "class Bike(Car,Vehicle):\n",
    "    def bike_info(self,bname):\n",
    "        self.bname = bname\n",
    "        print(\"bike name :\", bname)\n",
    "\n",
    "obje = Bike()\n",
    "obje.v_info()\n",
    "obje.car_info(\"BMW\")\n",
    "obje.bike_info(\"KTM\")"
   ]
  },
  {
   "cell_type": "code",
   "execution_count": 60,
   "id": "df625ce1",
   "metadata": {},
   "outputs": [
    {
     "ename": "TypeError",
     "evalue": "Cannot create a consistent method resolution\norder (MRO) for bases Techer, main",
     "output_type": "error",
     "traceback": [
      "\u001b[1;31m---------------------------------------------------------------------------\u001b[0m",
      "\u001b[1;31mTypeError\u001b[0m                                 Traceback (most recent call last)",
      "Cell \u001b[1;32mIn [60], line 10\u001b[0m\n\u001b[0;32m      8\u001b[0m     \u001b[38;5;28;01mdef\u001b[39;00m \u001b[38;5;21mstude_info\u001b[39m(\u001b[38;5;28mself\u001b[39m):\n\u001b[0;32m      9\u001b[0m         \u001b[38;5;28mprint\u001b[39m(\u001b[38;5;124m\"\u001b[39m\u001b[38;5;124mthis is 2 stud class\u001b[39m\u001b[38;5;124m\"\u001b[39m)\n\u001b[1;32m---> 10\u001b[0m \u001b[38;5;28;01mclass\u001b[39;00m \u001b[38;5;21;01memp\u001b[39;00m(Techer, main):\n\u001b[0;32m     11\u001b[0m     \u001b[38;5;28;01mdef\u001b[39;00m \u001b[38;5;21mmain_info\u001b[39m(\u001b[38;5;28mself\u001b[39m):\n\u001b[0;32m     12\u001b[0m         \u001b[38;5;28mprint\u001b[39m(\u001b[38;5;124m\"\u001b[39m\u001b[38;5;124mthis is main class\u001b[39m\u001b[38;5;124m\"\u001b[39m)\n",
      "\u001b[1;31mTypeError\u001b[0m: Cannot create a consistent method resolution\norder (MRO) for bases Techer, main"
     ]
    }
   ],
   "source": [
    "class Techer:\n",
    "    def tec_info(self):\n",
    "        print(\"this is the main class\")\n",
    "class Student1(Techer):\n",
    "    def stud_info(self):\n",
    "        print(\"this is stud class\")\n",
    "class main(Techer):\n",
    "    def stude_info(self):\n",
    "        print(\"this is 2 stud class\")\n",
    "class emp(Techer, main):\n",
    "    def main_info(self):\n",
    "        print(\"this is main class\")\n",
    "        \n",
    "T1 = emp()\n",
    "T1.tec_info()\n",
    "T1.stude_info()\n",
    "T1.main_info()"
   ]
  },
  {
   "cell_type": "markdown",
   "id": "b2b3019b",
   "metadata": {},
   "source": [
    "# issubclass"
   ]
  },
  {
   "cell_type": "code",
   "execution_count": 41,
   "id": "908f2f55",
   "metadata": {},
   "outputs": [
    {
     "name": "stdout",
     "output_type": "stream",
     "text": [
      "True\n",
      "True\n",
      "False\n",
      "True\n",
      "True\n"
     ]
    }
   ],
   "source": [
    "class Operation1:\n",
    "    def add(self,n1,n2):\n",
    "        return n1 + n2\n",
    "class Operation2:\n",
    "    def sub(self,n1,n2):\n",
    "        return n1 - n2\n",
    "class Operation3:\n",
    "    def multiply(self,n1,n2):\n",
    "        return n1 * n2\n",
    "class Calculate(Operation1 , Operation2, Operation3):\n",
    "    def division(self, n1 , n2):\n",
    "         return n1 / n2\n",
    "    \n",
    "obj = Calculate()\n",
    "print(issubclass(Calculate, Operation1))\n",
    "print(issubclass (Calculate , Operation3))\n",
    "print(issubclass(Operation1 , Calculate))\n",
    "print(issubclass(Calculate,(list,Operation2)))\n",
    "print(issubclass(Calculate,(Operation2 ,Operation2)))\n",
    "\n",
    "\n",
    "\n",
    "\n",
    "    \n"
   ]
  },
  {
   "cell_type": "code",
   "execution_count": 46,
   "id": "f4c94518",
   "metadata": {},
   "outputs": [
    {
     "name": "stdout",
     "output_type": "stream",
     "text": [
      "True\n",
      "False\n"
     ]
    }
   ],
   "source": [
    "class Parent:\n",
    "    pass\n",
    "class child1(Parent):\n",
    "    pass\n",
    "class child2(child1):\n",
    "    pass\n",
    "obj = child2()\n",
    "print(issubclass(child2 , Parent))\n",
    "print(issubclass(child2 , list))\n",
    "\n",
    "    "
   ]
  },
  {
   "cell_type": "code",
   "execution_count": 47,
   "id": "a5201be4",
   "metadata": {},
   "outputs": [],
   "source": [
    "# inheritance overriding"
   ]
  },
  {
   "cell_type": "code",
   "execution_count": 50,
   "id": "6fe4e843",
   "metadata": {},
   "outputs": [
    {
     "name": "stdout",
     "output_type": "stream",
     "text": [
      "the emp name is afreen\n"
     ]
    }
   ],
   "source": [
    "class Employe1:\n",
    "    def emp_info(self):\n",
    "        pritn(\"the emp name misbah\")\n",
    "class Employe2:\n",
    "    def emp_info(self):\n",
    "        print(\"the emp name is afreen\")\n",
    "obj = Employe2()\n",
    "obj.emp_info()"
   ]
  },
  {
   "cell_type": "markdown",
   "id": "1fe7f8d0",
   "metadata": {},
   "source": [
    " # Method Resolution Order(mro)"
   ]
  },
  {
   "cell_type": "code",
   "execution_count": 53,
   "id": "9002de12",
   "metadata": {},
   "outputs": [
    {
     "name": "stdout",
     "output_type": "stream",
     "text": [
      "in class C\n",
      "[<class '__main__.C'>, <class '__main__.B'>, <class '__main__.A'>, <class 'object'>]\n"
     ]
    }
   ],
   "source": [
    "class A:\n",
    "    def info(self):\n",
    "        print(\"In class A\")\n",
    "class B(A):\n",
    "    def info(self):\n",
    "        print(\"In class B\")\n",
    "class C(B,A):\n",
    "    def info(self):\n",
    "        print(\"in class C\")\n",
    "c1 = C()\n",
    "c1.info()\n",
    "print(C.mro())"
   ]
  },
  {
   "cell_type": "code",
   "execution_count": null,
   "id": "df4d586f",
   "metadata": {},
   "outputs": [],
   "source": []
  }
 ],
 "metadata": {
  "kernelspec": {
   "display_name": "Python 3 (ipykernel)",
   "language": "python",
   "name": "python3"
  },
  "language_info": {
   "codemirror_mode": {
    "name": "ipython",
    "version": 3
   },
   "file_extension": ".py",
   "mimetype": "text/x-python",
   "name": "python",
   "nbconvert_exporter": "python",
   "pygments_lexer": "ipython3",
   "version": "3.10.7"
  }
 },
 "nbformat": 4,
 "nbformat_minor": 5
}
