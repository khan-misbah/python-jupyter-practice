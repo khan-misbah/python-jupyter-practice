{
 "cells": [
  {
   "cell_type": "code",
   "execution_count": 2,
   "id": "12362e59",
   "metadata": {},
   "outputs": [
    {
     "name": "stdout",
     "output_type": "stream",
     "text": [
      "3\n"
     ]
    }
   ],
   "source": [
    "a = [2,1,4,3,1,2,4]\n",
    "for i in a :\n",
    "    if a.count(i) == 1:\n",
    "            print(i)"
   ]
  },
  {
   "cell_type": "code",
   "execution_count": 4,
   "id": "690fbdf3",
   "metadata": {},
   "outputs": [
    {
     "name": "stdout",
     "output_type": "stream",
     "text": [
      "1\n",
      "2\n",
      "3\n",
      "4\n",
      "5\n",
      "6\n",
      "7\n",
      "8\n",
      "9\n",
      "10\n"
     ]
    }
   ],
   "source": [
    "a = 1\n",
    "while a <= 10:\n",
    "    print(a)\n",
    "    a = a + 1"
   ]
  },
  {
   "cell_type": "code",
   "execution_count": 5,
   "id": "531df2ef",
   "metadata": {},
   "outputs": [
    {
     "name": "stdout",
     "output_type": "stream",
     "text": [
      "{'Talha': 78}\n"
     ]
    }
   ],
   "source": [
    "student = {\"Umar\":{\"score\": 67}, \"Talha\":{\"score\": 78}, \"Shadab\":{\"score\":17 }}\n",
    "max=0\n",
    "a = ''\n",
    "for x in student:\n",
    "    score=student.get(x)[\"score\"]\n",
    "    if score>max:\n",
    "        max=score\n",
    "        a = x\n",
    "print({a:max})        \n",
    "\n"
   ]
  },
  {
   "cell_type": "code",
   "execution_count": 2,
   "id": "91e0115f",
   "metadata": {},
   "outputs": [
    {
     "ename": "SyntaxError",
     "evalue": "invalid syntax (1839727630.py, line 1)",
     "output_type": "error",
     "traceback": [
      "\u001b[1;36m  Cell \u001b[1;32mIn [2], line 1\u001b[1;36m\u001b[0m\n\u001b[1;33m    Input = [(\"zoo\", \"peanuts\"),(1, 'groot'), (\"teams\",\"ml\"),('dell', 'ipad'), ('water', 'case'), (56,\"apple\")]:\u001b[0m\n\u001b[1;37m                                                                                                               ^\u001b[0m\n\u001b[1;31mSyntaxError\u001b[0m\u001b[1;31m:\u001b[0m invalid syntax\n"
     ]
    }
   ],
   "source": [
    "Input = [(\"zoo\", \"peanuts\"),(1, 'groot'), (\"teams\",\"ml\"),('dell', 'ipad'), ('water', 'case'), (56,\"apple\")]:  \n",
    "\n"
   ]
  },
  {
   "cell_type": "markdown",
   "id": "7925ee41",
   "metadata": {},
   "source": [
    "# Swap adjacent elements in a list without using inbuilt functions?\n",
    "\n"
   ]
  },
  {
   "cell_type": "code",
   "execution_count": 9,
   "id": "4fff9da9",
   "metadata": {},
   "outputs": [
    {
     "name": "stdout",
     "output_type": "stream",
     "text": [
      "[4, 54, 40, 2, 7, 23]\n"
     ]
    }
   ],
   "source": [
    "a = [23,4,54,40,2,7]\n",
    "for i in range(1, len(a)):\n",
    "    a[i],a[i-1] = a[i-1],a[i]\n",
    "print(a)\n",
    "    "
   ]
  },
  {
   "cell_type": "code",
   "execution_count": 17,
   "id": "00a5320c",
   "metadata": {},
   "outputs": [
    {
     "name": "stdout",
     "output_type": "stream",
     "text": [
      "[89, 90, 43, 1, 23, 24]\n"
     ]
    }
   ],
   "source": [
    "x = [ 24,89,90,43,1,23]\n",
    "for a in range(1, len(x)):\n",
    "    x[a],x[a-1] = x[a-1],x[a]\n",
    "print(x)"
   ]
  },
  {
   "cell_type": "code",
   "execution_count": null,
   "id": "9cca22a8",
   "metadata": {},
   "outputs": [],
   "source": [
    "\n"
   ]
  },
  {
   "cell_type": "code",
   "execution_count": null,
   "id": "0b2c87e6",
   "metadata": {},
   "outputs": [],
   "source": [
    "\n"
   ]
  },
  {
   "cell_type": "code",
   "execution_count": null,
   "id": "cd36aae5",
   "metadata": {},
   "outputs": [],
   "source": []
  },
  {
   "cell_type": "code",
   "execution_count": null,
   "id": "a1a7a66c",
   "metadata": {},
   "outputs": [],
   "source": []
  },
  {
   "cell_type": "code",
   "execution_count": null,
   "id": "36a751b2",
   "metadata": {},
   "outputs": [],
   "source": []
  },
  {
   "cell_type": "code",
   "execution_count": null,
   "id": "93e102fd",
   "metadata": {},
   "outputs": [],
   "source": []
  },
  {
   "cell_type": "code",
   "execution_count": null,
   "id": "5e6be30b",
   "metadata": {},
   "outputs": [],
   "source": []
  }
 ],
 "metadata": {
  "kernelspec": {
   "display_name": "Python 3 (ipykernel)",
   "language": "python",
   "name": "python3"
  },
  "language_info": {
   "codemirror_mode": {
    "name": "ipython",
    "version": 3
   },
   "file_extension": ".py",
   "mimetype": "text/x-python",
   "name": "python",
   "nbconvert_exporter": "python",
   "pygments_lexer": "ipython3",
   "version": "3.10.7"
  }
 },
 "nbformat": 4,
 "nbformat_minor": 5
}
