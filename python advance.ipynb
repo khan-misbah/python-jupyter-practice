{
 "cells": [
  {
   "cell_type": "markdown",
   "id": "28753ee6",
   "metadata": {},
   "source": [
    "# Iterator"
   ]
  },
  {
   "cell_type": "code",
   "execution_count": 44,
   "id": "8eb1c3f6",
   "metadata": {},
   "outputs": [
    {
     "name": "stdout",
     "output_type": "stream",
     "text": [
      "1\n",
      "4\n",
      "7\n",
      "9\n"
     ]
    }
   ],
   "source": [
    "list1 = [1,4,7,9]\n",
    "value = iter(list1)\n",
    "\n",
    "\n",
    "item1 = next(value)\n",
    "print(item1)\n",
    "item2 = next(value)\n",
    "print(item2)\n",
    "item3 = next(value)\n",
    "print(item3)\n",
    "item4 = next(value)\n",
    "print(item4)"
   ]
  },
  {
   "cell_type": "code",
   "execution_count": 26,
   "id": "0dd6fcec",
   "metadata": {},
   "outputs": [
    {
     "name": "stdout",
     "output_type": "stream",
     "text": [
      "1\n",
      "2\n"
     ]
    }
   ],
   "source": [
    "nums = 1 ,2, 4\n",
    "iterate = iter(nums)\n",
    "print(next(iterate))\n",
    "print(next(iterate))"
   ]
  },
  {
   "cell_type": "code",
   "execution_count": 39,
   "id": "1016ce2a",
   "metadata": {},
   "outputs": [
    {
     "name": "stdout",
     "output_type": "stream",
     "text": [
      "1\n",
      "2\n",
      "3\n",
      "4\n",
      "5\n"
     ]
    }
   ],
   "source": [
    "class Numbers:\n",
    "    def __init__(self):\n",
    "        self.num = 1\n",
    "    def __iter__(self):\n",
    "        return self\n",
    "    def __next__(self):\n",
    "        if self.num <= 5:\n",
    "            value = self.num\n",
    "            self.num +=1\n",
    "            return value\n",
    "        else:\n",
    "            raise StopIteration\n",
    "obj = iter(Numbers())\n",
    "\n",
    "print(next(obj))\n",
    "print(next(obj))\n",
    "print(next(obj))\n",
    "print(next(obj))\n",
    "print(next(obj))\n",
    "\n"
   ]
  },
  {
   "cell_type": "code",
   "execution_count": 3,
   "id": "4dc525b2",
   "metadata": {},
   "outputs": [
    {
     "name": "stdout",
     "output_type": "stream",
     "text": [
      "0\n",
      "1\n",
      "2\n",
      "3\n",
      "4\n",
      "5\n",
      "6\n",
      "7\n"
     ]
    }
   ],
   "source": [
    "class Numbers:\n",
    "    def __init__(self):\n",
    "        self.num = 0\n",
    "    def __iter__(self):\n",
    "        return self\n",
    "    def __next__(self):\n",
    "        if self.num <=7:\n",
    "            value = self.num\n",
    "            self.num +=1\n",
    "            return value\n",
    "        else:\n",
    "            raise StopIteration\n",
    "num = Numbers()\n",
    "for i in num:\n",
    "    print(i)\n",
    "        "
   ]
  },
  {
   "cell_type": "code",
   "execution_count": 13,
   "id": "49864c01",
   "metadata": {},
   "outputs": [
    {
     "name": "stdout",
     "output_type": "stream",
     "text": [
      "b\n",
      "d\n",
      "c\n",
      "a\n"
     ]
    }
   ],
   "source": [
    "x = {\"a\",\"b\",\"c\",\"d\"}\n",
    "value = iter(x)\n",
    "item1 = next(value)\n",
    "print(item1)\n",
    "item2 = next(value)\n",
    "print(item2)\n",
    "item3 = next(value)\n",
    "print(item3)\n",
    "item4 = next(value)\n",
    "print(item4)\n",
    "\n"
   ]
  },
  {
   "cell_type": "code",
   "execution_count": 22,
   "id": "b4bb2f0e",
   "metadata": {},
   "outputs": [
    {
     "name": "stdout",
     "output_type": "stream",
     "text": [
      "{'a': 1}\n",
      "{'b': 2}\n",
      "{'c': 4}\n"
     ]
    }
   ],
   "source": [
    "a = {\"a\":1}, {\"b\":2} , {\"c\":4}\n",
    "b = iter(a)\n",
    "\n",
    "x1 = next(b)\n",
    "print(x1)\n",
    "x2 = next(b)\n",
    "print(x2)\n",
    "x3 = next(b)\n",
    "print(x3)"
   ]
  },
  {
   "cell_type": "markdown",
   "id": "e0121bd6",
   "metadata": {},
   "source": [
    "# Generator"
   ]
  },
  {
   "cell_type": "code",
   "execution_count": 27,
   "id": "f70f6ce6",
   "metadata": {},
   "outputs": [
    {
     "name": "stdout",
     "output_type": "stream",
     "text": [
      "1\n",
      "2\n",
      "None\n"
     ]
    }
   ],
   "source": [
    "def my_gen():\n",
    "    n = 1\n",
    "    yield n\n",
    "    n +=1\n",
    "    yield n\n",
    "    n +=1\n",
    "    yield\n",
    "x = my_gen()\n",
    "print(next(x))\n",
    "print(next(x))\n",
    "print(next(x))"
   ]
  },
  {
   "cell_type": "code",
   "execution_count": 31,
   "id": "b4d3e70d",
   "metadata": {},
   "outputs": [
    {
     "name": "stdout",
     "output_type": "stream",
     "text": [
      "1\n",
      "2\n",
      "3\n",
      "4\n"
     ]
    }
   ],
   "source": [
    "def new_gen():\n",
    "    yield 1\n",
    "    yield 2\n",
    "    yield 3\n",
    "    yield 4\n",
    "for value in new_gen():\n",
    "    print(value)\n",
    "    "
   ]
  },
  {
   "cell_type": "code",
   "execution_count": 49,
   "id": "aa67ef9b",
   "metadata": {},
   "outputs": [
    {
     "name": "stdout",
     "output_type": "stream",
     "text": [
      "0\n",
      "1\n",
      "1\n",
      "2\n",
      "3\n"
     ]
    }
   ],
   "source": [
    "def fabi(value):\n",
    "    a,b = 0,1\n",
    "    while a < value:\n",
    "        yield a\n",
    "        a,b = b, a +b\n",
    "x = fabi(5)\n",
    "print(next(x))\n",
    "print(next(x))\n",
    "print(next(x))\n",
    "print(next(x))\n",
    "print(next(x))    "
   ]
  },
  {
   "cell_type": "code",
   "execution_count": 53,
   "id": "b06a4926",
   "metadata": {},
   "outputs": [
    {
     "name": "stdout",
     "output_type": "stream",
     "text": [
      "9\n",
      "25\n",
      "36\n",
      "81\n"
     ]
    }
   ],
   "source": [
    "my_list = [ 3,5,6,9]\n",
    "a = (x**2 for x in my_list)\n",
    "print(next(a))\n",
    "print(next(a))\n",
    "print(next(a))\n",
    "print(next(a))\n"
   ]
  },
  {
   "cell_type": "code",
   "execution_count": 61,
   "id": "de9602aa",
   "metadata": {},
   "outputs": [
    {
     "name": "stdout",
     "output_type": "stream",
     "text": [
      "0\n",
      "1\n",
      "1\n",
      "2\n",
      "3\n",
      "5\n",
      "8\n"
     ]
    }
   ],
   "source": [
    "def generator_fino():\n",
    "    n1 = 0\n",
    "    n2 = 1\n",
    "    while True:\n",
    "        yield n1 \n",
    "        n1, n2 = n2, n1 + n2\n",
    "gen = generator_fino()\n",
    "print(next(gen))\n",
    "print(next(gen))\n",
    "print(next(gen))\n",
    "print(next(gen))\n",
    "print(next(gen))\n",
    "print(next(gen))\n",
    "print(next(gen))"
   ]
  },
  {
   "cell_type": "code",
   "execution_count": 122,
   "id": "7c291fb1",
   "metadata": {},
   "outputs": [
    {
     "name": "stdout",
     "output_type": "stream",
     "text": [
      "1\n",
      "2\n",
      "4\n",
      "8\n"
     ]
    }
   ],
   "source": [
    "def my_func(max=0):\n",
    "    n = 0\n",
    "    while n < max:\n",
    "        yield 2**n\n",
    "        n +=1\n",
    "x = my_func(4)  \n",
    "print(next(x))\n",
    "print(next(x))\n",
    "print(next(x))\n",
    "print(next(x))\n"
   ]
  },
  {
   "cell_type": "code",
   "execution_count": 137,
   "id": "d700c733",
   "metadata": {},
   "outputs": [
    {
     "name": "stdout",
     "output_type": "stream",
     "text": [
      "0\n",
      "2\n",
      "4\n",
      "6\n",
      "8\n",
      "10\n"
     ]
    }
   ],
   "source": [
    "def even_num():\n",
    "    n = 0\n",
    "    while True:\n",
    "        yield n\n",
    "        n +=2\n",
    "x = even_num()\n",
    "print(next(x))\n",
    "print(next(x))\n",
    "print(next(x))\n",
    "print(next(x))\n",
    "print(next(x))\n",
    "print(next(x))\n"
   ]
  },
  {
   "cell_type": "code",
   "execution_count": 20,
   "id": "b7a515ca",
   "metadata": {},
   "outputs": [
    {
     "name": "stdout",
     "output_type": "stream",
     "text": [
      "1\n",
      "3\n",
      "5\n",
      "7\n",
      "9\n"
     ]
    }
   ],
   "source": [
    "def odd_num():\n",
    "    n = 1\n",
    "    while True:\n",
    "        yield n\n",
    "        n += 2\n",
    "y = odd_num()\n",
    "print(next(y))\n",
    "print(next(y))\n",
    "print(next(y))\n",
    "print(next(y))\n",
    "print(next(y))\n",
    "\n",
    "        "
   ]
  },
  {
   "cell_type": "code",
   "execution_count": null,
   "id": "ea8f9f14",
   "metadata": {},
   "outputs": [],
   "source": [
    "def fibonacci_numbers(nums):\n",
    "    x ,y = 0,1\n",
    "    for _ in range(nums):\n",
    "        x,y = y, x + y\n",
    "        yield x\n",
    "\n",
    "def suqare(nums):\n",
    "    for num in nums:\n",
    "        yield num**2\n",
    "print(sum(suqare(fibonacci_numbers(8))))       \n",
    "a = fibonacci_numbers(8)\n",
    "print(next(a))\n",
    "print(next(a))\n",
    "print(next(a))\n",
    "print(next(a))\n",
    "print(next(a))\n",
    "print(next(a))\n",
    "print(next(a))\n",
    "print(next(a))"
   ]
  },
  {
   "cell_type": "code",
   "execution_count": 7,
   "id": "213cbb5a",
   "metadata": {
    "scrolled": true
   },
   "outputs": [
    {
     "name": "stdout",
     "output_type": "stream",
     "text": [
      "1\n",
      "4\n",
      "9\n",
      "16\n",
      "25\n",
      "36\n",
      "49\n",
      "64\n",
      "81\n",
      "100\n"
     ]
    }
   ],
   "source": [
    "def suqre():\n",
    "    i =1\n",
    "    while True:\n",
    "        yield i*i\n",
    "        i+=1\n",
    "for num in suqre():\n",
    "    if num > 100:\n",
    "        break\n",
    "    print(num)\n",
    "# print(num)    \n",
    "        \n",
    "        "
   ]
  },
  {
   "cell_type": "code",
   "execution_count": 3,
   "id": "99a2b2ce",
   "metadata": {},
   "outputs": [
    {
     "name": "stdout",
     "output_type": "stream",
     "text": [
      "1\n",
      "8\n",
      "27\n",
      "64\n"
     ]
    }
   ],
   "source": [
    "def cube():\n",
    "    i = 1\n",
    "    while True:\n",
    "        yield i**3\n",
    "        i += 1\n",
    "for a in cube():\n",
    "    if a > 100:\n",
    "        break\n",
    "    print(a)\n",
    "# print(a)   \n"
   ]
  },
  {
   "cell_type": "markdown",
   "id": "d601d917",
   "metadata": {},
   "source": [
    "# decorator"
   ]
  },
  {
   "cell_type": "code",
   "execution_count": 15,
   "id": "78e31b1d",
   "metadata": {},
   "outputs": [
    {
     "name": "stdout",
     "output_type": "stream",
     "text": [
      "hello\n"
     ]
    }
   ],
   "source": [
    "def my_func():\n",
    "    def new_func():\n",
    "        print(\"hello\")\n",
    "    return new_func\n",
    "dec = my_func()\n",
    "dec()"
   ]
  },
  {
   "cell_type": "code",
   "execution_count": 16,
   "id": "173cdceb",
   "metadata": {},
   "outputs": [
    {
     "name": "stdout",
     "output_type": "stream",
     "text": [
      "executed\n",
      "maine code\n",
      "exected now\n"
     ]
    }
   ],
   "source": [
    "def dec1(func1):\n",
    "    def my_func():\n",
    "        print(\"executed\")\n",
    "        func1()\n",
    "        print(\"exected now\")\n",
    "    return my_func\n",
    "@dec1\n",
    "def new_func():\n",
    "    print(\"maine code\")\n",
    "    \n",
    "new_func()  \n"
   ]
  },
  {
   "cell_type": "code",
   "execution_count": 17,
   "id": "0249f391",
   "metadata": {},
   "outputs": [
    {
     "name": "stdout",
     "output_type": "stream",
     "text": [
      "multiply the value 3 and 8\n",
      "24\n"
     ]
    }
   ],
   "source": [
    "def dec_func(func1):\n",
    "    def d_func(a,b):\n",
    "        print(\"multiply the value\" , a ,\"and\", b)\n",
    "        if b == 0:\n",
    "            print(\"cannot multiply\")\n",
    "            return\n",
    "        return func1(a,b)\n",
    "    return d_func\n",
    "@dec_func\n",
    "def func2(a,b):\n",
    "    return a * b\n",
    "value1 = func2(3,8)\n",
    "print(value1)\n"
   ]
  },
  {
   "cell_type": "code",
   "execution_count": 66,
   "id": "c031cb04",
   "metadata": {},
   "outputs": [
    {
     "name": "stdout",
     "output_type": "stream",
     "text": [
      "my name is misbah\n",
      "this my new func\n"
     ]
    }
   ],
   "source": [
    "def sample(mark):\n",
    "    def addingmarks():\n",
    "        print(\"my name is misbah\")\n",
    "        mark()\n",
    "    return addingmarks\n",
    "@sample\n",
    "def student():\n",
    "    print(\"this my new func\")\n",
    "student()\n"
   ]
  },
  {
   "cell_type": "code",
   "execution_count": 47,
   "id": "8aae8020",
   "metadata": {},
   "outputs": [
    {
     "name": "stdout",
     "output_type": "stream",
     "text": [
      "first code\n",
      "second code \n",
      "last one\n"
     ]
    }
   ],
   "source": [
    "def function(x):\n",
    "    def dec_func():\n",
    "        print(\"first code\")\n",
    "        print(\"second code \")\n",
    "        x()\n",
    "    return dec_func\n",
    "@function\n",
    "def my_func():\n",
    "    print(\"last one\")\n",
    "        \n",
    "my_func()"
   ]
  },
  {
   "cell_type": "code",
   "execution_count": 11,
   "id": "4d11ca40",
   "metadata": {},
   "outputs": [
    {
     "name": "stdout",
     "output_type": "stream",
     "text": [
      "dividing 2 by 8\n",
      "0.25\n",
      "dividing 3 by 0\n",
      "can't divide by 0\n",
      "None\n"
     ]
    }
   ],
   "source": [
    "def smart_divide(func):\n",
    "    def inner(a,b):\n",
    "        print(\"dividing\", a, \"by\", b)\n",
    "        if b == 0:\n",
    "            print(\"can't divide by 0\")\n",
    "            return\n",
    "        return func(a,b)\n",
    "    return inner\n",
    "@smart_divide\n",
    "def divide(a,b):\n",
    "    return a /b\n",
    "value = divide(2,8)\n",
    "print(value)\n",
    "value1 = divide(3,0)\n",
    "print(value1)"
   ]
  },
  {
   "cell_type": "code",
   "execution_count": 23,
   "id": "480fa198",
   "metadata": {},
   "outputs": [
    {
     "name": "stdout",
     "output_type": "stream",
     "text": [
      "hello world\n",
      "this school name is abc\n",
      "location of school is kurla\n",
      "my name is  misbah\n"
     ]
    }
   ],
   "source": [
    "def my_func(function):\n",
    "    def my_deco(x,y,z):\n",
    "        print(\"hello world\")\n",
    "        print(\"this school name is\", y)\n",
    "        print(\"location of school is\", z)\n",
    "        function(x)\n",
    "    return my_deco \n",
    "@my_func\n",
    "def new_func(x):\n",
    "#     print(\"good bye\")\n",
    "    print(\"my name is \", x)\n",
    "new_func(\"misbah\", \"abc\", \"kurla\")\n",
    "\n",
    "    "
   ]
  },
  {
   "cell_type": "code",
   "execution_count": 45,
   "id": "c5985f55",
   "metadata": {},
   "outputs": [
    {
     "name": "stdout",
     "output_type": "stream",
     "text": [
      "divide the value 9 and 6\n",
      "1.5\n",
      "divide the value 0 and 7\n",
      "can't divide by 0\n",
      "None\n"
     ]
    }
   ],
   "source": [
    "def my_func(func1):\n",
    "    def dec_func(x,y):\n",
    "        print(\"divide the value\",x, \"and\", y)\n",
    "        if x == 0:\n",
    "            print(\"can't divide by 0\")\n",
    "            return\n",
    "        return func1(x,y)\n",
    "    return dec_func\n",
    "@my_func\n",
    "def values(x,y):\n",
    "    return x / y\n",
    "nums = values (9,6)\n",
    "print(nums)\n",
    "nums =values(0,7)\n",
    "print(nums)\n",
    "    \n",
    "    "
   ]
  },
  {
   "cell_type": "markdown",
   "id": "ab68e2ac",
   "metadata": {},
   "source": [
    "# Filter function"
   ]
  },
  {
   "cell_type": "code",
   "execution_count": 24,
   "id": "07e177dc",
   "metadata": {},
   "outputs": [
    {
     "name": "stdout",
     "output_type": "stream",
     "text": [
      "[234, 654, 256]\n"
     ]
    }
   ],
   "source": [
    "a = [234,654,327,785,256]\n",
    "even_num = list(filter(lambda x : x % 2 ==0 , a))\n",
    "print(even_num)"
   ]
  },
  {
   "cell_type": "code",
   "execution_count": 30,
   "id": "01b313ee",
   "metadata": {},
   "outputs": [
    {
     "name": "stdout",
     "output_type": "stream",
     "text": [
      "(37, 71, 377)\n"
     ]
    }
   ],
   "source": [
    "num =[38,37,71,382,377]\n",
    "odd_nums = tuple(filter(lambda x : x % 2 !=0, num))\n",
    "print(odd_nums)"
   ]
  },
  {
   "cell_type": "code",
   "execution_count": 43,
   "id": "52daf569",
   "metadata": {},
   "outputs": [
    {
     "name": "stdout",
     "output_type": "stream",
     "text": [
      "[13, 10, 16, 24]\n"
     ]
    }
   ],
   "source": [
    "a = [2,3,4,13,10,16,24]\n",
    "def my_func(x):\n",
    "    if x > 9:\n",
    "        return True\n",
    "    else:\n",
    "        return False\n",
    "nums = list(filter(my_func, a))\n",
    "print(nums)\n",
    "    "
   ]
  },
  {
   "cell_type": "code",
   "execution_count": 13,
   "id": "09f807a2",
   "metadata": {},
   "outputs": [
    {
     "name": "stdout",
     "output_type": "stream",
     "text": [
      "(6, 9, 8, 10, 12)\n"
     ]
    }
   ],
   "source": [
    "def func(x):\n",
    "    if x > 5:\n",
    "        return True\n",
    "y = [3,6,9,8,10,12]\n",
    "var = tuple(filter(func,y))\n",
    "print(var)"
   ]
  },
  {
   "cell_type": "code",
   "execution_count": 73,
   "id": "8e832748",
   "metadata": {},
   "outputs": [
    {
     "name": "stdout",
     "output_type": "stream",
     "text": [
      "{8, 9, 5, 6}\n"
     ]
    }
   ],
   "source": [
    "numbers = [3,5,6,2,8,9]\n",
    "def my_func(a):\n",
    "    if a >4:\n",
    "        return True\n",
    "b = set(filter(my_func, numbers))\n",
    "print(b)"
   ]
  },
  {
   "cell_type": "code",
   "execution_count": 115,
   "id": "6c135ba9",
   "metadata": {},
   "outputs": [
    {
     "name": "stdout",
     "output_type": "stream",
     "text": [
      "even number : (2, 6, 8)\n"
     ]
    }
   ],
   "source": [
    "nums = [2,3,6,5,8,7]\n",
    "def my_func(a):\n",
    "    if a % 2 == 0:\n",
    "        return True\n",
    "x = tuple(filter(my_func,nums))\n",
    "print(\"even number :\", x)  \n",
    "            "
   ]
  },
  {
   "cell_type": "code",
   "execution_count": 113,
   "id": "f1208a68",
   "metadata": {},
   "outputs": [
    {
     "name": "stdout",
     "output_type": "stream",
     "text": [
      "odd numbers : (3, 5, 7)\n"
     ]
    }
   ],
   "source": [
    "nums = [2,3,6,5,8,7]\n",
    "def my_func(a):\n",
    "    if a % 2 != 0:\n",
    "        return True\n",
    "x = tuple(filter(my_func,nums))\n",
    "print(\"odd numbers :\", x)  \n"
   ]
  },
  {
   "cell_type": "code",
   "execution_count": 45,
   "id": "eb1b70a7",
   "metadata": {},
   "outputs": [
    {
     "name": "stdout",
     "output_type": "stream",
     "text": [
      "set()\n"
     ]
    }
   ],
   "source": [
    "list1 = [3,5,8,12,6,9,2]\n",
    "def my_func(n):\n",
    "    if n* 2==0:\n",
    "        return True\n",
    "a = set(filter(my_func,list1))\n",
    "print(a)"
   ]
  },
  {
   "cell_type": "code",
   "execution_count": 125,
   "id": "f648e6f5",
   "metadata": {},
   "outputs": [
    {
     "name": "stdout",
     "output_type": "stream",
     "text": [
      "{8, 23, 6, 31}\n"
     ]
    }
   ],
   "source": [
    "a = [2,4,6,8,31,23]\n",
    "def my_func(x):\n",
    "    if x > 5:\n",
    "        return True\n",
    "b = set(filter(my_func, a))\n",
    "print(b)\n"
   ]
  },
  {
   "cell_type": "code",
   "execution_count": 40,
   "id": "ede65902",
   "metadata": {},
   "outputs": [
    {
     "name": "stdout",
     "output_type": "stream",
     "text": [
      "[8, 5, 6]\n"
     ]
    }
   ],
   "source": [
    "x = [3,8,4,5,6]\n",
    "def nums(a):\n",
    "    if a > 4:\n",
    "        return True\n",
    "b = list(filter(nums,x))\n",
    "print(b)"
   ]
  },
  {
   "cell_type": "code",
   "execution_count": 46,
   "id": "5a65a7ac",
   "metadata": {},
   "outputs": [
    {
     "name": "stdout",
     "output_type": "stream",
     "text": [
      "[5, 6, 8]\n"
     ]
    }
   ],
   "source": [
    "def my_func(a):\n",
    "    if a > 4:\n",
    "        return True\n",
    "li = [3,5,6,8]\n",
    "result = list(filter(my_func,li))\n",
    "print(result)"
   ]
  },
  {
   "cell_type": "code",
   "execution_count": 14,
   "id": "8f654f7a",
   "metadata": {},
   "outputs": [
    {
     "name": "stdout",
     "output_type": "stream",
     "text": [
      "{7, 12, 45, 15}\n"
     ]
    }
   ],
   "source": [
    "def nums(x):\n",
    "    if x >6:\n",
    "        return True\n",
    "li =[ 12,15,6,45,7] \n",
    "lis = set(filter(nums,li))\n",
    "print(lis)"
   ]
  },
  {
   "cell_type": "code",
   "execution_count": null,
   "id": "c3a526e7",
   "metadata": {},
   "outputs": [],
   "source": []
  },
  {
   "cell_type": "markdown",
   "id": "81850805",
   "metadata": {},
   "source": [
    "# Map function"
   ]
  },
  {
   "cell_type": "code",
   "execution_count": 128,
   "id": "4ba09e6d",
   "metadata": {},
   "outputs": [
    {
     "name": "stdout",
     "output_type": "stream",
     "text": [
      "{81, 9, 25, 49}\n"
     ]
    }
   ],
   "source": [
    "a = [3,5,7,9,5]\n",
    "b = map(lambda n : n*n, a)\n",
    "print(set(b))"
   ]
  },
  {
   "cell_type": "code",
   "execution_count": 3,
   "id": "553a3e75",
   "metadata": {},
   "outputs": [
    {
     "name": "stdout",
     "output_type": "stream",
     "text": [
      "[12, 9, 11]\n"
     ]
    }
   ],
   "source": [
    "a = (3,2,6)\n",
    "b = (9,7,5)\n",
    "nums = map(lambda n1,n2: n1 + n2, a,b)\n",
    "print(list(nums))"
   ]
  },
  {
   "cell_type": "code",
   "execution_count": 6,
   "id": "a1e0c1bd",
   "metadata": {},
   "outputs": [
    {
     "name": "stdout",
     "output_type": "stream",
     "text": [
      "[3, 4, 5]\n"
     ]
    }
   ],
   "source": [
    "names = [\"ABC\", \"HIKA\",\"NOMIT\"]\n",
    "x = list(map(len,names))\n",
    "print(x)"
   ]
  },
  {
   "cell_type": "code",
   "execution_count": 109,
   "id": "607256e8",
   "metadata": {},
   "outputs": [
    {
     "name": "stdout",
     "output_type": "stream",
     "text": [
      "[8, 14, 16, 18, 6]\n"
     ]
    }
   ],
   "source": [
    "A = [4,7,8,9,3]\n",
    "def nums(x):\n",
    "    return x *2  \n",
    "num = list(map(nums,A))\n",
    "print(num)"
   ]
  },
  {
   "cell_type": "code",
   "execution_count": 115,
   "id": "4b0168f5",
   "metadata": {},
   "outputs": [
    {
     "name": "stdout",
     "output_type": "stream",
     "text": [
      "[9, 81, 49, 36, 25]\n"
     ]
    }
   ],
   "source": [
    "lists = [ 3,9,7,6,5]\n",
    "x = map (lambda n : n * n, lists)\n",
    "print(list(x))"
   ]
  },
  {
   "cell_type": "code",
   "execution_count": 2,
   "id": "40933a97",
   "metadata": {},
   "outputs": [
    {
     "name": "stdout",
     "output_type": "stream",
     "text": [
      "{0.9230769230769231, 0.375, 0.4444444444444444, 1.2857142857142858}\n"
     ]
    }
   ],
   "source": [
    "def division(a,b):\n",
    "    return a/b\n",
    "list1 = [12,3,4,9]\n",
    "list2 = [13,8,9,7]\n",
    "li = set(map(division,list1,list2))\n",
    "print(li)"
   ]
  },
  {
   "cell_type": "code",
   "execution_count": 74,
   "id": "2b25b089",
   "metadata": {},
   "outputs": [
    {
     "name": "stdout",
     "output_type": "stream",
     "text": [
      "(1152, 1360, 1344)\n"
     ]
    }
   ],
   "source": [
    "def multiplay(a,b,c):\n",
    "    return a*b*c\n",
    "x = [3,5,8,9]\n",
    "y = [12,4,8,7]\n",
    "z = [32,68,21]\n",
    "nums = tuple(map(multiplay,x,y,z))\n",
    "print(nums)"
   ]
  },
  {
   "cell_type": "code",
   "execution_count": 47,
   "id": "dd979741",
   "metadata": {},
   "outputs": [
    {
     "name": "stdout",
     "output_type": "stream",
     "text": [
      "[6, 4, 5]\n"
     ]
    }
   ],
   "source": [
    "a = [\"misbha\",\"nida\",\"zikra\"]\n",
    "c = list(map(len,a))\n",
    "print(c)"
   ]
  },
  {
   "cell_type": "code",
   "execution_count": 17,
   "id": "4437dea3",
   "metadata": {},
   "outputs": [
    {
     "name": "stdout",
     "output_type": "stream",
     "text": [
      "(9, 36, 64, 16)\n"
     ]
    }
   ],
   "source": [
    "x = [3,6,8,4]\n",
    "y = tuple(map(lambda n: n*n,x))\n",
    "print(y)"
   ]
  },
  {
   "cell_type": "code",
   "execution_count": null,
   "id": "295d2652",
   "metadata": {},
   "outputs": [],
   "source": []
  },
  {
   "cell_type": "markdown",
   "id": "34e50bee",
   "metadata": {},
   "source": [
    "# Zip function"
   ]
  },
  {
   "cell_type": "code",
   "execution_count": 7,
   "id": "2d7e05be",
   "metadata": {},
   "outputs": [
    {
     "name": "stdout",
     "output_type": "stream",
     "text": [
      "[('name', 'misbah'), ('age', 25)]\n"
     ]
    }
   ],
   "source": [
    "l = [\"name\", \"age\"]\n",
    "li = [\"misbah\", 25]\n",
    "result = list(zip(l,li))\n",
    "print(result)"
   ]
  },
  {
   "cell_type": "code",
   "execution_count": 1,
   "id": "c3c54f54",
   "metadata": {},
   "outputs": [
    {
     "name": "stdout",
     "output_type": "stream",
     "text": [
      "[(2, 'red'), (3, 'black'), (5, 'blue'), (7, 'green')]\n"
     ]
    }
   ],
   "source": [
    "a = [2,3,5,7]\n",
    "b = [ \"red\",\"black\",\"blue\",\"green\"]\n",
    "c = list(zip(a,b))\n",
    "print(c)"
   ]
  },
  {
   "cell_type": "code",
   "execution_count": 3,
   "id": "8f3365d7",
   "metadata": {},
   "outputs": [
    {
     "name": "stdout",
     "output_type": "stream",
     "text": [
      "2 5\n",
      "3 6\n",
      "4 8\n",
      "5 9\n"
     ]
    }
   ],
   "source": [
    "x = [2,3,4,5]\n",
    "y = [5,6,8,9]\n",
    "for a,b in zip(x,y):\n",
    "    print(a,b)"
   ]
  },
  {
   "cell_type": "code",
   "execution_count": null,
   "id": "62ee28ef",
   "metadata": {},
   "outputs": [],
   "source": [
    "\n",
    "    "
   ]
  },
  {
   "cell_type": "code",
   "execution_count": 4,
   "id": "7a1815f1",
   "metadata": {},
   "outputs": [
    {
     "name": "stdout",
     "output_type": "stream",
     "text": [
      "{('one', 1), ('three', 3), ('two', 2)}\n"
     ]
    }
   ],
   "source": [
    "list1 = [\"one\",\"two\", \"three\"]\n",
    "list2 = [1,2,3]\n",
    "x = set(zip(list1,list2))\n",
    "print(x)\n"
   ]
  },
  {
   "cell_type": "code",
   "execution_count": 9,
   "id": "5364f4ba",
   "metadata": {},
   "outputs": [
    {
     "name": "stdout",
     "output_type": "stream",
     "text": [
      "player : Sachin    score : 100\n",
      "player : Sehwag    score : 15\n",
      "player : Gambhir    score : 17\n",
      "player : Dravid    score : 28\n",
      "player : Raina    score : 43\n"
     ]
    }
   ],
   "source": [
    "players = [\"Sachin\", \"Sehwag\", \"Gambhir\", \"Dravid\", \"Raina\"]\n",
    "scores = [100, 15, 17, 28, 43]\n",
    "for pl, sc in zip(players, scores):\n",
    "#     print(\"Player :  %s     Score : %d\" % (pl, sc))\n",
    "      print(\"player :\", pl ,\"  \" ,\"score :\", sc)"
   ]
  },
  {
   "cell_type": "markdown",
   "id": "6b0a8dd2",
   "metadata": {},
   "source": [
    "# join"
   ]
  },
  {
   "cell_type": "code",
   "execution_count": 10,
   "id": "e7e5df8f",
   "metadata": {},
   "outputs": [
    {
     "name": "stdout",
     "output_type": "stream",
     "text": [
      "khan misbah\n"
     ]
    }
   ],
   "source": [
    "x = [\"khan\",\"misbah\"]\n",
    "z = \" \".join(x)\n",
    "print(z)"
   ]
  },
  {
   "cell_type": "code",
   "execution_count": 12,
   "id": "412ba1d1",
   "metadata": {},
   "outputs": [
    {
     "name": "stdout",
     "output_type": "stream",
     "text": [
      "langugae python\n"
     ]
    }
   ],
   "source": [
    "l = [\"langugae\",\"python\"]\n",
    "# li = [\"language\" , \"HTML\"]\n",
    "list1 = \" \".join(l)\n",
    "print(list1)"
   ]
  },
  {
   "cell_type": "markdown",
   "id": "e9c5267c",
   "metadata": {},
   "source": [
    "# enumerate"
   ]
  },
  {
   "cell_type": "code",
   "execution_count": 34,
   "id": "76170f60",
   "metadata": {},
   "outputs": [
    {
     "name": "stdout",
     "output_type": "stream",
     "text": [
      "{1: 'green', 2: 'red', 3: 'black', 4: 'blue'}\n"
     ]
    }
   ],
   "source": [
    "a = {\"red\",\"green\",\"blue\",\"black\"}\n",
    "b = dict(enumerate(a,1))\n",
    "print(b)"
   ]
  },
  {
   "cell_type": "code",
   "execution_count": 59,
   "id": "216503e0",
   "metadata": {},
   "outputs": [
    {
     "name": "stdout",
     "output_type": "stream",
     "text": [
      "{0, 'misbah'}\n",
      "{1, 'zikra'}\n",
      "{'afreen', 2}\n"
     ]
    }
   ],
   "source": [
    "names = [\"misbah\",\"zikra\",\"afreen\"]\n",
    "for item in enumerate(names):\n",
    "    print(set(item))\n"
   ]
  },
  {
   "cell_type": "code",
   "execution_count": 56,
   "id": "e3414c21",
   "metadata": {},
   "outputs": [
    {
     "name": "stdout",
     "output_type": "stream",
     "text": [
      "0 misbah\n",
      "1 zikra\n",
      "2 afreen\n"
     ]
    }
   ],
   "source": [
    "names = [\"misbah\",\"zikra\",\"afreen\"]\n",
    "for count,item in enumerate(names):\n",
    "    print(count,item)\n"
   ]
  },
  {
   "cell_type": "code",
   "execution_count": 20,
   "id": "2f1ee942",
   "metadata": {},
   "outputs": [
    {
     "name": "stdout",
     "output_type": "stream",
     "text": [
      "(3, 'misbah')\n",
      "(4, 'zikra')\n",
      "(5, 'afreen')\n"
     ]
    }
   ],
   "source": [
    "names = [\"misbah\",\"zikra\",\"afreen\"]\n",
    "for item in enumerate(names,3):\n",
    "    print(item)\n"
   ]
  },
  {
   "cell_type": "markdown",
   "id": "e77cdede",
   "metadata": {},
   "source": [
    "# bisect"
   ]
  },
  {
   "cell_type": "code",
   "execution_count": 70,
   "id": "9ba02520",
   "metadata": {},
   "outputs": [
    {
     "name": "stdout",
     "output_type": "stream",
     "text": [
      "5\n",
      "2\n",
      "4\n"
     ]
    }
   ],
   "source": [
    "import bisect\n",
    "\n",
    "li = [1, 3, 4, 4, 4, 6, 7]\n",
    "print (bisect.bisect(li, 4))\n",
    "print (bisect.bisect_left(li, 4))\n",
    "print (bisect.bisect_right(li, 4, 0, 4))\n"
   ]
  },
  {
   "cell_type": "code",
   "execution_count": 35,
   "id": "2bc09cc6",
   "metadata": {},
   "outputs": [
    {
     "name": "stdout",
     "output_type": "stream",
     "text": [
      "3\n",
      "[1, 3, 4, 4, 5, 5, 6, 7]\n"
     ]
    }
   ],
   "source": [
    "import bisect\n",
    "li1 = [1, 3, 4,5,5, 6, 7]\n",
    "l = 4\n",
    "li = bisect.bisect(li1,l)\n",
    "print(li)\n",
    "li1.insert(li, l)\n",
    "print(li1)"
   ]
  },
  {
   "cell_type": "code",
   "execution_count": 6,
   "id": "5b61ae1f",
   "metadata": {},
   "outputs": [
    {
     "name": "stdout",
     "output_type": "stream",
     "text": [
      "3\n"
     ]
    }
   ],
   "source": [
    "import bisect\n",
    "x = [1,2,3,4,5]\n",
    "num = 3\n",
    "y = bisect.bisect(x,num)\n",
    "print(y)"
   ]
  },
  {
   "cell_type": "markdown",
   "id": "3a8c8295",
   "metadata": {},
   "source": [
    "# reduce"
   ]
  },
  {
   "cell_type": "code",
   "execution_count": 111,
   "id": "12e70681",
   "metadata": {},
   "outputs": [
    {
     "name": "stdout",
     "output_type": "stream",
     "text": [
      "48\n"
     ]
    }
   ],
   "source": [
    "from functools import reduce\n",
    "def my_func(a,b):\n",
    "    return a* b\n",
    "l = [2,4,6,1]\n",
    "c = reduce(my_func,l)\n",
    "print(c)"
   ]
  },
  {
   "cell_type": "code",
   "execution_count": 89,
   "id": "5af0d0eb",
   "metadata": {},
   "outputs": [
    {
     "name": "stdout",
     "output_type": "stream",
     "text": [
      "23\n"
     ]
    }
   ],
   "source": [
    "import functools\n",
    "lis = [2,8,9,4]\n",
    "print(functools.reduce(lambda a,b: a+b,lis))"
   ]
  },
  {
   "cell_type": "code",
   "execution_count": 107,
   "id": "43cbd415",
   "metadata": {},
   "outputs": [
    {
     "name": "stdout",
     "output_type": "stream",
     "text": [
      "840\n"
     ]
    }
   ],
   "source": [
    "import functools\n",
    "l = [3,5,7,8]\n",
    "list2 = [4,3,2,6]\n",
    "\n",
    "li = functools.reduce(lambda x,y: x * y, l)\n",
    "print(li)\n"
   ]
  },
  {
   "cell_type": "code",
   "execution_count": 11,
   "id": "fe7340ba",
   "metadata": {},
   "outputs": [
    {
     "name": "stdout",
     "output_type": "stream",
     "text": [
      "7020\n"
     ]
    }
   ],
   "source": [
    "import functools \n",
    "list1 = [3,5,6,78]\n",
    "num = functools.reduce(lambda a,b: a*b ,list1)\n",
    "print(num)"
   ]
  },
  {
   "cell_type": "code",
   "execution_count": 4,
   "id": "c75702d0",
   "metadata": {},
   "outputs": [
    {
     "name": "stdout",
     "output_type": "stream",
     "text": [
      "[9, 16, 49, 81]\n"
     ]
    }
   ],
   "source": [
    "a = [ 3,4,7,9]\n",
    "b = map(lambda n : n*n,a)\n",
    "print(list(b))"
   ]
  },
  {
   "cell_type": "code",
   "execution_count": 23,
   "id": "ace18021",
   "metadata": {},
   "outputs": [
    {
     "name": "stdout",
     "output_type": "stream",
     "text": [
      "0.0008641975308641976\n"
     ]
    }
   ],
   "source": [
    "import functools\n",
    "def my_func(x,y):\n",
    "    return x / y\n",
    "li = [12,5,17,9]\n",
    "z = functools.reduce(my_func,lis)\n",
    "print(z)\n"
   ]
  },
  {
   "cell_type": "code",
   "execution_count": 37,
   "id": "018898be",
   "metadata": {},
   "outputs": [
    {
     "name": "stdout",
     "output_type": "stream",
     "text": [
      "khan misbah\n"
     ]
    }
   ],
   "source": [
    "# import functools\n",
    "import operator\n",
    "a = functools.reduce(operator.add,[\"khan\",\" \",\"misbah\"])\n",
    "print(a)"
   ]
  },
  {
   "cell_type": "code",
   "execution_count": null,
   "id": "879afe73",
   "metadata": {},
   "outputs": [],
   "source": []
  },
  {
   "cell_type": "code",
   "execution_count": null,
   "id": "d3549758",
   "metadata": {},
   "outputs": [],
   "source": []
  },
  {
   "cell_type": "code",
   "execution_count": null,
   "id": "1a97171e",
   "metadata": {},
   "outputs": [],
   "source": []
  },
  {
   "cell_type": "code",
   "execution_count": 100,
   "id": "88163a4e",
   "metadata": {},
   "outputs": [
    {
     "name": "stdout",
     "output_type": "stream",
     "text": [
      "{'A': 5, 'D': 2, 'B': 1, 'C': 3}\n"
     ]
    }
   ],
   "source": [
    "s = \"AAADDBCCCAA\"\n",
    "count = {} \n",
    "for i in s:\n",
    "    if i in count:\n",
    "        count [i] = count[i] + 1\n",
    "    else:\n",
    "        count[i]= 1\n",
    "print(count)   \n",
    "        \n",
    "    \n",
    "    \n",
    "    \n",
    "        "
   ]
  }
 ],
 "metadata": {
  "kernelspec": {
   "display_name": "Python 3 (ipykernel)",
   "language": "python",
   "name": "python3"
  },
  "language_info": {
   "codemirror_mode": {
    "name": "ipython",
    "version": 3
   },
   "file_extension": ".py",
   "mimetype": "text/x-python",
   "name": "python",
   "nbconvert_exporter": "python",
   "pygments_lexer": "ipython3",
   "version": "3.10.7"
  }
 },
 "nbformat": 4,
 "nbformat_minor": 5
}
