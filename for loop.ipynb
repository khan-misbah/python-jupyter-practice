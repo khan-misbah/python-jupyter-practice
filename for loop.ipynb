{
 "cells": [
  {
   "cell_type": "code",
   "execution_count": 3,
   "id": "39151a02",
   "metadata": {},
   "outputs": [
    {
     "name": "stdout",
     "output_type": "stream",
     "text": [
      "red\n",
      "black\n",
      "white\n",
      "blue\n"
     ]
    }
   ],
   "source": [
    "colors = [\"red\",\"black\",\"white\",\"blue\"]\n",
    "for x in colors:\n",
    "    print(x)"
   ]
  },
  {
   "cell_type": "code",
   "execution_count": 7,
   "id": "8b2729f8",
   "metadata": {},
   "outputs": [
    {
     "name": "stdout",
     "output_type": "stream",
     "text": [
      "p\n",
      "y\n",
      "t\n",
      "h\n",
      "o\n",
      "n\n"
     ]
    }
   ],
   "source": [
    "for x in \"python\":\n",
    "    print(x)"
   ]
  },
  {
   "cell_type": "code",
   "execution_count": null,
   "id": "649378be",
   "metadata": {},
   "outputs": [],
   "source": [
    "name = [\"nida\",\"zikra\",\"misbah\"]\n",
    "for x in name"
   ]
  },
  {
   "cell_type": "code",
   "execution_count": 21,
   "id": "2676b2f1",
   "metadata": {},
   "outputs": [
    {
     "name": "stdout",
     "output_type": "stream",
     "text": [
      "0\n",
      "2\n",
      "4\n"
     ]
    }
   ],
   "source": [
    " a = [4,6,1,2,5,3]\n",
    "n = len(a)\n",
    "for i in range(0,n,2):\n",
    "    a[i]\n",
    "    print(i)\n",
    "    "
   ]
  },
  {
   "cell_type": "code",
   "execution_count": 6,
   "id": "1f8bb528",
   "metadata": {},
   "outputs": [
    {
     "name": "stdout",
     "output_type": "stream",
     "text": [
      "misbah\n",
      "nida\n",
      "anam\n"
     ]
    }
   ],
   "source": [
    "mylist = [\"misbah\",\"nida\",\"anam\"]\n",
    "for i in mylist:\n",
    "    print(i)"
   ]
  },
  {
   "cell_type": "code",
   "execution_count": 18,
   "id": "e2c6550b",
   "metadata": {},
   "outputs": [
    {
     "name": "stdout",
     "output_type": "stream",
     "text": [
      "misbah\n",
      "nida\n"
     ]
    }
   ],
   "source": [
    "mylist = [\"misbah\",\"nida\",\"anam\"]\n",
    "for i in mylist:\n",
    "    print(i)\n",
    "    if i == \"nida\":\n",
    "        break\n"
   ]
  },
  {
   "cell_type": "code",
   "execution_count": 21,
   "id": "555a6680",
   "metadata": {},
   "outputs": [
    {
     "name": "stdout",
     "output_type": "stream",
     "text": [
      "anam\n"
     ]
    }
   ],
   "source": [
    "mylist = [\"misbah\",\"nida\",\"anam\"]\n",
    "for i in mylist:\n",
    "    if i == \"nida\":\n",
    "        continue\n",
    "print(i)"
   ]
  },
  {
   "cell_type": "code",
   "execution_count": 7,
   "id": "ebedc114",
   "metadata": {},
   "outputs": [
    {
     "name": "stdout",
     "output_type": "stream",
     "text": [
      "8\n",
      "16\n",
      "24\n",
      "32\n",
      "40\n",
      "48\n",
      "56\n",
      "64\n",
      "72\n",
      "80\n"
     ]
    }
   ],
   "source": [
    "for i in range(1,11):\n",
    "    b = i\n",
    "    b = i*8\n",
    "    print(b)"
   ]
  },
  {
   "cell_type": "code",
   "execution_count": 22,
   "id": "a19ad30e",
   "metadata": {},
   "outputs": [
    {
     "name": "stdout",
     "output_type": "stream",
     "text": [
      "4 * 1 = 4\n",
      "4 * 2 = 8\n",
      "4 * 3 = 12\n",
      "4 * 4 = 16\n",
      "4 * 5 = 20\n",
      "4 * 6 = 24\n",
      "4 * 7 = 28\n",
      "4 * 8 = 32\n",
      "4 * 9 = 36\n",
      "4 * 10 = 40\n"
     ]
    }
   ],
   "source": [
    "def func(a):\n",
    "    for i in range(1,11):\n",
    "        b = i\n",
    "        b = a*i\n",
    "        print(a , '*',i,'=',b) \n",
    "func(4)\n",
    "        \n",
    "        \n",
    "        "
   ]
  },
  {
   "cell_type": "code",
   "execution_count": null,
   "id": "6099a451",
   "metadata": {},
   "outputs": [],
   "source": []
  },
  {
   "cell_type": "code",
   "execution_count": null,
   "id": "181fd935",
   "metadata": {},
   "outputs": [],
   "source": []
  },
  {
   "cell_type": "code",
   "execution_count": 59,
   "id": "95119e8c",
   "metadata": {},
   "outputs": [
    {
     "name": "stdout",
     "output_type": "stream",
     "text": [
      "456\n"
     ]
    }
   ],
   "source": [
    "dic={'name': 'the past', 'price': '456'}\n",
    "# print(dic.get(\"price\"))\n",
    "# x = list(dic.values())[1]\n",
    "print(dic[\"price\"])\n",
    "\n",
    "# print(x)\n"
   ]
  },
  {
   "cell_type": "code",
   "execution_count": 66,
   "id": "ddee6b68",
   "metadata": {},
   "outputs": [
    {
     "name": "stdout",
     "output_type": "stream",
     "text": [
      "765\n"
     ]
    }
   ],
   "source": [
    "books= [{'name': 'the past', 'price': '456'}, {'name': 'herry potter', 'price': '765'}]\n",
    "# for i in books:\n",
    "#     print(i)\n",
    "# for  i in dic.items():\n",
    "#     print(i.values())\n",
    "z= books[1][\"price\"]\n",
    "print(z)"
   ]
  },
  {
   "cell_type": "code",
   "execution_count": null,
   "id": "90815a4c",
   "metadata": {},
   "outputs": [],
   "source": []
  }
 ],
 "metadata": {
  "kernelspec": {
   "display_name": "Python 3 (ipykernel)",
   "language": "python",
   "name": "python3"
  },
  "language_info": {
   "codemirror_mode": {
    "name": "ipython",
    "version": 3
   },
   "file_extension": ".py",
   "mimetype": "text/x-python",
   "name": "python",
   "nbconvert_exporter": "python",
   "pygments_lexer": "ipython3",
   "version": "3.10.7"
  }
 },
 "nbformat": 4,
 "nbformat_minor": 5
}
