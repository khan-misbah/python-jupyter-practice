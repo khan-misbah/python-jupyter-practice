{
 "cells": [
  {
   "cell_type": "code",
   "execution_count": 14,
   "id": "a345c9fe",
   "metadata": {},
   "outputs": [
    {
     "name": "stdout",
     "output_type": "stream",
     "text": [
      "even\n",
      "odd\n",
      "odd\n",
      "odd\n",
      "even\n",
      "odd\n"
     ]
    }
   ],
   "source": [
    "a = [2,3,5,9,6,7]\n",
    "for i in a:\n",
    "    if i %2==0:\n",
    "        print(\"even\")\n",
    "    else:\n",
    "        print(\"odd\")    \n",
    "    "
   ]
  },
  {
   "cell_type": "code",
   "execution_count": 15,
   "id": "e4677003",
   "metadata": {},
   "outputs": [
    {
     "name": "stdout",
     "output_type": "stream",
     "text": [
      "['odd', 'even', 'even', 'even', 'even', 'odd']\n"
     ]
    }
   ],
   "source": [
    "a = [9,8,6,4,2,1]\n",
    "b = []\n",
    "for i in a:\n",
    "    if i%2 == 0:\n",
    "        b.append(\"even\")\n",
    "    else:\n",
    "        b.append(\"odd\")\n",
    "print(b)        \n"
   ]
  },
  {
   "cell_type": "code",
   "execution_count": 22,
   "id": "32e37a7d",
   "metadata": {},
   "outputs": [
    {
     "name": "stdout",
     "output_type": "stream",
     "text": [
      "12\n"
     ]
    }
   ],
   "source": [
    "x = lambda a,b : a*b\n",
    "print(x(4,3))"
   ]
  },
  {
   "cell_type": "code",
   "execution_count": 13,
   "id": "f8fa67b9",
   "metadata": {},
   "outputs": [
    {
     "name": "stdout",
     "output_type": "stream",
     "text": [
      "4\n"
     ]
    }
   ],
   "source": [
    "numbers = [8,3,1,6,2,4,5,9]\n",
    "count = 0\n",
    "for i in range(len(numbers)):\n",
    "    if numbers[i]%2!=0:\n",
    "         count=count+1\n",
    "\n",
    "print(count)"
   ]
  },
  {
   "cell_type": "code",
   "execution_count": 1,
   "id": "2f7b36be",
   "metadata": {},
   "outputs": [],
   "source": [
    "\n"
   ]
  },
  {
   "cell_type": "code",
   "execution_count": null,
   "id": "7c7d5da9",
   "metadata": {},
   "outputs": [],
   "source": []
  },
  {
   "cell_type": "code",
   "execution_count": null,
   "id": "f0e2c78d",
   "metadata": {},
   "outputs": [],
   "source": []
  },
  {
   "cell_type": "code",
   "execution_count": 21,
   "id": "f300a45a",
   "metadata": {},
   "outputs": [
    {
     "name": "stdout",
     "output_type": "stream",
     "text": [
      "5\n"
     ]
    }
   ],
   "source": [
    "# n = int(input(\"Enter number\"))\n",
    "n = 24567\n",
    "count = 0\n",
    "while n > 0 :\n",
    "    n = n // 10\n",
    "    count = count +1\n",
    "print(count)\n",
    "    "
   ]
  },
  {
   "cell_type": "code",
   "execution_count": 25,
   "id": "6029c1f2",
   "metadata": {},
   "outputs": [
    {
     "name": "stdout",
     "output_type": "stream",
     "text": [
      "enter num 564738\n",
      "6\n"
     ]
    }
   ],
   "source": [
    "n = int(input(\"enter num \")) \n",
    "print(len(str(n)))"
   ]
  },
  {
   "cell_type": "code",
   "execution_count": null,
   "id": "b19d1235",
   "metadata": {},
   "outputs": [],
   "source": []
  }
 ],
 "metadata": {
  "kernelspec": {
   "display_name": "Python 3 (ipykernel)",
   "language": "python",
   "name": "python3"
  },
  "language_info": {
   "codemirror_mode": {
    "name": "ipython",
    "version": 3
   },
   "file_extension": ".py",
   "mimetype": "text/x-python",
   "name": "python",
   "nbconvert_exporter": "python",
   "pygments_lexer": "ipython3",
   "version": "3.10.7"
  }
 },
 "nbformat": 4,
 "nbformat_minor": 5
}
