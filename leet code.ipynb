{
 "cells": [
  {
   "cell_type": "code",
   "execution_count": 22,
   "id": "8738f18d",
   "metadata": {},
   "outputs": [
    {
     "name": "stdout",
     "output_type": "stream",
     "text": [
      "[1, 2, 1, 7, 6, 1, 2, 1, 7, 6]\n"
     ]
    }
   ],
   "source": [
    "# nums = [1,2,1]\n",
    "def func(a):\n",
    "    c = a*2\n",
    "    return c\n",
    "\n",
    "nums = [1,2,1,7,6]\n",
    "s = func(nums)\n",
    "print(s)\n"
   ]
  },
  {
   "cell_type": "code",
   "execution_count": 27,
   "id": "e435c86f",
   "metadata": {},
   "outputs": [
    {
     "name": "stdout",
     "output_type": "stream",
     "text": [
      "[1, 2, 1, 8, 9, 5, 1, 2, 1, 8, 9, 5]\n"
     ]
    }
   ],
   "source": [
    "a = [1,2,1,8,9,5]\n",
    "b = a * 2\n",
    "print(b)\n",
    "\n"
   ]
  },
  {
   "cell_type": "code",
   "execution_count": 20,
   "id": "0ebf9a29",
   "metadata": {},
   "outputs": [
    {
     "name": "stdout",
     "output_type": "stream",
     "text": [
      "the sum is 2.1\n"
     ]
    }
   ],
   "source": [
    "def add_func(n1,n2):\n",
    "    result = n1 % n2\n",
    "    print(\"the sum is\",result)\n",
    "    \n",
    "    \n",
    "add_func(5.7,3.6)    \n",
    "    "
   ]
  },
  {
   "cell_type": "code",
   "execution_count": 48,
   "id": "227cb51e",
   "metadata": {},
   "outputs": [
    {
     "name": "stdout",
     "output_type": "stream",
     "text": [
      "[1, 3, 6, 10]\n"
     ]
    }
   ],
   "source": [
    "nums = [1,2,3,4]\n",
    "for i in range(1,len(nums)):\n",
    "    nums[i] = nums[i-1] + nums[i]\n",
    "print(nums)"
   ]
  },
  {
   "cell_type": "code",
   "execution_count": 74,
   "id": "88892ba9",
   "metadata": {},
   "outputs": [
    {
     "name": "stdout",
     "output_type": "stream",
     "text": [
      "[3, 5, 1, 2, 4, 7]\n"
     ]
    }
   ],
   "source": [
    "def my_func(x,y,z):\n",
    "    x[y],x[z]=x[z],x[y]\n",
    "    return x\n",
    "nums = [2,5,1,3,4,7]\n",
    "a= my_func(nums,0,3)\n",
    "print(a)    \n",
    "\n",
    "\n"
   ]
  },
  {
   "cell_type": "code",
   "execution_count": 62,
   "id": "4b0cad52",
   "metadata": {},
   "outputs": [
    {
     "name": "stdout",
     "output_type": "stream",
     "text": [
      "[2, 1, 4, 3]\n"
     ]
    }
   ],
   "source": [
    "def my_func(a,b,c):\n",
    "    a[b],a[c]=a[c],a[b]\n",
    "    return a\n",
    "my_list=[2,1,3,4]\n",
    "b=my_func(my_list,2,3)\n",
    "print(b)\n",
    "\n",
    "    \n",
    "        "
   ]
  },
  {
   "cell_type": "code",
   "execution_count": null,
   "id": "4d1459df",
   "metadata": {},
   "outputs": [],
   "source": [
    "nums = [2,5,1,3,4,7], n = 3\n"
   ]
  }
 ],
 "metadata": {
  "kernelspec": {
   "display_name": "Python 3 (ipykernel)",
   "language": "python",
   "name": "python3"
  },
  "language_info": {
   "codemirror_mode": {
    "name": "ipython",
    "version": 3
   },
   "file_extension": ".py",
   "mimetype": "text/x-python",
   "name": "python",
   "nbconvert_exporter": "python",
   "pygments_lexer": "ipython3",
   "version": "3.10.7"
  }
 },
 "nbformat": 4,
 "nbformat_minor": 5
}
