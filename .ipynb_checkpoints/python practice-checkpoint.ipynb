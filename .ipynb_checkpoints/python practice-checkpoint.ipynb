{
 "cells": [
  {
   "cell_type": "markdown",
   "id": "45668f31",
   "metadata": {},
   "source": [
    "# table"
   ]
  },
  {
   "cell_type": "code",
   "execution_count": 16,
   "id": "77822db2",
   "metadata": {},
   "outputs": [
    {
     "name": "stdout",
     "output_type": "stream",
     "text": [
      "3\n",
      "6\n",
      "9\n",
      "12\n",
      "15\n",
      "18\n",
      "21\n",
      "24\n",
      "27\n",
      "30\n"
     ]
    }
   ],
   "source": [
    "for i in range(1,11):\n",
    "    a = i*3\n",
    "    print(a)"
   ]
  },
  {
   "cell_type": "code",
   "execution_count": 52,
   "id": "e677470d",
   "metadata": {},
   "outputs": [
    {
     "name": "stdout",
     "output_type": "stream",
     "text": [
      "4\n",
      "8\n",
      "12\n",
      "16\n",
      "20\n",
      "24\n",
      "28\n",
      "32\n",
      "36\n",
      "40\n"
     ]
    }
   ],
   "source": [
    "for a in range(1,11):\n",
    "    b = a*4\n",
    "    print(b)"
   ]
  },
  {
   "cell_type": "code",
   "execution_count": 20,
   "id": "effed489",
   "metadata": {},
   "outputs": [
    {
     "name": "stdout",
     "output_type": "stream",
     "text": [
      "6 * 1 = 6\n",
      "6 * 2 = 12\n",
      "6 * 3 = 18\n",
      "6 * 4 = 24\n",
      "6 * 5 = 30\n",
      "6 * 6 = 36\n",
      "6 * 7 = 42\n",
      "6 * 8 = 48\n",
      "6 * 9 = 54\n",
      "6 * 10 = 60\n"
     ]
    }
   ],
   "source": [
    "def table(a):\n",
    "    for x in range(1,11):\n",
    "        b = x*a\n",
    "        print(a,'*',x ,'=',b)\n",
    "table(6) "
   ]
  },
  {
   "cell_type": "code",
   "execution_count": 5,
   "id": "70ff3922",
   "metadata": {},
   "outputs": [
    {
     "name": "stdout",
     "output_type": "stream",
     "text": [
      " name\n"
     ]
    }
   ],
   "source": [
    "a = \"my name misbah\"\n",
    "print(a[2:7])"
   ]
  },
  {
   "cell_type": "code",
   "execution_count": 57,
   "id": "9c375465",
   "metadata": {},
   "outputs": [],
   "source": [
    "def buildArray(self, nums):\n",
    "        a = [0,2,1,5,3,4]\n",
    "        b = []\n",
    "        for x in nums:\n",
    "            z = nums[x]\n",
    "            b.append(z)\n",
    "            print(b)\n",
    "        return(b)    "
   ]
  },
  {
   "cell_type": "code",
   "execution_count": 7,
   "id": "d3b8eb30",
   "metadata": {},
   "outputs": [
    {
     "name": "stdout",
     "output_type": "stream",
     "text": [
      "12\n"
     ]
    }
   ],
   "source": [
    "a = [[1,2,9],[3,2,1]]\n",
    "b = []\n",
    "for x in a:\n",
    "    b.append(sum(x))\n",
    "print(max(b))    \n"
   ]
  },
  {
   "cell_type": "markdown",
   "id": "48493748",
   "metadata": {},
   "source": [
    "# Reduce function"
   ]
  },
  {
   "cell_type": "code",
   "execution_count": 16,
   "id": "1c46285f",
   "metadata": {},
   "outputs": [
    {
     "name": "stdout",
     "output_type": "stream",
     "text": [
      "19\n"
     ]
    }
   ],
   "source": [
    "from functools import reduce\n",
    "\n",
    "def myfunc(a,b):\n",
    "    return a+b\n",
    "l = [4,6,7,2]\n",
    "c = reduce(myfunc,l)\n",
    "print(c)"
   ]
  },
  {
   "cell_type": "code",
   "execution_count": 20,
   "id": "3e791aaa",
   "metadata": {},
   "outputs": [
    {
     "name": "stdout",
     "output_type": "stream",
     "text": [
      "168\n"
     ]
    }
   ],
   "source": [
    "from functools import reduce\n",
    "\n",
    "def func_num(a,b):\n",
    "    return a*b\n",
    "listt =[2,4,7,3]\n",
    "c = reduce(func_num,listt)\n",
    "print(c)"
   ]
  },
  {
   "cell_type": "markdown",
   "id": "29456c54",
   "metadata": {},
   "source": [
    "# Filter function\n",
    "\n"
   ]
  },
  {
   "cell_type": "code",
   "execution_count": 1,
   "id": "b833fc2b",
   "metadata": {},
   "outputs": [
    {
     "name": "stdout",
     "output_type": "stream",
     "text": [
      "[57, 87, 87, 45, 23, 98, 6]\n"
     ]
    }
   ],
   "source": [
    " def myfunc(n):\n",
    "        if n>3:\n",
    "            return True\n",
    "l = [3,57,87,87,45,23,98,6,1,3] \n",
    "output = list(filter(myfunc, l))\n",
    "print(output)    \n",
    "        \n",
    "        \n",
    "        "
   ]
  },
  {
   "cell_type": "code",
   "execution_count": 11,
   "id": "af71ec86",
   "metadata": {},
   "outputs": [
    {
     "name": "stdout",
     "output_type": "stream",
     "text": [
      "[3, 6, 2]\n"
     ]
    }
   ],
   "source": [
    "def num_func(x):\n",
    "    if x<8:\n",
    "        return True\n",
    "y = [3,6,78,2,9,30]\n",
    "var = list(filter(num_func,y))\n",
    "print(var)\n",
    "        \n",
    "        \n"
   ]
  },
  {
   "cell_type": "markdown",
   "id": "7425b1eb",
   "metadata": {},
   "source": [
    "# zip function"
   ]
  },
  {
   "cell_type": "code",
   "execution_count": 7,
   "id": "981ba14e",
   "metadata": {},
   "outputs": [
    {
     "name": "stdout",
     "output_type": "stream",
     "text": [
      "{'misbah': 'khan', 'afreen': 'manihar', 'nida': 'shaikh'}\n"
     ]
    }
   ],
   "source": [
    "name = [\"misbah\",\"afreen\",\"nida\"]\n",
    "lastname = [\"khan\",\"manihar\",\"shaikh\"]\n",
    "print(dict(zip(name,lastname)))"
   ]
  },
  {
   "cell_type": "code",
   "execution_count": 13,
   "id": "ca786931",
   "metadata": {},
   "outputs": [
    {
     "name": "stdout",
     "output_type": "stream",
     "text": [
      "['hello', 'world']\n"
     ]
    }
   ],
   "source": [
    "a = \"hello world\"\n",
    "print (a.split())\n",
    "for i in a:\n",
    "     "
   ]
  },
  {
   "cell_type": "code",
   "execution_count": 57,
   "id": "9da84d32",
   "metadata": {},
   "outputs": [],
   "source": [
    "# find the highest no"
   ]
  },
  {
   "cell_type": "code",
   "execution_count": 16,
   "id": "fa5b43b9",
   "metadata": {},
   "outputs": [
    {
     "name": "stdout",
     "output_type": "stream",
     "text": [
      "86\n"
     ]
    }
   ],
   "source": [
    "a = [3,5,7,86,23,65]\n",
    "b =0\n",
    "for i in a:\n",
    "    if i>b:\n",
    "        b=i\n",
    "print(b)        \n",
    "\n"
   ]
  },
  {
   "cell_type": "code",
   "execution_count": 63,
   "id": "34a002ef",
   "metadata": {},
   "outputs": [
    {
     "name": "stdout",
     "output_type": "stream",
     "text": [
      "78\n"
     ]
    }
   ],
   "source": [
    "a = [3,5,6,78,4]\n",
    "b = 0\n",
    "for i in a:\n",
    "    if i >b:\n",
    "        b = i\n",
    "print(b)        \n",
    "        "
   ]
  },
  {
   "cell_type": "code",
   "execution_count": 56,
   "id": "17d77081",
   "metadata": {},
   "outputs": [],
   "source": [
    "# lowest no"
   ]
  },
  {
   "cell_type": "code",
   "execution_count": 61,
   "id": "3ab3af55",
   "metadata": {},
   "outputs": [
    {
     "name": "stdout",
     "output_type": "stream",
     "text": [
      "0.5\n"
     ]
    }
   ],
   "source": [
    "a = [3,4,7,8,56,76,0.5]\n",
    "b = 3\n",
    "\n",
    "for i in a:\n",
    "    if i <b:\n",
    "        b=i\n",
    "print(b)        \n"
   ]
  },
  {
   "cell_type": "markdown",
   "id": "2cd3cd8e",
   "metadata": {},
   "source": [
    "# cube with list\n"
   ]
  },
  {
   "cell_type": "code",
   "execution_count": 54,
   "id": "262d78c4",
   "metadata": {},
   "outputs": [
    {
     "name": "stdout",
     "output_type": "stream",
     "text": [
      "125\n",
      "216\n",
      "343\n",
      "729\n",
      "8\n"
     ]
    }
   ],
   "source": [
    "a = [5,6,7,9,2]\n",
    "for i in a:\n",
    "    b = i**3\n",
    "    print(b)        \n",
    "    \n",
    "    "
   ]
  },
  {
   "cell_type": "markdown",
   "id": "ecc9f978",
   "metadata": {},
   "source": [
    "# lambda"
   ]
  },
  {
   "cell_type": "code",
   "execution_count": 4,
   "id": "831fdbbe",
   "metadata": {},
   "outputs": [
    {
     "name": "stdout",
     "output_type": "stream",
     "text": [
      "15\n"
     ]
    }
   ],
   "source": [
    "x = lambda a ,b,c : a + b + c\n",
    "print(x(4,5,6))"
   ]
  },
  {
   "cell_type": "code",
   "execution_count": 6,
   "id": "fb375b1e",
   "metadata": {},
   "outputs": [
    {
     "name": "stdout",
     "output_type": "stream",
     "text": [
      "35\n"
     ]
    }
   ],
   "source": [
    "def func(a,b):\n",
    "    print(a * b)\n",
    "func(5,7)\n",
    "    "
   ]
  },
  {
   "cell_type": "code",
   "execution_count": 29,
   "id": "9346edee",
   "metadata": {},
   "outputs": [
    {
     "name": "stdout",
     "output_type": "stream",
     "text": [
      "['misabh', 'nida', 'afreen', 'zikra']\n"
     ]
    }
   ],
   "source": [
    "names = [\"misabh\",\"nida\",\"afreen\",\"zikra\"]\n",
    "newlist = []\n",
    "for i in names:\n",
    "        newlist.append(i)\n",
    "print(newlist)        \n",
    "        \n",
    "        \n"
   ]
  },
  {
   "cell_type": "code",
   "execution_count": 32,
   "id": "dc6a4de0",
   "metadata": {},
   "outputs": [
    {
     "name": "stdout",
     "output_type": "stream",
     "text": [
      "['red', 'white', 'blue', 'black']\n"
     ]
    }
   ],
   "source": [
    "newlist = [\"red\", \"blue\",\"black\"]\n",
    "newlist.insert(1,\"white\")\n",
    "print(newlist)"
   ]
  },
  {
   "cell_type": "code",
   "execution_count": 34,
   "id": "6198ef71",
   "metadata": {},
   "outputs": [
    {
     "name": "stdout",
     "output_type": "stream",
     "text": [
      "['red', 'blue', 'black', 'green']\n"
     ]
    }
   ],
   "source": [
    "mylist = [\"red\",\"blue\",\"black\"]\n",
    "mylist.append(\"green\")\n",
    "print(mylist)"
   ]
  },
  {
   "cell_type": "code",
   "execution_count": 35,
   "id": "18269aca",
   "metadata": {},
   "outputs": [
    {
     "name": "stdout",
     "output_type": "stream",
     "text": [
      "['red', 'blue', 'black', 'green', 'gray', 'green']\n"
     ]
    }
   ],
   "source": [
    "newlist = [\"red\", \"blue\",\"black\"]\n",
    "list = (\"gray\",\"green\")\n",
    "mylist.extend(list)\n",
    "print(mylist)"
   ]
  },
  {
   "cell_type": "code",
   "execution_count": 40,
   "id": "31a0b248",
   "metadata": {},
   "outputs": [
    {
     "name": "stdout",
     "output_type": "stream",
     "text": [
      "red\n",
      "blue\n",
      "green\n",
      "white\n"
     ]
    }
   ],
   "source": [
    "newlist = [\"red\",\"blue\",\"green\",\"white\"]\n",
    "i = 0\n",
    "while i < len(newlist):\n",
    "    print(newlist[i])\n",
    "    i = i + 1\n",
    "    \n",
    "        "
   ]
  },
  {
   "cell_type": "code",
   "execution_count": 1,
   "id": "305547ea",
   "metadata": {},
   "outputs": [
    {
     "name": "stdout",
     "output_type": "stream",
     "text": [
      "a\n",
      "b\n",
      "c\n",
      "d\n"
     ]
    }
   ],
   "source": [
    "nlist = [\"a\",\"b\",\"c\",\"d\"]\n",
    "a = 0\n",
    "while a < len(nlist):\n",
    "    print(nlist[a]) \n",
    "    a = a +1"
   ]
  },
  {
   "cell_type": "markdown",
   "id": "e486ad16",
   "metadata": {},
   "source": [
    "#uniquee no in given list"
   ]
  },
  {
   "cell_type": "code",
   "execution_count": 51,
   "id": "ec2de53e",
   "metadata": {},
   "outputs": [
    {
     "name": "stdout",
     "output_type": "stream",
     "text": [
      "3\n"
     ]
    }
   ],
   "source": [
    "a = [3,5,4,7,3,5]\n",
    "b = 0                                           #xor use to fine uniquee no\n",
    "for i in a:\n",
    "    b^=i \n",
    "print(b)                                          "
   ]
  },
  {
   "cell_type": "code",
   "execution_count": 53,
   "id": "739082a9",
   "metadata": {},
   "outputs": [
    {
     "name": "stdout",
     "output_type": "stream",
     "text": [
      "90\n"
     ]
    }
   ],
   "source": [
    "a = [4,90,83,4,83]\n",
    "b =0\n",
    "for i in a:\n",
    "    b ^=i\n",
    "print(b)    \n",
    "    \n",
    "    \n",
    "\n",
    "\n",
    "\n"
   ]
  },
  {
   "cell_type": "code",
   "execution_count": 40,
   "id": "cb76b7ed",
   "metadata": {},
   "outputs": [
    {
     "name": "stdout",
     "output_type": "stream",
     "text": [
      "7\n",
      "8\n"
     ]
    }
   ],
   "source": [
    "a = [3,5,7,8,3,5]\n",
    "for i in a:\n",
    "    if a.count(i)==1:\n",
    "        print(i)"
   ]
  },
  {
   "cell_type": "code",
   "execution_count": 45,
   "id": "f51dbd7a",
   "metadata": {},
   "outputs": [
    {
     "name": "stdout",
     "output_type": "stream",
     "text": [
      "6\n",
      "7\n"
     ]
    }
   ],
   "source": [
    "a = [2,4,6,4,2,7]\n",
    "for i in a:\n",
    "    if a.count(i)==1:\n",
    "         print(i)"
   ]
  },
  {
   "cell_type": "markdown",
   "id": "7b3f1012",
   "metadata": {},
   "source": [
    "# cube \n",
    "\n",
    "\n"
   ]
  },
  {
   "cell_type": "code",
   "execution_count": 62,
   "id": "6d8d5898",
   "metadata": {},
   "outputs": [
    {
     "name": "stdout",
     "output_type": "stream",
     "text": [
      "1\n",
      "8\n",
      "27\n",
      "64\n",
      "125\n",
      "216\n",
      "343\n",
      "512\n",
      "729\n",
      "1000\n"
     ]
    }
   ],
   "source": [
    "for i in range(1,11):\n",
    "    b =i**3\n",
    "    print(b)\n"
   ]
  },
  {
   "cell_type": "code",
   "execution_count": 82,
   "id": "96ae510e",
   "metadata": {},
   "outputs": [
    {
     "name": "stdout",
     "output_type": "stream",
     "text": [
      "1\n"
     ]
    }
   ],
   "source": [
    "a = [45,1,89,76,23,42,2,3]\n",
    "b = 45\n",
    "for i in a:\n",
    "    if i< b:\n",
    "        b = i\n",
    "print(b)        \n",
    "        "
   ]
  },
  {
   "cell_type": "markdown",
   "id": "88dac580",
   "metadata": {},
   "source": [
    "# slicing steping"
   ]
  },
  {
   "cell_type": "code",
   "execution_count": 9,
   "id": "901af00d",
   "metadata": {},
   "outputs": [
    {
     "name": "stdout",
     "output_type": "stream",
     "text": [
      "mtwtfss\n"
     ]
    }
   ],
   "source": [
    "days = \"mon, tue, wed, thu, fri, sat, sun\"\n",
    "print(days[::5])"
   ]
  },
  {
   "cell_type": "code",
   "execution_count": 12,
   "id": "71ff28db",
   "metadata": {},
   "outputs": [
    {
     "name": "stdout",
     "output_type": "stream",
     "text": [
      "26\n",
      "mbaen,s\n"
     ]
    }
   ],
   "source": [
    "names = \"misabh, afreen, nida, aqsa\"\n",
    "print(len(names))\n",
    "print(names[::4])"
   ]
  },
  {
   "cell_type": "markdown",
   "id": "8e54d7cf",
   "metadata": {},
   "source": [
    "# sort the list without useing sort method"
   ]
  },
  {
   "cell_type": "code",
   "execution_count": 9,
   "id": "71d47f84",
   "metadata": {},
   "outputs": [
    {
     "name": "stdout",
     "output_type": "stream",
     "text": [
      "[1, 2, 3, 4, 5, 6]\n"
     ]
    }
   ],
   "source": [
    "a = [4,5,3,1,2,6]\n",
    "for i in range(1,len(a)):\n",
    "    while a[i-1]>a[i] and i>0:\n",
    "        a[i-1],a[i] = a[i],a[i-1]\n",
    "        i = i - 1\n",
    "print(a)        \n",
    "\n",
    "    \n",
    "    "
   ]
  },
  {
   "cell_type": "markdown",
   "id": "f05f7f62",
   "metadata": {},
   "source": [
    "\n",
    "# swap method and find second highest number"
   ]
  },
  {
   "cell_type": "code",
   "execution_count": 21,
   "id": "87740250",
   "metadata": {},
   "outputs": [
    {
     "name": "stdout",
     "output_type": "stream",
     "text": [
      "8\n"
     ]
    }
   ],
   "source": [
    "a =[2,8,5,9,3,1]\n",
    "for i in range(1,len(a)):\n",
    "    while a[i-1]>a[i] and i >0:\n",
    "        a[i-1],a[i] = a[i],a[i-1]\n",
    "        i = i - 1\n",
    "        \n",
    "#print(a)\n",
    "print(a[-2])         # to find highest no use indexing method \n"
   ]
  },
  {
   "cell_type": "markdown",
   "id": "7792ae06",
   "metadata": {},
   "source": [
    "# even and odd number"
   ]
  },
  {
   "cell_type": "code",
   "execution_count": 53,
   "id": "9662b440",
   "metadata": {},
   "outputs": [
    {
     "name": "stdout",
     "output_type": "stream",
     "text": [
      "enter int number23\n",
      "23 is an odd num\n"
     ]
    }
   ],
   "source": [
    "num = int(input(\"enter int number\"))\n",
    "remainder = num %2\n",
    "if (remainder == 0):\n",
    "    print(num,\"is an even num\")\n",
    "else:\n",
    "        print(num,\"is an odd num\")"
   ]
  },
  {
   "cell_type": "markdown",
   "id": "804c0841",
   "metadata": {},
   "source": [
    "# list second highest no"
   ]
  },
  {
   "cell_type": "code",
   "execution_count": 58,
   "id": "3e8decdb",
   "metadata": {},
   "outputs": [
    {
     "name": "stdout",
     "output_type": "stream",
     "text": [
      "45\n"
     ]
    }
   ],
   "source": [
    "a = [3,34,78,45,]\n",
    "b = []\n",
    "for i in a:\n",
    "    if i>0:\n",
    "        b = i\n",
    "\n",
    "print(b)        "
   ]
  },
  {
   "cell_type": "code",
   "execution_count": null,
   "id": "a13952b6",
   "metadata": {},
   "outputs": [],
   "source": [
    "#list lowest no"
   ]
  },
  {
   "cell_type": "code",
   "execution_count": 59,
   "id": "9af39223",
   "metadata": {},
   "outputs": [
    {
     "name": "stdout",
     "output_type": "stream",
     "text": [
      "3\n"
     ]
    }
   ],
   "source": [
    "a = [0.2,3,8,6,1]\n",
    "b = 0\n",
    "for i in a:\n",
    "    if i<0:\n",
    "        b = i\n",
    "print(b)        \n",
    "        "
   ]
  },
  {
   "cell_type": "code",
   "execution_count": 4,
   "id": "09fe62ec",
   "metadata": {},
   "outputs": [],
   "source": [
    "# function question"
   ]
  },
  {
   "cell_type": "code",
   "execution_count": 1,
   "id": "008ae278",
   "metadata": {},
   "outputs": [
    {
     "name": "stdout",
     "output_type": "stream",
     "text": [
      "36\n"
     ]
    }
   ],
   "source": [
    "def add(a,b):\n",
    "    result = a + b\n",
    "    return result\n",
    "def new_func(c):\n",
    "    return c*6\n",
    "    \n",
    "\n",
    "add(2,4)\n",
    "s = new_func(6)\n",
    "print(s)\n"
   ]
  },
  {
   "cell_type": "code",
   "execution_count": 53,
   "id": "d806b26f",
   "metadata": {},
   "outputs": [
    {
     "name": "stdout",
     "output_type": "stream",
     "text": [
      "8\n"
     ]
    }
   ],
   "source": [
    "def myfucn(number1,number2):\n",
    "    return number1 + number2\n",
    "\n",
    "result = (my_func(3,5))\n",
    "print(result)"
   ]
  },
  {
   "cell_type": "code",
   "execution_count": 23,
   "id": "5fe7299e",
   "metadata": {},
   "outputs": [
    {
     "name": "stdout",
     "output_type": "stream",
     "text": [
      "[2, 4, 8]\n"
     ]
    }
   ],
   "source": [
    "def get_even(numbers):\n",
    "    even_nums = [num for num in numbers if not num % 2]\n",
    "    return even_nums\n",
    "\n",
    "a = get_even([1,2,3,4,5,8])\n",
    "print(a)"
   ]
  },
  {
   "cell_type": "code",
   "execution_count": 70,
   "id": "8cad27e4",
   "metadata": {},
   "outputs": [],
   "source": [
    "# function return value"
   ]
  },
  {
   "cell_type": "code",
   "execution_count": 69,
   "id": "c5244811",
   "metadata": {},
   "outputs": [
    {
     "name": "stdout",
     "output_type": "stream",
     "text": [
      "7\n",
      "49\n"
     ]
    }
   ],
   "source": [
    "def my_add(a,b):\n",
    "    sum = a + b\n",
    "    return sum\n",
    "def new_func(z):\n",
    "    return z*x\n",
    "\n",
    "x = my_add(3,4)\n",
    "print(x)\n",
    "    \n",
    "y = new_func(7)\n",
    "print(y)"
   ]
  },
  {
   "cell_type": "code",
   "execution_count": 79,
   "id": "fb5ac57d",
   "metadata": {},
   "outputs": [
    {
     "data": {
      "text/plain": [
       "25"
      ]
     },
     "execution_count": 79,
     "metadata": {},
     "output_type": "execute_result"
    }
   ],
   "source": [
    "def my_func(a,b):\n",
    "    nums = a - b\n",
    "    return nums\n",
    "def new_func(x):\n",
    "    return x *5\n",
    "\n",
    "my_func(8,3)\n",
    "\n",
    "new_func(5)"
   ]
  },
  {
   "cell_type": "code",
   "execution_count": 22,
   "id": "eea24189",
   "metadata": {},
   "outputs": [
    {
     "name": "stdout",
     "output_type": "stream",
     "text": [
      "[7, 5, 1, 3]\n"
     ]
    }
   ],
   "source": [
    "def get_odd(numbers):\n",
    "    odd_nums = [num for num in numbers if num % 2==1]\n",
    "    return odd_nums\n",
    "\n",
    "a = get_odd([2,4,7,5,8,1,3])\n",
    "print(a)"
   ]
  },
  {
   "cell_type": "code",
   "execution_count": 34,
   "id": "92e83164",
   "metadata": {},
   "outputs": [
    {
     "name": "stdout",
     "output_type": "stream",
     "text": [
      "[3, 5, 7]\n"
     ]
    }
   ],
   "source": [
    "def my_func(numbers):\n",
    "    odd_nums=[num for num in numbers if  num % 2 ==1]\n",
    "    return odd_nums                                                                    # 2==1 define the even     \n",
    "                                                                                        # 2==0 define the odd\n",
    "a = my_func([2,3,5,7,8,4])\n",
    "print(a)"
   ]
  },
  {
   "cell_type": "code",
   "execution_count": 37,
   "id": "ea699266",
   "metadata": {},
   "outputs": [
    {
     "name": "stdout",
     "output_type": "stream",
     "text": [
      "hello\n"
     ]
    }
   ],
   "source": [
    "def mun_func():\n",
    "    print(\"hello\")\n",
    "mun_func()"
   ]
  },
  {
   "cell_type": "code",
   "execution_count": 49,
   "id": "297654fa",
   "metadata": {},
   "outputs": [
    {
     "name": "stdout",
     "output_type": "stream",
     "text": [
      "21\n",
      "56\n",
      "63\n"
     ]
    }
   ],
   "source": [
    "def my_func(a):\n",
    "    print(a * 7)\n",
    "    \n",
    "my_func(3) \n",
    "my_func(8)\n",
    "my_func(9)\n",
    "    \n",
    "    \n"
   ]
  },
  {
   "cell_type": "code",
   "execution_count": 67,
   "id": "b8a00a20",
   "metadata": {},
   "outputs": [
    {
     "name": "stdout",
     "output_type": "stream",
     "text": [
      "3\n",
      "{'a': 1, 'b': 'anam', 'c': 3}\n"
     ]
    }
   ],
   "source": [
    "a = {\"a\":1,\"b\":2,\"c\":3}\n",
    "# a.update({\"b\":5})\n",
    "print(a[\"c\"])\n",
    "a[\"b\"]=\"anam\"\n",
    "print(a)"
   ]
  },
  {
   "cell_type": "code",
   "execution_count": 59,
   "id": "db58077e",
   "metadata": {},
   "outputs": [
    {
     "name": "stdout",
     "output_type": "stream",
     "text": [
      "<class 'dict'>\n"
     ]
    }
   ],
   "source": [
    "a={}\n",
    "print(type(a))"
   ]
  },
  {
   "cell_type": "code",
   "execution_count": 63,
   "id": "f8d81877",
   "metadata": {},
   "outputs": [
    {
     "name": "stdout",
     "output_type": "stream",
     "text": [
      "<class 'set'>\n"
     ]
    }
   ],
   "source": [
    "a = set()\n",
    "print(type(a))\n"
   ]
  },
  {
   "cell_type": "code",
   "execution_count": 3,
   "id": "31dd4e82",
   "metadata": {},
   "outputs": [
    {
     "name": "stdout",
     "output_type": "stream",
     "text": [
      "k bnm\n"
     ]
    }
   ],
   "source": [
    "a = \"khan misbah naeem\"\n",
    "print(a[::4])"
   ]
  },
  {
   "cell_type": "code",
   "execution_count": 5,
   "id": "db00fbd0",
   "metadata": {},
   "outputs": [
    {
     "name": "stdout",
     "output_type": "stream",
     "text": [
      "['misnah', 'sadiya', 'nida', 'aqsa']\n"
     ]
    }
   ],
   "source": [
    "a = [\"misnah\",\"nida\",\"aqsa\"]\n",
    "a.insert(1,\"sadiya\")\n",
    "print(a)"
   ]
  },
  {
   "cell_type": "code",
   "execution_count": 6,
   "id": "503bd409",
   "metadata": {},
   "outputs": [
    {
     "name": "stdout",
     "output_type": "stream",
     "text": [
      "['misnah', 'nida', 'aqsa', 'affan', 'hassan', 'taha']\n"
     ]
    }
   ],
   "source": [
    "a = [\"misnah\",\"nida\",\"aqsa\"]\n",
    "b = [ \"affan\",\"hassan\",\"taha\"]\n",
    "a.extend(b)\n",
    "print(a)"
   ]
  },
  {
   "cell_type": "code",
   "execution_count": 8,
   "id": "8b5b835d",
   "metadata": {},
   "outputs": [
    {
     "name": "stdout",
     "output_type": "stream",
     "text": [
      "['misnah', 'nida']\n"
     ]
    }
   ],
   "source": [
    "a = [\"misnah\",\"nida\",\"aqsa\"]\n",
    "a.pop(2)\n",
    "print(a)"
   ]
  },
  {
   "cell_type": "code",
   "execution_count": 9,
   "id": "87d4d508",
   "metadata": {},
   "outputs": [
    {
     "name": "stdout",
     "output_type": "stream",
     "text": [
      "['misnah', 'aqsa']\n"
     ]
    }
   ],
   "source": [
    "a = [\"misnah\",\"nida\",\"aqsa\"]\n",
    "a.remove(\"nida\")\n",
    "print(a)"
   ]
  },
  {
   "cell_type": "code",
   "execution_count": 14,
   "id": "3ea2f6ce",
   "metadata": {},
   "outputs": [
    {
     "name": "stdout",
     "output_type": "stream",
     "text": [
      "misbah\n",
      "nida\n",
      "aqsa\n"
     ]
    }
   ],
   "source": [
    " mylist = [\"misbah\",\"nida\",\"aqsa\"]\n",
    "for i in mylist:\n",
    "    print(i)\n"
   ]
  },
  {
   "cell_type": "code",
   "execution_count": 16,
   "id": "30d49d02",
   "metadata": {},
   "outputs": [
    {
     "name": "stdout",
     "output_type": "stream",
     "text": [
      "misbah\n",
      "nida\n",
      "aqsa\n"
     ]
    }
   ],
   "source": [
    "mylist = [\"misbah\",\"nida\",\"aqsa\"]\n",
    "for i in range(len(mylist)):\n",
    "    print(mylist[i])"
   ]
  },
  {
   "cell_type": "code",
   "execution_count": 17,
   "id": "17f03284",
   "metadata": {},
   "outputs": [
    {
     "name": "stdout",
     "output_type": "stream",
     "text": [
      "1\n",
      "2\n",
      "3\n",
      "4\n",
      "5\n",
      "6\n",
      "7\n",
      "8\n",
      "9\n",
      "10\n"
     ]
    }
   ],
   "source": [
    "for i in range(1,11):\n",
    "    if i > 0:\n",
    "        print(i)\n"
   ]
  },
  {
   "cell_type": "code",
   "execution_count": 20,
   "id": "ce6befae",
   "metadata": {},
   "outputs": [
    {
     "name": "stdout",
     "output_type": "stream",
     "text": [
      "misbah\n",
      "nida\n",
      "aqsa\n"
     ]
    }
   ],
   "source": [
    " mylist = [\"misbah\",\"nida\",\"aqsa\"]\n",
    "a = 0\n",
    "while a <len(mylist):\n",
    "    print(mylist[a])\n",
    "    a = a + 1"
   ]
  },
  {
   "cell_type": "code",
   "execution_count": 25,
   "id": "ded80951",
   "metadata": {},
   "outputs": [
    {
     "name": "stdout",
     "output_type": "stream",
     "text": [
      "{}\n"
     ]
    }
   ],
   "source": [
    "mydict = {i:f\"item {i}\" for i in range(1,100) if i%100==0}\n",
    "print(mydict)"
   ]
  },
  {
   "cell_type": "markdown",
   "id": "217ece6a",
   "metadata": {},
   "source": [
    "# To create 5 different list using list comprehension method.\n"
   ]
  },
  {
   "cell_type": "code",
   "execution_count": 8,
   "id": "14dad21f",
   "metadata": {},
   "outputs": [
    {
     "name": "stdout",
     "output_type": "stream",
     "text": [
      "['black', 'blue']\n",
      "['red', 'blue', 'green', 'white']\n"
     ]
    }
   ],
   "source": [
    "a = [\"red\",\"black\",\"blue\",\"green\",\"white\"]\n",
    "b = [i for i in a if \"e\" in i]\n",
    "c = [i for i in a if \"b\" in i ]\n",
    "print(c)\n",
    "print(b)\n",
    "\n",
    "    "
   ]
  },
  {
   "cell_type": "markdown",
   "id": "7efc5f76",
   "metadata": {},
   "source": [
    "# odd & even useing list comprehension"
   ]
  },
  {
   "cell_type": "code",
   "execution_count": 39,
   "id": "80f9aafa",
   "metadata": {},
   "outputs": [
    {
     "name": "stdout",
     "output_type": "stream",
     "text": [
      "['Even', 'Even', 'Odd', 'Odd']\n"
     ]
    }
   ],
   "source": [
    "a = [2,4,7,9]\n",
    "b = [\"Even\" if i%2==0 else \"Odd\" for i in a]\n",
    "print(b)"
   ]
  },
  {
   "cell_type": "code",
   "execution_count": 44,
   "id": "82fb5705",
   "metadata": {},
   "outputs": [
    {
     "name": "stdout",
     "output_type": "stream",
     "text": [
      "['even', 'even', 'odd', 'odd']\n"
     ]
    }
   ],
   "source": [
    "x =[3,8,5,4,9]\n",
    "y = [\"even\" if i %2==0 else \"odd\" for i in a ]\n",
    "print(y)"
   ]
  },
  {
   "cell_type": "markdown",
   "id": "8f8215a4",
   "metadata": {},
   "source": [
    "# Create list , add random 10 numbers in list and print largest number of list."
   ]
  },
  {
   "cell_type": "code",
   "execution_count": 54,
   "id": "f7045523",
   "metadata": {},
   "outputs": [
    {
     "name": "stdout",
     "output_type": "stream",
     "text": [
      "10\n"
     ]
    }
   ],
   "source": [
    "a = [1,2,3,4,5,6,7,8,9,10]\n",
    "b = []\n",
    "for i in a:\n",
    "    b = i\n",
    "print(b)    \n",
    "    "
   ]
  },
  {
   "cell_type": "markdown",
   "id": "faf0ae24",
   "metadata": {},
   "source": [
    "# To check whether a given number is present in list or not?\n"
   ]
  },
  {
   "cell_type": "code",
   "execution_count": 63,
   "id": "39e60652",
   "metadata": {},
   "outputs": [
    {
     "name": "stdout",
     "output_type": "stream",
     "text": [
      "yes \n"
     ]
    }
   ],
   "source": [
    "a = [23,87,58,3,2,4]\n",
    "if i in a:\n",
    "    print(\"yes \")\n",
    "else:\n",
    "    print(\"no\")\n",
    "    "
   ]
  },
  {
   "cell_type": "markdown",
   "id": "deb0553f",
   "metadata": {},
   "source": [
    "# To demonstrate any 10 methods of List\n"
   ]
  },
  {
   "cell_type": "code",
   "execution_count": 65,
   "id": "7a8c37fd",
   "metadata": {},
   "outputs": [
    {
     "name": "stdout",
     "output_type": "stream",
     "text": [
      "['a', 'b', 'c', 'd', 'e']\n"
     ]
    }
   ],
   "source": [
    "x = [\"a\",\"b\",\"c\",\"d\"]\n",
    "x.append(\"e\")\n",
    "print(x)"
   ]
  },
  {
   "cell_type": "code",
   "execution_count": 79,
   "id": "7b181dc9",
   "metadata": {},
   "outputs": [
    {
     "name": "stdout",
     "output_type": "stream",
     "text": [
      "[1, 2, 4, 5, 7, 8]\n"
     ]
    }
   ],
   "source": [
    "x = [1,2,4,5,7,8]\n",
    "y = x.copy()\n",
    "print(y)\n"
   ]
  },
  {
   "cell_type": "code",
   "execution_count": 80,
   "id": "3d9a0fe6",
   "metadata": {},
   "outputs": [
    {
     "name": "stdout",
     "output_type": "stream",
     "text": [
      "[]\n"
     ]
    }
   ],
   "source": [
    "mylist = [76,90,54,32]\n",
    "mylist.clear()\n",
    "print(mylist)"
   ]
  },
  {
   "cell_type": "code",
   "execution_count": 89,
   "id": "e205fa16",
   "metadata": {},
   "outputs": [
    {
     "name": "stdout",
     "output_type": "stream",
     "text": [
      "3\n"
     ]
    }
   ],
   "source": [
    "a = [3,8,9,4,3,4,3]\n",
    "b = a.count(3)\n",
    "print(b)"
   ]
  },
  {
   "cell_type": "code",
   "execution_count": 94,
   "id": "74809b2b",
   "metadata": {},
   "outputs": [
    {
     "name": "stdout",
     "output_type": "stream",
     "text": [
      "['misbah', 'aqsa', 'nida', 'zikra', 'afreen']\n"
     ]
    }
   ],
   "source": [
    "a = [\"misbah\",\"aqsa\",\"nida\"]\n",
    "x = [\"zikra\",\"afreen\"]\n",
    "a.extend(x)\n",
    "print(a)"
   ]
  },
  {
   "cell_type": "code",
   "execution_count": 95,
   "id": "0cab7ec5",
   "metadata": {},
   "outputs": [
    {
     "name": "stdout",
     "output_type": "stream",
     "text": [
      "[1, 3, 5, 5, 7, 9]\n"
     ]
    }
   ],
   "source": [
    "a = [3,5,9,7,5,1]\n",
    "a.sort()\n",
    "print(a)"
   ]
  },
  {
   "cell_type": "code",
   "execution_count": 98,
   "id": "22726e30",
   "metadata": {},
   "outputs": [
    {
     "name": "stdout",
     "output_type": "stream",
     "text": [
      "['a', 'b', 'c', 'e', 'd']\n"
     ]
    }
   ],
   "source": [
    "a = [\"a\",\"b\",\"c\",\"d\"]\n",
    "a.insert(3,\"e\")\n",
    "print(a)"
   ]
  },
  {
   "cell_type": "code",
   "execution_count": 101,
   "id": "7eaef252",
   "metadata": {},
   "outputs": [
    {
     "name": "stdout",
     "output_type": "stream",
     "text": [
      "[3, 5, 7, 8]\n"
     ]
    }
   ],
   "source": [
    "a = [3,4,5,7,8]\n",
    "a.pop(1,)\n",
    "print(a)"
   ]
  },
  {
   "cell_type": "code",
   "execution_count": 102,
   "id": "48f4c593",
   "metadata": {},
   "outputs": [
    {
     "name": "stdout",
     "output_type": "stream",
     "text": [
      "['a', 'b']\n"
     ]
    }
   ],
   "source": [
    "x =[\"a\",\"b\",\"c\"]\n",
    "x.remove(\"c\")\n",
    "print(x)"
   ]
  },
  {
   "cell_type": "code",
   "execution_count": 107,
   "id": "104d5b95",
   "metadata": {},
   "outputs": [
    {
     "name": "stdout",
     "output_type": "stream",
     "text": [
      "[1, 9, 6, 3, 2]\n"
     ]
    }
   ],
   "source": [
    "z = [2,3,6,9,1]\n",
    "z.reverse()\n",
    "print(z)"
   ]
  },
  {
   "cell_type": "markdown",
   "id": "d21d56ef",
   "metadata": {},
   "source": [
    "# To add two list [ adding elements of list ]\n"
   ]
  },
  {
   "cell_type": "code",
   "execution_count": 108,
   "id": "d61e6897",
   "metadata": {},
   "outputs": [
    {
     "name": "stdout",
     "output_type": "stream",
     "text": [
      "['red', 'blue', 'black', 'orange', 'kiwi', 'banana']\n"
     ]
    }
   ],
   "source": [
    "a = [\"red\",\"blue\",\"black\"]\n",
    "b =[\"orange\",\"kiwi\",\"banana\"]\n",
    "a.extend(b)\n",
    "print(a)"
   ]
  },
  {
   "cell_type": "markdown",
   "id": "485b16ea",
   "metadata": {},
   "source": [
    "# To sort a given number list in ascending order using functions.\n"
   ]
  },
  {
   "cell_type": "code",
   "execution_count": 136,
   "id": "184a4038",
   "metadata": {},
   "outputs": [
    {
     "name": "stdout",
     "output_type": "stream",
     "text": [
      "[1, 2, 3, 4, 7, 8]\n"
     ]
    }
   ],
   "source": [
    "a = [3,4,7,8,2,1]\n",
    "for i in range(1,len(a)):\n",
    "    while a[i-1]>a[i] and i>0:\n",
    "        a[i-1],a[i]=a[i],a[i-1]\n",
    "        i = i-1\n",
    "print(a)\n"
   ]
  },
  {
   "cell_type": "code",
   "execution_count": null,
   "id": "dcd7495a",
   "metadata": {},
   "outputs": [],
   "source": []
  },
  {
   "cell_type": "code",
   "execution_count": null,
   "id": "d6e7d6c8",
   "metadata": {},
   "outputs": [],
   "source": []
  }
 ],
 "metadata": {
  "kernelspec": {
   "display_name": "Python 3 (ipykernel)",
   "language": "python",
   "name": "python3"
  },
  "language_info": {
   "codemirror_mode": {
    "name": "ipython",
    "version": 3
   },
   "file_extension": ".py",
   "mimetype": "text/x-python",
   "name": "python",
   "nbconvert_exporter": "python",
   "pygments_lexer": "ipython3",
   "version": "3.10.7"
  }
 },
 "nbformat": 4,
 "nbformat_minor": 5
}
