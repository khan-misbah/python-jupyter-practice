{
 "cells": [
  {
   "cell_type": "code",
   "execution_count": 1,
   "id": "f4849de5",
   "metadata": {},
   "outputs": [
    {
     "name": "stdout",
     "output_type": "stream",
     "text": [
      "['red', 'green', ' black']\n"
     ]
    }
   ],
   "source": [
    "a = [\"red\", \"green\", \" black\"]\n",
    "print(a)"
   ]
  },
  {
   "cell_type": "code",
   "execution_count": 3,
   "id": "b8555cee",
   "metadata": {},
   "outputs": [
    {
     "name": "stdout",
     "output_type": "stream",
     "text": [
      "['red', 'green', ' black', 'red', 'green', ' black']\n"
     ]
    }
   ],
   "source": [
    "m = [\"red\", \"green\", \" black\",\"red\", \"green\", \" black\"]\n",
    "print(m)"
   ]
  },
  {
   "cell_type": "code",
   "execution_count": 7,
   "id": "3c33226d",
   "metadata": {},
   "outputs": [
    {
     "name": "stdout",
     "output_type": "stream",
     "text": [
      "4\n"
     ]
    }
   ],
   "source": [
    "c = [\"red\", \"green\", \" black\", \"blue\",]\n",
    "print(len(c))"
   ]
  },
  {
   "cell_type": "code",
   "execution_count": 12,
   "id": "c004510e",
   "metadata": {},
   "outputs": [
    {
     "name": "stdout",
     "output_type": "stream",
     "text": [
      "['nida', 'hassan', 'afreen']\n",
      "[2, 4, 5, 6, 7]\n",
      "[True, False, False]\n"
     ]
    }
   ],
   "source": [
    "mylist1 = [\"nida\",\"hassan\",\"afreen\"]\n",
    "mylist2 = [2,4,5,6,7]\n",
    "mylist3 = [True , False,False]\n",
    "print(mylist1)\n",
    "print(mylist2)\n",
    "print(mylist3)"
   ]
  },
  {
   "cell_type": "code",
   "execution_count": 1,
   "id": "fca05621",
   "metadata": {},
   "outputs": [
    {
     "name": "stdout",
     "output_type": "stream",
     "text": [
      "orange\n"
     ]
    }
   ],
   "source": [
    "l1 = [\"blue\", \"orange\", \"black\"]\n",
    "print (l1[1])"
   ]
  },
  {
   "cell_type": "code",
   "execution_count": 4,
   "id": "920f42ea",
   "metadata": {},
   "outputs": [
    {
     "name": "stdout",
     "output_type": "stream",
     "text": [
      "9\n"
     ]
    }
   ],
   "source": [
    "thislist = [2,3,5,9]\n",
    "print(thislist[-1])\n"
   ]
  },
  {
   "cell_type": "code",
   "execution_count": 2,
   "id": "fcd77c99",
   "metadata": {},
   "outputs": [
    {
     "name": "stdout",
     "output_type": "stream",
     "text": [
      "[9, 7, 2, 4]\n"
     ]
    }
   ],
   "source": [
    "list =[2,4,6,9,7,2,4,3]\n",
    "print(list[3:7])"
   ]
  },
  {
   "cell_type": "code",
   "execution_count": 6,
   "id": "2ff9423f",
   "metadata": {},
   "outputs": [
    {
     "name": "stdout",
     "output_type": "stream",
     "text": [
      "yes, red in list\n"
     ]
    }
   ],
   "source": [
    "list =[\"red\",\"black\",\"blue\"]\n",
    "if \"black\" in list:\n",
    "    print(\"yes, red in list\")"
   ]
  },
  {
   "cell_type": "code",
   "execution_count": 8,
   "id": "ede5b4a1",
   "metadata": {},
   "outputs": [
    {
     "name": "stdout",
     "output_type": "stream",
     "text": [
      "['apple', 'charry', 'kiwi']\n"
     ]
    }
   ],
   "source": [
    "li=[\"banana\",\"charry\", \"kiwi\"]\n",
    "li[0]=\"apple\"\n",
    "print(li)"
   ]
  },
  {
   "cell_type": "code",
   "execution_count": 9,
   "id": "c6cf8683",
   "metadata": {},
   "outputs": [
    {
     "name": "stdout",
     "output_type": "stream",
     "text": [
      "[29, 23, 80, 70, 67, 90]\n"
     ]
    }
   ],
   "source": [
    "li = [29, 23,32,45,67,90]\n",
    "li[2:4]=80,70\n",
    "print(li)"
   ]
  },
  {
   "cell_type": "code",
   "execution_count": 3,
   "id": "f822c2fb",
   "metadata": {},
   "outputs": [
    {
     "name": "stdout",
     "output_type": "stream",
     "text": [
      "['red', 'blue', 'black', 'white']\n"
     ]
    }
   ],
   "source": [
    "list =[\"red\", \"blue\",\"black\",]\n",
    "list.append(\"white\")\n",
    "print(list)"
   ]
  },
  {
   "cell_type": "code",
   "execution_count": 6,
   "id": "7cc4a06c",
   "metadata": {},
   "outputs": [
    {
     "name": "stdout",
     "output_type": "stream",
     "text": [
      "['misbah', 'zikra', 'shaista', 'aqsa']\n"
     ]
    }
   ],
   "source": [
    "newlist = [\"misbah\", \"zikra\", \"aqsa\"]\n",
    "newlist.insert(2, \"shaista\")\n",
    "print(newlist)"
   ]
  },
  {
   "cell_type": "code",
   "execution_count": 7,
   "id": "b8d2c8a0",
   "metadata": {},
   "outputs": [
    {
     "name": "stdout",
     "output_type": "stream",
     "text": [
      "['turkey', 'us', 'dubai', 'khasmire', 'mumbai', 'pune', 'gujrat', 'kokan']\n"
     ]
    }
   ],
   "source": [
    "placename = [\"turkey\", \"us\", \"dubai\",\"khasmire\"]\n",
    "city =[\"mumbai\", \"pune\", \"gujrat\",\"kokan\"]\n",
    "placename.extend(city)\n",
    "print(placename)"
   ]
  },
  {
   "cell_type": "code",
   "execution_count": 8,
   "id": "9993787d",
   "metadata": {},
   "outputs": [
    {
     "name": "stdout",
     "output_type": "stream",
     "text": [
      "['one', 'three']\n"
     ]
    }
   ],
   "source": [
    "list = [\"one\" ,\"two\", \"three\"]\n",
    "list.remove(\"two\")\n",
    "print(list)"
   ]
  },
  {
   "cell_type": "code",
   "execution_count": 14,
   "id": "9f4f3c3a",
   "metadata": {},
   "outputs": [
    {
     "name": "stdout",
     "output_type": "stream",
     "text": [
      "['one', 'two', 'four']\n"
     ]
    }
   ],
   "source": [
    "list = [\"one\", \"two\", \"three\", \"four\"]\n",
    "list.pop(2)\n",
    "print(list)"
   ]
  },
  {
   "cell_type": "code",
   "execution_count": 13,
   "id": "85fd1b5f",
   "metadata": {},
   "outputs": [
    {
     "name": "stdout",
     "output_type": "stream",
     "text": [
      "['one', 'two', 'three']\n"
     ]
    }
   ],
   "source": [
    "list = [\"one\", \"two\", \"three\", \"four\"]\n",
    "list.pop()\n",
    "print(list)"
   ]
  },
  {
   "cell_type": "code",
   "execution_count": 3,
   "id": "cae473e4",
   "metadata": {},
   "outputs": [
    {
     "name": "stdout",
     "output_type": "stream",
     "text": [
      "['nida', 'afreen', 'iqra']\n"
     ]
    }
   ],
   "source": [
    "list = [\"nida\",\"misbah\", \"afreen\",\"iqra\"]\n",
    "del list[1]\n",
    "print(list)"
   ]
  },
  {
   "cell_type": "code",
   "execution_count": 4,
   "id": "9457ef7e",
   "metadata": {},
   "outputs": [
    {
     "name": "stdout",
     "output_type": "stream",
     "text": [
      "[]\n"
     ]
    }
   ],
   "source": [
    "list = [1,3,5,6,7,8]\n",
    "list.clear()\n",
    "print(list)"
   ]
  },
  {
   "cell_type": "code",
   "execution_count": 7,
   "id": "be05ae1f",
   "metadata": {},
   "outputs": [
    {
     "name": "stdout",
     "output_type": "stream",
     "text": [
      "mumbai\n",
      "pune\n",
      "goa\n",
      "surat\n"
     ]
    }
   ],
   "source": [
    "looplist = [\"mumbai\", \"pune\", \"goa\", \"surat\"]\n",
    "for i in range(len(looplist)):\n",
    "    print(looplist[i])"
   ]
  },
  {
   "cell_type": "code",
   "execution_count": 4,
   "id": "f66c6e20",
   "metadata": {},
   "outputs": [
    {
     "name": "stdout",
     "output_type": "stream",
     "text": [
      "mumbai\n",
      "pune\n",
      "gujrat\n"
     ]
    }
   ],
   "source": [
    "whilelist=[\"mumbai\", \"pune\",\"gujrat\"]\n",
    "a = 0\n",
    "while a < len(whilelist):\n",
    "    print(whilelist[a])\n",
    "    a = a + 1"
   ]
  },
  {
   "cell_type": "code",
   "execution_count": 10,
   "id": "62756f34",
   "metadata": {},
   "outputs": [
    {
     "name": "stdout",
     "output_type": "stream",
     "text": [
      "red\n",
      "black\n",
      "orange\n",
      "maroon\n"
     ]
    }
   ],
   "source": [
    "color = [\"red\",\"black\",\"orange\",\"maroon\"]\n",
    "newlist= []\n",
    "\n",
    "for x in color :\n",
    "    if \"a\" in x:\n",
    "        newlist.append(x)\n",
    "    print(x)"
   ]
  },
  {
   "cell_type": "code",
   "execution_count": 11,
   "id": "7842940d",
   "metadata": {},
   "outputs": [
    {
     "name": "stdout",
     "output_type": "stream",
     "text": [
      "[6, 7, 9, 12, 20, 43, 67, 98]\n"
     ]
    }
   ],
   "source": [
    "a = [7,6,9,20,67,43,12,98]\n",
    "a.sort()\n",
    "print(a)"
   ]
  },
  {
   "cell_type": "code",
   "execution_count": 6,
   "id": "9fadd391",
   "metadata": {},
   "outputs": [
    {
     "name": "stdout",
     "output_type": "stream",
     "text": [
      "nida\n",
      "misbah\n",
      "shaista\n"
     ]
    }
   ],
   "source": [
    "mylist = [\"nida\",\"misbah\", \"shaista\"]\n",
    "x = 0\n",
    "while x< len(mylist):   \n",
    "    print(mylist[x])\n",
    "    x = x +1\n"
   ]
  },
  {
   "cell_type": "code",
   "execution_count": 14,
   "id": "46a1fb16",
   "metadata": {
    "scrolled": false
   },
   "outputs": [
    {
     "name": "stdout",
     "output_type": "stream",
     "text": [
      "red\n",
      "blue\n",
      "black\n"
     ]
    },
    {
     "data": {
      "text/plain": [
       "[None, None, None]"
      ]
     },
     "execution_count": 14,
     "metadata": {},
     "output_type": "execute_result"
    }
   ],
   "source": [
    "mylist = [\"red\",\"blue\",\"black\"]\n",
    "[print (x) for x in mylist]"
   ]
  },
  {
   "cell_type": "code",
   "execution_count": 22,
   "id": "7fee0427",
   "metadata": {},
   "outputs": [
    {
     "name": "stdout",
     "output_type": "stream",
     "text": [
      "red\n",
      "blue\n",
      "green\n"
     ]
    }
   ],
   "source": [
    "mylist = [\"red\", \"blue\",\"black\",\"green\"]\n",
    "newlist = []\n",
    "for x in mylist:\n",
    "    if \"e\" in x:\n",
    "        newlist.append(x)\n",
    "        print(x)"
   ]
  },
  {
   "cell_type": "code",
   "execution_count": 2,
   "id": "e54b1abd",
   "metadata": {},
   "outputs": [
    {
     "name": "stdout",
     "output_type": "stream",
     "text": [
      "['red', 'blue', 'green']\n"
     ]
    }
   ],
   "source": [
    "mylist = [\"red\", \"blue\",\"black\",\"green\"]\n",
    "newlist = [x for x in mylist if \"e\" in x]\n",
    "print(newlist)"
   ]
  },
  {
   "cell_type": "code",
   "execution_count": 31,
   "id": "7735f019",
   "metadata": {},
   "outputs": [
    {
     "name": "stdout",
     "output_type": "stream",
     "text": [
      "['mango', 'charry', 'kiwi']\n"
     ]
    }
   ],
   "source": [
    "mylist = [\"mango\",\"charry\",\"kiwi\",\"banana\"]\n",
    "newlist = [x for x in mylist if x!= \"banana\"]\n",
    "print(newlist)"
   ]
  },
  {
   "cell_type": "code",
   "execution_count": 33,
   "id": "2f9a0da8",
   "metadata": {},
   "outputs": [
    {
     "name": "stdout",
     "output_type": "stream",
     "text": [
      "[0, 1, 2, 3, 4, 5, 6, 7, 8, 9, 10, 11, 12, 13, 14, 15, 16, 17, 18, 19, 20]\n"
     ]
    }
   ],
   "source": [
    "mylist = [a for a in range(21)]\n",
    "print(mylist)"
   ]
  },
  {
   "cell_type": "code",
   "execution_count": 1,
   "id": "bf63c133",
   "metadata": {},
   "outputs": [
    {
     "name": "stdout",
     "output_type": "stream",
     "text": [
      "[11, 12, 13, 14, 15, 16, 17, 18, 19]\n"
     ]
    }
   ],
   "source": [
    "mylist = [ x for x in range(20)if x >10]\n",
    "print(mylist)"
   ]
  },
  {
   "cell_type": "code",
   "execution_count": 5,
   "id": "db71a929",
   "metadata": {},
   "outputs": [
    {
     "name": "stdout",
     "output_type": "stream",
     "text": [
      "125\n",
      "216\n",
      "343\n",
      "729\n",
      "8\n"
     ]
    }
   ],
   "source": [
    "a = [5,6,7,9,2]\n",
    "for i in a:\n",
    "    b = i**3\n",
    "    print(b)        \n",
    "    \n",
    "    "
   ]
  },
  {
   "cell_type": "code",
   "execution_count": 17,
   "id": "f6b9b89d",
   "metadata": {},
   "outputs": [
    {
     "name": "stdout",
     "output_type": "stream",
     "text": [
      "343\n",
      "64\n",
      "125\n",
      "8\n",
      "729\n",
      "512\n"
     ]
    }
   ],
   "source": [
    "a = [7,4, 5,2,9,8]\n",
    "for i in a:\n",
    "    b = i**3\n",
    "    print(b)    "
   ]
  },
  {
   "cell_type": "code",
   "execution_count": 1,
   "id": "3ee6ad8a",
   "metadata": {},
   "outputs": [
    {
     "name": "stdout",
     "output_type": "stream",
     "text": [
      "1\n",
      "2\n",
      "3\n",
      "4\n",
      "5\n",
      "6\n",
      "7\n",
      "8\n",
      "9\n",
      "10\n"
     ]
    }
   ],
   "source": [
    "for i in range(1,11):\n",
    "    if i > 0:\n",
    "        print(i)\n"
   ]
  },
  {
   "cell_type": "code",
   "execution_count": null,
   "id": "dd50cc89",
   "metadata": {},
   "outputs": [],
   "source": [
    "a = {1,2,3}\n",
    "a.discard(4)\n",
    "print(a)"
   ]
  },
  {
   "cell_type": "code",
   "execution_count": 14,
   "id": "dc8868f8",
   "metadata": {},
   "outputs": [
    {
     "name": "stdout",
     "output_type": "stream",
     "text": [
      "['iram', 'sayyed']\n",
      "<class 'list'>\n"
     ]
    }
   ],
   "source": [
    "a=list((\"iram\",\"sayyed\"))\n",
    "print(a)\n",
    "print(type(a))"
   ]
  },
  {
   "cell_type": "code",
   "execution_count": 3,
   "id": "aae568a2",
   "metadata": {},
   "outputs": [
    {
     "name": "stdout",
     "output_type": "stream",
     "text": [
      "enter the list num 4\n",
      "4\n",
      "enter number at index 0\n",
      "5\n",
      "enter number at index 1\n",
      "7\n",
      "enter number at index 2\n",
      "78\n",
      "enter number at index 3\n",
      "98\n",
      "user list is [5, 7, 78, 98]\n"
     ]
    }
   ],
   "source": [
    "number_list = []\n",
    "n = int(input(\"enter the list num \"))\n",
    "print(n)\n",
    "for i in range(0,n):\n",
    "    print(\"enter number at index\", i,)\n",
    "    item = int(input())\n",
    "    number_list.append(item)\n",
    "print(\"user list is\", number_list)    "
   ]
  },
  {
   "cell_type": "code",
   "execution_count": null,
   "id": "2b51818b",
   "metadata": {},
   "outputs": [],
   "source": [
    "input_string = input(\"enter the element of list separted by space \")\n",
    "print(\"\\n\")\n",
    "user_list = input_string.split()\n",
    "print(\"list:\", user_list)\n",
    "for i in range(len(user_list)):\n",
    "    user_list[i] = int(user_list[i])\n",
    "print(user_list)"
   ]
  },
  {
   "cell_type": "markdown",
   "id": "1278f04f",
   "metadata": {},
   "source": [
    "##### "
   ]
  },
  {
   "cell_type": "code",
   "execution_count": null,
   "id": "0b31cbd3",
   "metadata": {},
   "outputs": [],
   "source": []
  }
 ],
 "metadata": {
  "kernelspec": {
   "display_name": "Python 3 (ipykernel)",
   "language": "python",
   "name": "python3"
  },
  "language_info": {
   "codemirror_mode": {
    "name": "ipython",
    "version": 3
   },
   "file_extension": ".py",
   "mimetype": "text/x-python",
   "name": "python",
   "nbconvert_exporter": "python",
   "pygments_lexer": "ipython3",
   "version": "3.10.7"
  }
 },
 "nbformat": 4,
 "nbformat_minor": 5
}
