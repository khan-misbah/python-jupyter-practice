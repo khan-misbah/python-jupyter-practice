{
 "cells": [
  {
   "cell_type": "code",
   "execution_count": 1,
   "id": "6c522360",
   "metadata": {},
   "outputs": [
    {
     "name": "stdout",
     "output_type": "stream",
     "text": [
      "{'name': 'misbah', 'age': 21, 'year': 2002}\n"
     ]
    }
   ],
   "source": [
    "mydict = {\n",
    "  \"name\" : \"misbah\",\n",
    "    \"age\": 21 ,\n",
    "     \"year\":2002,\n",
    "}\n",
    "print(mydict)"
   ]
  },
  {
   "cell_type": "code",
   "execution_count": 2,
   "id": "ee098f00",
   "metadata": {},
   "outputs": [
    {
     "name": "stdout",
     "output_type": "stream",
     "text": [
      "misbah\n"
     ]
    }
   ],
   "source": [
    "mydict = {\n",
    "  \"name\" : \"misbah\",\n",
    "    \"age\": 21 ,\n",
    "     \"year\":2002,\n",
    "}\n",
    "x = mydict[\"name\"]\n",
    "print(x)"
   ]
  },
  {
   "cell_type": "code",
   "execution_count": 6,
   "id": "5a0fe5d0",
   "metadata": {},
   "outputs": [
    {
     "name": "stdout",
     "output_type": "stream",
     "text": [
      "2003\n"
     ]
    }
   ],
   "source": [
    "mydict = {\n",
    "    \"name\" : \"affan\",\n",
    "    \"age\" : 19,\n",
    "    \"year\" : 2003 ,\n",
    "}\n",
    "x = mydict.get(\"year\")\n",
    "print(x)"
   ]
  },
  {
   "cell_type": "code",
   "execution_count": 8,
   "id": "c5b20b16",
   "metadata": {},
   "outputs": [
    {
     "name": "stdout",
     "output_type": "stream",
     "text": [
      "dict_keys(['name', 'age', 'year'])\n"
     ]
    }
   ],
   "source": [
    "mydict = {\n",
    "  \"name\" : \"misbah\",\n",
    "    \"age\": 21 ,\n",
    "     \"year\":2002,\n",
    "}\n",
    "x = mydict.keys()\n",
    "print(x)"
   ]
  },
  {
   "cell_type": "code",
   "execution_count": 26,
   "id": "602592a7",
   "metadata": {},
   "outputs": [
    {
     "name": "stdout",
     "output_type": "stream",
     "text": [
      "dict_values(['misbah', 21, 2002])\n",
      "dict_values(['misbah', 21, 2007])\n"
     ]
    }
   ],
   "source": [
    "mydict = {\n",
    "  \"name\" : \"misbah\",\n",
    "    \"age\": 21 ,\n",
    "     \"year\":2002,\n",
    "}\n",
    "x = mydict.values()\n",
    "print(x)\n",
    "mydict[\"year\"] = 2007\n",
    "print(x)"
   ]
  },
  {
   "cell_type": "code",
   "execution_count": 19,
   "id": "f88d57b3",
   "metadata": {},
   "outputs": [
    {
     "name": "stdout",
     "output_type": "stream",
     "text": [
      "True\n"
     ]
    }
   ],
   "source": [
    "mydict = {\n",
    "  \"name\" : \"misbah\",\n",
    "    \"age\": 21 ,\n",
    "     \"year\":2002,\n",
    "}\n",
    "if \"name\" in mydict:\n",
    "    print(True)\n",
    "else:\n",
    "    print(False)\n",
    "     \n"
   ]
  },
  {
   "cell_type": "code",
   "execution_count": 17,
   "id": "d06179d3",
   "metadata": {},
   "outputs": [
    {
     "name": "stdout",
     "output_type": "stream",
     "text": [
      "{'brand': 'samsung', 'model': 51, 'year': 2021}\n"
     ]
    }
   ],
   "source": [
    "thisdict = {\n",
    "    \"brand\" : \"samsung\",\n",
    "    \"model\" :  51,\n",
    "    \"year\"  :  2020    \n",
    "}\n",
    "thisdict [\"year\"] = 2021\n",
    "print(thisdict)"
   ]
  },
  {
   "cell_type": "code",
   "execution_count": 35,
   "id": "022bf432",
   "metadata": {},
   "outputs": [
    {
     "name": "stdout",
     "output_type": "stream",
     "text": [
      "{'brand': 'samsung', 'model': 51, 'year': 2022}\n"
     ]
    }
   ],
   "source": [
    "thisdict = {\n",
    "    \"brand\" : \"samsung\",\n",
    "    \"model\" :  51,\n",
    "    \"year\"  :  2020    \n",
    "}\n",
    "thisdict.update({\"year\":2022})\n",
    "print(thisdict)"
   ]
  },
  {
   "cell_type": "code",
   "execution_count": 14,
   "id": "1123c4df",
   "metadata": {},
   "outputs": [
    {
     "name": "stdout",
     "output_type": "stream",
     "text": [
      "samsung\n",
      "{'model': 51, 'year': 2020}\n"
     ]
    }
   ],
   "source": [
    "thisdict = {\n",
    "    \"brand\" : \"samsung\",\n",
    "    \"model\" :  51,\n",
    "    \"year\"  :  2020    \n",
    "}\n",
    "x = thisdict.pop(\"brand\")\n",
    "print(x)\n",
    "print(thisdict)"
   ]
  },
  {
   "cell_type": "code",
   "execution_count": 37,
   "id": "2a39b7da",
   "metadata": {},
   "outputs": [
    {
     "name": "stdout",
     "output_type": "stream",
     "text": [
      "{'brand': 'samsung', 'model': 51}\n"
     ]
    }
   ],
   "source": [
    "thisdict = {\n",
    "    \"brand\" : \"samsung\",\n",
    "    \"model\" :  51,\n",
    "    \"year\"  :  2020    \n",
    "}\n",
    "thisdict.popitem()\n",
    "print(thisdict)"
   ]
  },
  {
   "cell_type": "code",
   "execution_count": 41,
   "id": "9d0dbf51",
   "metadata": {},
   "outputs": [
    {
     "name": "stdout",
     "output_type": "stream",
     "text": [
      "brand\n",
      "model\n",
      "year\n"
     ]
    }
   ],
   "source": [
    "thisdict = {\n",
    "    \"brand\" : \"samsung\",\n",
    "    \"model\" :  51,\n",
    "    \"year\"  :  2020    \n",
    "}\n",
    "for x in thisdict:\n",
    "    print(x)\n"
   ]
  },
  {
   "cell_type": "code",
   "execution_count": 42,
   "id": "bde8865a",
   "metadata": {},
   "outputs": [
    {
     "name": "stdout",
     "output_type": "stream",
     "text": [
      "samsung\n",
      "51\n",
      "2020\n"
     ]
    }
   ],
   "source": [
    "thisdict = {\n",
    "    \"brand\" : \"samsung\",\n",
    "    \"model\" :  51,\n",
    "    \"year\"  :  2020    \n",
    "}\n",
    "for x in thisdict:\n",
    "    print(thisdict[x])\n"
   ]
  },
  {
   "cell_type": "code",
   "execution_count": 45,
   "id": "f3187647",
   "metadata": {},
   "outputs": [
    {
     "name": "stdout",
     "output_type": "stream",
     "text": [
      "brand\n",
      "model\n",
      "year\n"
     ]
    }
   ],
   "source": [
    "thisdict = {\n",
    "    \"brand\" : \"samsung\",\n",
    "    \"model\" :  51,\n",
    "    \"year\"  :  2020    \n",
    "}\n",
    "for x in thisdict.keys():\n",
    "    print(x)\n"
   ]
  },
  {
   "cell_type": "code",
   "execution_count": 47,
   "id": "27383683",
   "metadata": {},
   "outputs": [
    {
     "name": "stdout",
     "output_type": "stream",
     "text": [
      "('brand', 'samsung')\n",
      "('model', 51)\n",
      "('year', 2020)\n"
     ]
    }
   ],
   "source": [
    "thisdict = {\n",
    "    \"brand\" : \"samsung\",\n",
    "    \"model\" :  51,\n",
    "    \"year\"  :  2020    \n",
    "}\n",
    "for x in thisdict.items():\n",
    "    print(x)\n"
   ]
  },
  {
   "cell_type": "code",
   "execution_count": 52,
   "id": "f8bb3551",
   "metadata": {},
   "outputs": [
    {
     "name": "stdout",
     "output_type": "stream",
     "text": [
      "{'brand': 'samsung', 'model': 51, 'year': 2020}\n"
     ]
    }
   ],
   "source": [
    "thisdict = {\n",
    "    \"brand\" : \"samsung\",\n",
    "    \"model\" :  51,\n",
    "    \"year\"  :  2020    \n",
    "}\n",
    "mydict = thisdict.copy()\n",
    "print(mydict)\n"
   ]
  },
  {
   "cell_type": "markdown",
   "id": "ca1a4fac",
   "metadata": {},
   "source": [
    "# if else elif statment\n",
    "\n"
   ]
  },
  {
   "cell_type": "code",
   "execution_count": 4,
   "id": "ab07e445",
   "metadata": {},
   "outputs": [
    {
     "name": "stdout",
     "output_type": "stream",
     "text": [
      "x is equal to five\n"
     ]
    }
   ],
   "source": [
    "x = 5\n",
    "if x <5:\n",
    "    print('x is samller than 5')\n",
    "elif x == 5:\n",
    "    print('x is equal to five')\n",
    "else :\n",
    "    \n",
    "    print('x larger than 5')"
   ]
  },
  {
   "cell_type": "code",
   "execution_count": 7,
   "id": "877893d4",
   "metadata": {},
   "outputs": [
    {
     "name": "stdout",
     "output_type": "stream",
     "text": [
      "{}\n"
     ]
    }
   ],
   "source": [
    "mydict = {\n",
    "    \"name\" : \"misbah\",\n",
    "\"lastname\" : \"khan\",\n",
    "    \"age\"  : 20 \n",
    "}\n",
    "mydict.clear()\n",
    "print(mydict)"
   ]
  },
  {
   "cell_type": "code",
   "execution_count": 3,
   "id": "613b663e",
   "metadata": {},
   "outputs": [
    {
     "name": "stdout",
     "output_type": "stream",
     "text": [
      "{'name': 'misbah', 'lname': 'khan', 'age': 21}\n"
     ]
    }
   ],
   "source": [
    "mydict = {\n",
    "    \"name\"  : \"misbah\",\n",
    "    \"lname\" : \"khan\",\n",
    "     \"age\"  : 21\n",
    "}\n",
    "    \n",
    "x = mydict.copy()\n",
    "print(x)\n"
   ]
  },
  {
   "cell_type": "code",
   "execution_count": null,
   "id": "3a39d8df",
   "metadata": {},
   "outputs": [],
   "source": []
  },
  {
   "cell_type": "code",
   "execution_count": 28,
   "id": "8f00fd71",
   "metadata": {},
   "outputs": [
    {
     "name": "stdout",
     "output_type": "stream",
     "text": [
      "[{'year': 2001}, {'year': 2002}, {'year': 2003}]\n"
     ]
    }
   ],
   "source": [
    "l =[{\"year\":2001},{\"year\":2002},{\"year\":2003},{\"year\":2001}]\n",
    "a = set()\n",
    "b = []\n",
    "for i in l:\n",
    "    c = tuple(i.items())\n",
    "    if c not in a:\n",
    "        a.add(c)\n",
    "        b.append(i)\n",
    "print(b)\n",
    "    \n",
    "    \n"
   ]
  },
  {
   "cell_type": "code",
   "execution_count": null,
   "id": "2cd718a8",
   "metadata": {},
   "outputs": [],
   "source": []
  },
  {
   "cell_type": "code",
   "execution_count": null,
   "id": "afca5ab2",
   "metadata": {},
   "outputs": [],
   "source": [
    "a = [3,9,5,4,1]\n",
    "b = []\n",
    "for i in a:\n",
    "    while i > 0:\n",
    "        a[i]"
   ]
  },
  {
   "cell_type": "code",
   "execution_count": 13,
   "id": "0b3cbe8b",
   "metadata": {},
   "outputs": [
    {
     "name": "stdout",
     "output_type": "stream",
     "text": [
      "6\n"
     ]
    }
   ],
   "source": [
    "y = {\n",
    "    \"a\":2,\n",
    "    \"b\":3,\n",
    "    \"c\":6\n",
    "}\n",
    "# x = y.get(\"c\")\n",
    "# print(x)\n",
    "print(y.get(\"c\"))"
   ]
  },
  {
   "cell_type": "code",
   "execution_count": 8,
   "id": "2fd563ec",
   "metadata": {},
   "outputs": [
    {
     "name": "stdout",
     "output_type": "stream",
     "text": [
      "{'key1': 0, 'key2': 0, 'key3': 0}\n"
     ]
    }
   ],
   "source": [
    "x =('key1','key2','key3')\n",
    "y = 0\n",
    "mydict=dict.fromkeys(x,y)\n",
    "print(mydict)\n",
    "    "
   ]
  },
  {
   "cell_type": "code",
   "execution_count": 9,
   "id": "604cf7b3",
   "metadata": {},
   "outputs": [
    {
     "name": "stdout",
     "output_type": "stream",
     "text": [
      "dict_items([('a', 4), ('b', 5), ('c', 7)])\n"
     ]
    }
   ],
   "source": [
    "x = {\n",
    "    \"a\":4,\n",
    "    \"b\":5,\n",
    "    \"c\":7\n",
    "    \n",
    "}\n",
    "y = x.items()\n",
    "print(y)"
   ]
  },
  {
   "cell_type": "code",
   "execution_count": 12,
   "id": "3f547436",
   "metadata": {},
   "outputs": [
    {
     "name": "stdout",
     "output_type": "stream",
     "text": [
      "dict_keys(['a', 'b', 'c', 'g'])\n"
     ]
    }
   ],
   "source": [
    "x = {\n",
    "    \"a\":4,\n",
    "    \"b\":5,\n",
    "    \"c\":7\n",
    "    \n",
    "}\n",
    "y = x.keys()\n",
    "x[\"g\"] = 10\n",
    "print(y)\n"
   ]
  },
  {
   "cell_type": "code",
   "execution_count": 15,
   "id": "97dc5a16",
   "metadata": {},
   "outputs": [
    {
     "name": "stdout",
     "output_type": "stream",
     "text": [
      "dict_values([4, 5, 7])\n"
     ]
    }
   ],
   "source": [
    "x = {\n",
    "    \"a\":4,\n",
    "    \"b\":5,\n",
    "    \"c\":7\n",
    "    \n",
    "}\n",
    "y = x.values()\n",
    "print(y)"
   ]
  },
  {
   "cell_type": "code",
   "execution_count": 20,
   "id": "307c9972",
   "metadata": {},
   "outputs": [
    {
     "name": "stdout",
     "output_type": "stream",
     "text": [
      "{'a': 4, 'b': 5, 'c': 7, 'd': 9}\n"
     ]
    }
   ],
   "source": [
    "x = {\n",
    "    \"a\":4,\n",
    "    \"b\":5,\n",
    "    \"c\":7\n",
    "    \n",
    "}\n",
    "x.update({\"d\":9})\n",
    "print(x)"
   ]
  },
  {
   "cell_type": "code",
   "execution_count": 4,
   "id": "44c644d7",
   "metadata": {},
   "outputs": [
    {
     "name": "stdout",
     "output_type": "stream",
     "text": [
      "4\n"
     ]
    }
   ],
   "source": [
    "x = {\n",
    "    \"a\":4,\n",
    "    \"b\":5,\n",
    "    \"c\":7\n",
    "    \n",
    "}\n",
    "y = x.setdefault(\"a\")\n",
    "print(y)"
   ]
  },
  {
   "cell_type": "code",
   "execution_count": 1,
   "id": "54bc4082",
   "metadata": {},
   "outputs": [
    {
     "name": "stdout",
     "output_type": "stream",
     "text": [
      "['a', 'b', 'c']\n"
     ]
    }
   ],
   "source": [
    "mylist = [\"a\",\"b\",\"c\",\"a\",\"b\",\"c\"]\n",
    "mylist = list(dict.fromkeys(mylist))\n",
    "print(mylist)"
   ]
  },
  {
   "cell_type": "code",
   "execution_count": 10,
   "id": "0ff9291f",
   "metadata": {},
   "outputs": [
    {
     "name": "stdout",
     "output_type": "stream",
     "text": [
      "None\n"
     ]
    }
   ],
   "source": [
    "a = {\"a\":1,\"b\":2,\"c\":3}\n",
    "print(a.get(\"d\"))"
   ]
  },
  {
   "cell_type": "code",
   "execution_count": 9,
   "id": "84ddcf06",
   "metadata": {},
   "outputs": [
    {
     "ename": "KeyError",
     "evalue": "'e'",
     "output_type": "error",
     "traceback": [
      "\u001b[1;31m---------------------------------------------------------------------------\u001b[0m",
      "\u001b[1;31mKeyError\u001b[0m                                  Traceback (most recent call last)",
      "Cell \u001b[1;32mIn [9], line 2\u001b[0m\n\u001b[0;32m      1\u001b[0m x \u001b[38;5;241m=\u001b[39m {\u001b[38;5;124m\"\u001b[39m\u001b[38;5;124ma\u001b[39m\u001b[38;5;124m\"\u001b[39m:\u001b[38;5;241m1\u001b[39m,\u001b[38;5;124m\"\u001b[39m\u001b[38;5;124mb\u001b[39m\u001b[38;5;124m\"\u001b[39m:\u001b[38;5;241m2\u001b[39m,\u001b[38;5;124m\"\u001b[39m\u001b[38;5;124mc\u001b[39m\u001b[38;5;124m\"\u001b[39m:\u001b[38;5;241m3\u001b[39m}\n\u001b[1;32m----> 2\u001b[0m \u001b[38;5;28mprint\u001b[39m(x[\u001b[38;5;124m\"\u001b[39m\u001b[38;5;124me\u001b[39m\u001b[38;5;124m\"\u001b[39m])\n",
      "\u001b[1;31mKeyError\u001b[0m: 'e'"
     ]
    }
   ],
   "source": [
    "x = {\"a\":1,\"b\":2,\"c\":3}\n",
    "print(x[\"e\"])"
   ]
  },
  {
   "cell_type": "code",
   "execution_count": 12,
   "id": "43a777b0",
   "metadata": {},
   "outputs": [
    {
     "name": "stdout",
     "output_type": "stream",
     "text": [
      "1\n",
      "{'b': 3, 'c': 4}\n",
      "{'b': 3, 'c': 4, 'a': 1}\n"
     ]
    }
   ],
   "source": [
    "dict1 = {\"a\":1 ,\"b\":3 , \"c\":4}\n",
    "x = dict1.pop('a')\n",
    "print(x)\n",
    "print(dict1)\n",
    "dict1.update({'a':1})\n",
    "print(dict1)"
   ]
  },
  {
   "cell_type": "code",
   "execution_count": 28,
   "id": "a93d0007",
   "metadata": {},
   "outputs": [
    {
     "name": "stdout",
     "output_type": "stream",
     "text": [
      "{'misbah': 38, 'afreen': 48, 'zikra': 30}\n"
     ]
    }
   ],
   "source": [
    "dict1 = {\"misbah\":38, \"afreen\":48, \"zikra\":30}\n",
    "dict2 = {k :v for (k,v)in dict1.items() if v %2==0}\n",
    "print(dict2)"
   ]
  },
  {
   "cell_type": "code",
   "execution_count": null,
   "id": "1de51c64",
   "metadata": {},
   "outputs": [],
   "source": []
  }
 ],
 "metadata": {
  "kernelspec": {
   "display_name": "Python 3 (ipykernel)",
   "language": "python",
   "name": "python3"
  },
  "language_info": {
   "codemirror_mode": {
    "name": "ipython",
    "version": 3
   },
   "file_extension": ".py",
   "mimetype": "text/x-python",
   "name": "python",
   "nbconvert_exporter": "python",
   "pygments_lexer": "ipython3",
   "version": "3.10.7"
  }
 },
 "nbformat": 4,
 "nbformat_minor": 5
}
