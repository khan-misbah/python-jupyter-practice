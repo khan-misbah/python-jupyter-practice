{
 "cells": [
  {
   "cell_type": "code",
   "execution_count": 2,
   "id": "9bab4bea",
   "metadata": {},
   "outputs": [
    {
     "name": "stdout",
     "output_type": "stream",
     "text": [
      "my python page\n",
      "this is myb first code\n"
     ]
    }
   ],
   "source": [
    "def my_function():\n",
    "    print(\"my python page\")\n",
    "    print(\"this is my first code\")\n",
    "my_function()    \n",
    "    \n"
   ]
  },
  {
   "cell_type": "code",
   "execution_count": null,
   "id": "7cc6ecb1",
   "metadata": {},
   "outputs": [],
   "source": []
  },
  {
   "cell_type": "code",
   "execution_count": 15,
   "id": "4c9628d4",
   "metadata": {},
   "outputs": [
    {
     "name": "stdout",
     "output_type": "stream",
     "text": [
      "nida age 20\n",
      "anjum age 20\n",
      "afreen age 20\n"
     ]
    }
   ],
   "source": [
    "def my_function(fname):\n",
    "    print(fname  + \" \" + \"age\" + \" \" + \"20\")\n",
    "my_function(\"nida\")\n",
    "my_function(\"anjum\")\n",
    "my_function(\"afreen\")\n",
    "    "
   ]
  },
  {
   "cell_type": "code",
   "execution_count": 19,
   "id": "1605e814",
   "metadata": {},
   "outputs": [
    {
     "name": "stdout",
     "output_type": "stream",
     "text": [
      "this is blue\n",
      "this is black\n",
      "this is white\n",
      "this is red\n"
     ]
    }
   ],
   "source": [
    "def my_function(colors = \"red\"):\n",
    "    print(\"this is\" + \" \" + colors)\n",
    "my_function(\"blue\")\n",
    "my_function(\"black\")\n",
    "my_function(\"white\")\n",
    "my_function()\n",
    "    "
   ]
  },
  {
   "cell_type": "code",
   "execution_count": 22,
   "id": "9d48c9a1",
   "metadata": {},
   "outputs": [
    {
     "name": "stdout",
     "output_type": "stream",
     "text": [
      "pune\n",
      "mumbai\n",
      "kolkata\n",
      "gujrat\n"
     ]
    }
   ],
   "source": [
    "def my_function(city):\n",
    "    for x in city:\n",
    "        print(x)\n",
    "        \n",
    "newlist = [\"pune\",\"mumbai\",\"kolkata\",\"gujrat\"]   \n",
    "\n",
    "my_function(newlist)"
   ]
  },
  {
   "cell_type": "code",
   "execution_count": null,
   "id": "a2c6034a",
   "metadata": {},
   "outputs": [],
   "source": []
  }
 ],
 "metadata": {
  "kernelspec": {
   "display_name": "Python 3 (ipykernel)",
   "language": "python",
   "name": "python3"
  },
  "language_info": {
   "codemirror_mode": {
    "name": "ipython",
    "version": 3
   },
   "file_extension": ".py",
   "mimetype": "text/x-python",
   "name": "python",
   "nbconvert_exporter": "python",
   "pygments_lexer": "ipython3",
   "version": "3.10.7"
  }
 },
 "nbformat": 4,
 "nbformat_minor": 5
}
