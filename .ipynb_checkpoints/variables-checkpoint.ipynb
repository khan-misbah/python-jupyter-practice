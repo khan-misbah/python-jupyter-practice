{
 "cells": [
  {
   "cell_type": "markdown",
   "id": "b66e0286",
   "metadata": {},
   "source": [
    "#  variables practice"
   ]
  },
  {
   "cell_type": "code",
   "execution_count": 10,
   "id": "813cde56",
   "metadata": {},
   "outputs": [
    {
     "name": "stdout",
     "output_type": "stream",
     "text": [
      "red\n",
      "blue\n",
      "black\n"
     ]
    }
   ],
   "source": [
    "x , y ,z = \"red\", \"blue\", \"black\"\n",
    "print (x)\n",
    "print(y)\n",
    "print(z)"
   ]
  },
  {
   "cell_type": "code",
   "execution_count": 11,
   "id": "516f8fbd",
   "metadata": {},
   "outputs": [
    {
     "name": "stdout",
     "output_type": "stream",
     "text": [
      "30\n"
     ]
    }
   ],
   "source": [
    "x = 10\n",
    "y = 20\n",
    "print(x + y)"
   ]
  },
  {
   "cell_type": "code",
   "execution_count": 13,
   "id": "60ee9bad",
   "metadata": {},
   "outputs": [
    {
     "name": "stdout",
     "output_type": "stream",
     "text": [
      "nida 20\n"
     ]
    }
   ],
   "source": [
    "name = \"nida\"\n",
    "age = 20\n",
    "print(name,age)"
   ]
  },
  {
   "cell_type": "code",
   "execution_count": 4,
   "id": "75a244b4",
   "metadata": {},
   "outputs": [
    {
     "name": "stdout",
     "output_type": "stream",
     "text": [
      "food is fantastic\n",
      "food is awsome\n"
     ]
    }
   ],
   "source": [
    "x = \"awsome\"\n",
    "def myfunc():\n",
    "  x = \"fantastic\"\n",
    "  print(\"food is \" + x)\n",
    "\n",
    "myfunc()\n",
    "\n",
    "print(\"food is \" + x)\n"
   ]
  },
  {
   "cell_type": "code",
   "execution_count": 28,
   "id": "e888aed5",
   "metadata": {},
   "outputs": [
    {
     "name": "stdout",
     "output_type": "stream",
     "text": [
      "good morning\n"
     ]
    }
   ],
   "source": [
    "def myfunc():\n",
    "    global x\n",
    "    x = \"morning\"\n",
    "    \n",
    "myfunc()\n",
    "\n",
    "print(\"good\"+ \" \"+ x)\n"
   ]
  },
  {
   "cell_type": "code",
   "execution_count": 29,
   "id": "ae481fa6",
   "metadata": {},
   "outputs": [
    {
     "name": "stdout",
     "output_type": "stream",
     "text": [
      "('apple', 'banana', 'charry')\n"
     ]
    }
   ],
   "source": [
    "A = \"apple\",\"banana\", \"charry\"\n",
    "print(A)"
   ]
  },
  {
   "cell_type": "code",
   "execution_count": null,
   "id": "496efb6e",
   "metadata": {},
   "outputs": [],
   "source": [
    "\n"
   ]
  },
  {
   "cell_type": "code",
   "execution_count": null,
   "id": "c76150eb",
   "metadata": {},
   "outputs": [],
   "source": []
  },
  {
   "cell_type": "code",
   "execution_count": null,
   "id": "85d34955",
   "metadata": {},
   "outputs": [],
   "source": []
  },
  {
   "cell_type": "code",
   "execution_count": null,
   "id": "d65475e9",
   "metadata": {},
   "outputs": [],
   "source": []
  }
 ],
 "metadata": {
  "kernelspec": {
   "display_name": "Python 3 (ipykernel)",
   "language": "python",
   "name": "python3"
  },
  "language_info": {
   "codemirror_mode": {
    "name": "ipython",
    "version": 3
   },
   "file_extension": ".py",
   "mimetype": "text/x-python",
   "name": "python",
   "nbconvert_exporter": "python",
   "pygments_lexer": "ipython3",
   "version": "3.10.7"
  }
 },
 "nbformat": 4,
 "nbformat_minor": 5
}
