{
 "cells": [
  {
   "cell_type": "code",
   "execution_count": 11,
   "id": "7e79b627",
   "metadata": {},
   "outputs": [
    {
     "name": "stdout",
     "output_type": "stream",
     "text": [
      "ktm black\n",
      "max speed is 300\n",
      "chnage 4 gear\n",
      "scorpio white\n"
     ]
    }
   ],
   "source": [
    "class Car:\n",
    "    def __init__(self,name,color):\n",
    "        self.name = name\n",
    "        self.color= color\n",
    "    def show(self):\n",
    "        print(self.name,self.color)\n",
    "        \n",
    "    def max_speed(self):\n",
    "        print(\"max speed is 250\")\n",
    "        \n",
    "    def change_gear(self):\n",
    "        print(\"change 7 gear\")\n",
    "\n",
    "class Bike(Car):\n",
    "    def max_speed(self):\n",
    "        print(\"max speed is 300\")\n",
    "     \n",
    "    def change_gear(self):\n",
    "        print(\"chnage 4 gear\")\n",
    "     \n",
    "obj1 =  Bike(\"ktm\",\"black\")\n",
    "obj1.show()\n",
    "obj1.max_speed()\n",
    "obj1.change_gear()\n",
    "\n",
    "per = Car(\"scorpio\",\"white\")\n",
    "per.show()\n",
    "\n"
   ]
  },
  {
   "cell_type": "markdown",
   "id": "4842e7d7",
   "metadata": {},
   "source": [
    "# operator overloading"
   ]
  },
  {
   "cell_type": "code",
   "execution_count": 3,
   "id": "c02eca5e",
   "metadata": {},
   "outputs": [
    {
     "name": "stdout",
     "output_type": "stream",
     "text": [
      "Totle num of :  600\n"
     ]
    }
   ],
   "source": [
    "class Book:\n",
    "    def __init__(self,pages):\n",
    "        self.pages = pages\n",
    "    \n",
    "    def __add__(self,other):\n",
    "        return self.pages + other.pages\n",
    "        \n",
    "b1 = Book(250)\n",
    "b2 = Book(350)\n",
    "\n",
    "print(\"Totle num of : \", b1 + b2)"
   ]
  },
  {
   "cell_type": "code",
   "execution_count": 7,
   "id": "724c0c57",
   "metadata": {},
   "outputs": [
    {
     "name": "stdout",
     "output_type": "stream",
     "text": [
      "the main salary is : 10000\n"
     ]
    }
   ],
   "source": [
    "class Empolye:\n",
    "    def __init__(self,salary):\n",
    "        self.salary = salary\n",
    "        \n",
    "    def __mul__(self,other):\n",
    "        return self.salary + other.salary\n",
    "    \n",
    "A1 = Empolye(7000)\n",
    "A2 = Empolye(3000)\n",
    "\n",
    "print(\"the main salary is :\" , A1 * A2)"
   ]
  },
  {
   "cell_type": "code",
   "execution_count": 22,
   "id": "c0e6477e",
   "metadata": {},
   "outputs": [
    {
     "name": "stdout",
     "output_type": "stream",
     "text": [
      "full marks of stud :  10\n"
     ]
    }
   ],
   "source": [
    "class Student:\n",
    "    def __init__(self,marks):\n",
    "        self.marks = marks\n",
    "        \n",
    "    def __mod__(self,other):\n",
    "        return self.marks % other.marks\n",
    "    \n",
    "obj = Student(50)\n",
    "obj1 = Student(40)\n",
    "\n",
    "print(\"full marks of stud : \", obj % obj1)"
   ]
  },
  {
   "cell_type": "code",
   "execution_count": null,
   "id": "daca372b",
   "metadata": {},
   "outputs": [],
   "source": []
  },
  {
   "cell_type": "code",
   "execution_count": null,
   "id": "fde19d4c",
   "metadata": {},
   "outputs": [],
   "source": []
  },
  {
   "cell_type": "code",
   "execution_count": 2,
   "id": "9abaf907",
   "metadata": {},
   "outputs": [
    {
     "ename": "SyntaxError",
     "evalue": "invalid syntax (2624159718.py, line 9)",
     "output_type": "error",
     "traceback": [
      "\u001b[1;36m  Cell \u001b[1;32mIn [2], line 9\u001b[1;36m\u001b[0m\n\u001b[1;33m    def Timesheet:\u001b[0m\n\u001b[1;37m                 ^\u001b[0m\n\u001b[1;31mSyntaxError\u001b[0m\u001b[1;31m:\u001b[0m invalid syntax\n"
     ]
    }
   ],
   "source": [
    "class Empolye:\n",
    "    def __init__(self,name,salary):\n",
    "        self.name = name \n",
    "        self.salary = salary\n",
    "    def __mul__(self, timesheet):\n",
    "        print(timesheet.day)\n",
    "        return self.salary * timesheet.days\n",
    "    \n",
    "def Timesheet:\n",
    "    def __init__(self,name,day):\n",
    "        self.name = name \n",
    "        self.day = day\n",
    "        \n",
    "emp = Empolye= (\"jessa\",9000)\n",
    "\n",
    "timesheet = Timesheet(\"jessa\",100)\n",
    "\n",
    "print(emp * timesheet)"
   ]
  },
  {
   "cell_type": "markdown",
   "id": "5ae36295",
   "metadata": {},
   "source": [
    "# Method Overriding \n"
   ]
  },
  {
   "cell_type": "code",
   "execution_count": 3,
   "id": "bba3bfa4",
   "metadata": {},
   "outputs": [
    {
     "name": "stdout",
     "output_type": "stream",
     "text": [
      "misbah 21\n",
      "this is a student\n"
     ]
    }
   ],
   "source": [
    "#Method Overriding \n",
    "\n",
    "class Teacher:\n",
    "    def __init__(self,name,age):\n",
    "        self.name = name\n",
    "        self.age = age\n",
    "    def show(self):\n",
    "        print(self.name, self.age)\n",
    "    def person1(self):\n",
    "        print(\"this is a teacher\")\n",
    "class Student(Teacher):\n",
    "    def person1(self):\n",
    "        print(\"this is a student\")\n",
    "\n",
    "obj =Student (\"misbah\",21)\n",
    "obj.show()\n",
    "obj.person1()"
   ]
  },
  {
   "cell_type": "code",
   "execution_count": 6,
   "id": "bef678cc",
   "metadata": {},
   "outputs": [
    {
     "name": "stdout",
     "output_type": "stream",
     "text": [
      "aqsa 21\n",
      "this stud doing study\n"
     ]
    }
   ],
   "source": [
    "class Person:\n",
    "    def __init__(self,name,age):\n",
    "        self.name = name\n",
    "        self.age = age\n",
    "    def show(self):\n",
    "        print(self.name,self.age)\n",
    "    def work(self):\n",
    "        print(\"this person doing work\")\n",
    "class Student(Person):\n",
    "    def work(self):\n",
    "        print(\"this stud doing study\")\n",
    "        \n",
    "per = Student(\"aqsa\",21)\n",
    "\n",
    "per.show()\n",
    "per.work()"
   ]
  },
  {
   "cell_type": "markdown",
   "id": "4d829d15",
   "metadata": {},
   "source": [
    "# polymorphism use class method\n"
   ]
  },
  {
   "cell_type": "code",
   "execution_count": 34,
   "id": "1e28cb80",
   "metadata": {},
   "outputs": [
    {
     "name": "stdout",
     "output_type": "stream",
     "text": [
      "name of dog doggy\n",
      "age of dog 6\n",
      "name of cat kitty\n",
      "age of cat 7\n"
     ]
    }
   ],
   "source": [
    "# polymorphism use class method\n",
    "\n",
    "class Dog:\n",
    "    def __init__(self,name,age):\n",
    "        self.name = name\n",
    "        self.age = age\n",
    "    def Name(self):\n",
    "        print(\"name of dog\",self.name)\n",
    "    def Age(self):\n",
    "        print(\"age of dog\" , self.age)\n",
    "class Cat:\n",
    "    def __init__(self,name,age):\n",
    "        self.name = name\n",
    "        self.age = age\n",
    "    def Name(self):\n",
    "        print(\"name of cat\", self.name)\n",
    "    def Age(self):\n",
    "        print(\"age of cat\", self.age)\n",
    "        \n",
    "dog = Dog(\"doggy\",6)  \n",
    "cat = Cat (\"kitty\",7)\n",
    "for animal in (dog,cat):\n",
    "    animal.Name()\n",
    "    animal.Age()\n",
    "\n",
    "        "
   ]
  },
  {
   "cell_type": "code",
   "execution_count": 19,
   "id": "6b03ce05",
   "metadata": {},
   "outputs": [
    {
     "name": "stdout",
     "output_type": "stream",
     "text": [
      "the car name: BMW\n",
      "the price : 8000\n",
      "the bike name : ktm\n",
      "the price : 7000\n"
     ]
    }
   ],
   "source": [
    "class Car:\n",
    "    def __init__(self,name,price):\n",
    "        self.name = name\n",
    "        self.price = price\n",
    "    def Name(self):\n",
    "        print(\"the car name:\" , self.name)\n",
    "    def Price(self):\n",
    "        print(\"the price :\", self.price)\n",
    "class Bike:\n",
    "    def __init__(self,name,price):\n",
    "        self.name = name\n",
    "        self.price = price\n",
    "    def Name(self):\n",
    "        print(\"the bike name :\", self.name)\n",
    "    def Price(self):\n",
    "        print(\"the price :\" , self.price)\n",
    "        \n",
    "emp = Car(\"BMW\",8000)\n",
    "ei = Bike(\"ktm\",7000)\n",
    "for main in (emp,ei):\n",
    "    main.Name()\n",
    "    main.Price()\n"
   ]
  },
  {
   "cell_type": "markdown",
   "id": "075d87a0",
   "metadata": {},
   "source": [
    "# polmorphism with function\n"
   ]
  },
  {
   "cell_type": "code",
   "execution_count": null,
   "id": "0ee874c6",
   "metadata": {},
   "outputs": [],
   "source": [
    "#polmorphism with function\n",
    "\n",
    "\n",
    "class Dog:\n",
    "    def __init__(self,name,age):\n",
    "        self.name = name\n",
    "        self.age = age\n",
    "    def Name(self):\n",
    "        print(\"name of dog\",self.name)\n",
    "    def Age(self):\n",
    "        print(\"age of dog\" , self.age)\n",
    "class Cat:\n",
    "    def __init__(self,name,age):\n",
    "        self.name = name\n",
    "        self.age = age\n",
    "    def Name(self):\n",
    "        print(\"name of cat\", self.name)\n",
    "    def Age(self):\n",
    "        print(\"age of cat\", self.age)\n",
    "def animal(obj):\n",
    "    obj.Name()\n",
    "    obj.Age()\n",
    "    \n",
    "dog = Dog(\"abc\",6)\n",
    "cat = Cat(\"xyz\",7)\n",
    "\n",
    "animal(dog)\n",
    "animal(cat)"
   ]
  },
  {
   "cell_type": "code",
   "execution_count": 21,
   "id": "4f5f2942",
   "metadata": {},
   "outputs": [
    {
     "name": "stdout",
     "output_type": "stream",
     "text": [
      "name : misbah\n",
      "age : 21\n",
      "name : aqsa\n",
      "age : 22\n"
     ]
    }
   ],
   "source": [
    "class Person1:\n",
    "    def __init__(self,name,age):\n",
    "        self.name = name\n",
    "        self.age = age\n",
    "    def Name(self):\n",
    "        print(\"name :\", self.name)\n",
    "    def Age(self):\n",
    "        print(\"age :\", self.age)\n",
    "class Person2:\n",
    "    def __init__(self,name,age):\n",
    "        self.name = name\n",
    "        self.age = age\n",
    "    def Name(self):\n",
    "        print(\"name :\", self.name)\n",
    "    def Age(self):\n",
    "        print(\"age :\", self.age)\n",
    "        \n",
    "def my_func(obj):\n",
    "    obj.Name()\n",
    "    obj.Age()\n",
    "emp1 = Person1(\"misbah\",21)\n",
    "emp2 = Person2(\"aqsa\",22)\n",
    "\n",
    "my_func(emp1)\n",
    "my_func(emp2)\n",
    "   "
   ]
  },
  {
   "cell_type": "markdown",
   "id": "903cc91a",
   "metadata": {},
   "source": [
    "# Method Overloading\n"
   ]
  },
  {
   "cell_type": "code",
   "execution_count": 1,
   "id": "44cc75bc",
   "metadata": {},
   "outputs": [
    {
     "ename": "TypeError",
     "evalue": "add() missing 1 required positional argument: 'c'",
     "output_type": "error",
     "traceback": [
      "\u001b[1;31m---------------------------------------------------------------------------\u001b[0m",
      "\u001b[1;31mTypeError\u001b[0m                                 Traceback (most recent call last)",
      "Cell \u001b[1;32mIn [1], line 7\u001b[0m\n\u001b[0;32m      5\u001b[0m     d\u001b[38;5;241m=\u001b[39ma\u001b[38;5;241m+\u001b[39mb\u001b[38;5;241m+\u001b[39mc\n\u001b[0;32m      6\u001b[0m     \u001b[38;5;28mprint\u001b[39m(d)                               \u001b[38;5;66;03m#the missing argument Error called overloding\u001b[39;00m\n\u001b[1;32m----> 7\u001b[0m add(\u001b[38;5;241m4\u001b[39m,\u001b[38;5;241m5\u001b[39m)\n",
      "\u001b[1;31mTypeError\u001b[0m: add() missing 1 required positional argument: 'c'"
     ]
    }
   ],
   "source": [
    "def add(a,b):\n",
    "    c=a+b\n",
    "    print(c)\n",
    "def add(a,b,c):\n",
    "    d=a+b+c\n",
    "    print(d)                               #the missing argument Error called overloding\n",
    "add(4,5)"
   ]
  },
  {
   "cell_type": "code",
   "execution_count": 11,
   "id": "e1d0c159",
   "metadata": {},
   "outputs": [
    {
     "name": "stdout",
     "output_type": "stream",
     "text": [
      "12\n"
     ]
    }
   ],
   "source": [
    "a=5\n",
    "a=10\n",
    "b=2\n",
    "print(a+b)"
   ]
  },
  {
   "cell_type": "code",
   "execution_count": null,
   "id": "3bc0fe19",
   "metadata": {},
   "outputs": [],
   "source": []
  }
 ],
 "metadata": {
  "kernelspec": {
   "display_name": "Python 3 (ipykernel)",
   "language": "python",
   "name": "python3"
  },
  "language_info": {
   "codemirror_mode": {
    "name": "ipython",
    "version": 3
   },
   "file_extension": ".py",
   "mimetype": "text/x-python",
   "name": "python",
   "nbconvert_exporter": "python",
   "pygments_lexer": "ipython3",
   "version": "3.10.7"
  }
 },
 "nbformat": 4,
 "nbformat_minor": 5
}
