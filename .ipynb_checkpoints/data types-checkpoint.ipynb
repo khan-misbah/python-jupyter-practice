{
 "cells": [
  {
   "cell_type": "code",
   "execution_count": 3,
   "id": "46c5aa97",
   "metadata": {},
   "outputs": [
    {
     "name": "stdout",
     "output_type": "stream",
     "text": [
      "Hello world\n",
      "<class 'str'>\n"
     ]
    }
   ],
   "source": [
    "A = \"Hello world\"\n",
    "print(A)\n",
    "print(type(A))"
   ]
  },
  {
   "cell_type": "code",
   "execution_count": 5,
   "id": "00b28aae",
   "metadata": {},
   "outputs": [
    {
     "name": "stdout",
     "output_type": "stream",
     "text": [
      "30\n",
      "<class 'int'>\n"
     ]
    }
   ],
   "source": [
    "B = 30\n",
    "print(B)\n",
    "print(type(B))"
   ]
  },
  {
   "cell_type": "code",
   "execution_count": 6,
   "id": "d8ac517b",
   "metadata": {},
   "outputs": [
    {
     "name": "stdout",
     "output_type": "stream",
     "text": [
      "30.4\n",
      "<class 'float'>\n"
     ]
    }
   ],
   "source": [
    "x = 30.4\n",
    "print(x)\n",
    "print(type(x))"
   ]
  },
  {
   "cell_type": "code",
   "execution_count": 8,
   "id": "a752e3d9",
   "metadata": {},
   "outputs": [
    {
     "name": "stdout",
     "output_type": "stream",
     "text": [
      "40j\n",
      "<class 'complex'>\n"
     ]
    }
   ],
   "source": [
    "z = 40j\n",
    "print(z)\n",
    "print(type(z))"
   ]
  },
  {
   "cell_type": "code",
   "execution_count": 9,
   "id": "de8b5e64",
   "metadata": {},
   "outputs": [
    {
     "name": "stdout",
     "output_type": "stream",
     "text": [
      "['red', 'black', 'gray']\n",
      "<class 'list'>\n"
     ]
    }
   ],
   "source": [
    "y = [\"red\",\"black\",\"gray\"]\n",
    "print(y)\n",
    "print(type(y))"
   ]
  },
  {
   "cell_type": "code",
   "execution_count": 11,
   "id": "ab000755",
   "metadata": {},
   "outputs": [
    {
     "name": "stdout",
     "output_type": "stream",
     "text": [
      "('nida', 'aqsa', 'anjum')\n",
      "<class 'tuple'>\n"
     ]
    }
   ],
   "source": [
    "name = (\"nida\", \"aqsa\",\"anjum\")\n",
    "print(name)\n",
    "print(type(name))"
   ]
  },
  {
   "cell_type": "code",
   "execution_count": 14,
   "id": "3c292f0e",
   "metadata": {},
   "outputs": [
    {
     "name": "stdout",
     "output_type": "stream",
     "text": [
      "range(0, 8, 7)\n",
      "<class 'range'>\n"
     ]
    }
   ],
   "source": [
    "R =range(0,8,7,)\n",
    "print(R)\n",
    "print(type(R))"
   ]
  },
  {
   "cell_type": "code",
   "execution_count": 20,
   "id": "0b44c6af",
   "metadata": {},
   "outputs": [
    {
     "name": "stdout",
     "output_type": "stream",
     "text": [
      "{'name': 'affan', 'age': 20}\n"
     ]
    }
   ],
   "source": [
    "s= {\"name\" : \"affan\" ,\"age\" : 20}\n",
    "print(s)"
   ]
  },
  {
   "cell_type": "code",
   "execution_count": 23,
   "id": "3c2863b9",
   "metadata": {},
   "outputs": [
    {
     "name": "stdout",
     "output_type": "stream",
     "text": [
      "{'blue', 'white', 'green'}\n",
      "<class 'set'>\n"
     ]
    }
   ],
   "source": [
    "x = {\"blue\",\"white\", \"green\"}\n",
    "print(x)\n",
    "print(type(x))\n"
   ]
  },
  {
   "cell_type": "code",
   "execution_count": 27,
   "id": "5441cb42",
   "metadata": {},
   "outputs": [
    {
     "name": "stdout",
     "output_type": "stream",
     "text": [
      "frozenset({'color', 'place', 'text'})\n",
      "<class 'frozenset'>\n"
     ]
    }
   ],
   "source": [
    "a = frozenset({\"color\", \"place\",\"text\"})\n",
    "print(a)\n",
    "print(type(a))"
   ]
  },
  {
   "cell_type": "code",
   "execution_count": 28,
   "id": "3dff03b2",
   "metadata": {},
   "outputs": [
    {
     "name": "stdout",
     "output_type": "stream",
     "text": [
      "True\n",
      "<class 'bool'>\n"
     ]
    }
   ],
   "source": [
    "z = True\n",
    "print(z)\n",
    "print(type(z))"
   ]
  },
  {
   "cell_type": "code",
   "execution_count": null,
   "id": "4ede0212",
   "metadata": {},
   "outputs": [],
   "source": []
  }
 ],
 "metadata": {
  "kernelspec": {
   "display_name": "Python 3 (ipykernel)",
   "language": "python",
   "name": "python3"
  },
  "language_info": {
   "codemirror_mode": {
    "name": "ipython",
    "version": 3
   },
   "file_extension": ".py",
   "mimetype": "text/x-python",
   "name": "python",
   "nbconvert_exporter": "python",
   "pygments_lexer": "ipython3",
   "version": "3.10.7"
  }
 },
 "nbformat": 4,
 "nbformat_minor": 5
}
