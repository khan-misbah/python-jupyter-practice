{
 "cells": [
  {
   "cell_type": "code",
   "execution_count": 7,
   "id": "6ed6785a",
   "metadata": {},
   "outputs": [
    {
     "name": "stdout",
     "output_type": "stream",
     "text": [
      "[1, 3, 4, 6, 8, 9]\n"
     ]
    }
   ],
   "source": [
    "a = [4,3,1,6,8,9]\n",
    "for i in range(1,len(a)):\n",
    "    while a [i-1]>a[i]and i >0:    \n",
    "        a[i-1],a[i]=a[i],a[i-1]\n",
    "        i = i -1\n",
    "print(a)"
   ]
  },
  {
   "cell_type": "code",
   "execution_count": 10,
   "id": "7ab730fb",
   "metadata": {},
   "outputs": [
    {
     "name": "stdout",
     "output_type": "stream",
     "text": [
      "9\n"
     ]
    }
   ],
   "source": [
    "x = [5,2,3,5,6,9]\n",
    "for i in range(1,len(a)):\n",
    "    while a [i-1]>a[i]and i >0:\n",
    "        a[i-1],a[i] = a[i],a[i-1]\n",
    "        i = i-1\n",
    "print(a[-1])        \n",
    "        "
   ]
  },
  {
   "cell_type": "code",
   "execution_count": 20,
   "id": "087a2ee8",
   "metadata": {},
   "outputs": [
    {
     "name": "stdout",
     "output_type": "stream",
     "text": [
      "[2, 4, 6, 8]\n"
     ]
    }
   ],
   "source": [
    "def get_even(numbers):\n",
    "    even_nums = [num for num in numbers if not num % 2 ]\n",
    "    return even_nums\n",
    "\n",
    "b = get_even([2,4,6,8,7,3])\n",
    "print(b)"
   ]
  },
  {
   "cell_type": "code",
   "execution_count": 22,
   "id": "db253f5c",
   "metadata": {},
   "outputs": [
    {
     "name": "stdout",
     "output_type": "stream",
     "text": [
      "[3, 5, 9]\n"
     ]
    }
   ],
   "source": [
    "def get_odd(numbers):\n",
    "    odd_nums = [num for num in numbers if num % 2]\n",
    "    return odd_nums\n",
    "b = get_odd([3,5,6,8,2,9])\n",
    "print(b)"
   ]
  },
  {
   "cell_type": "code",
   "execution_count": 23,
   "id": "dfac681d",
   "metadata": {},
   "outputs": [
    {
     "name": "stdout",
     "output_type": "stream",
     "text": [
      "[2, 3, 4, 6, 7, 9]\n"
     ]
    }
   ],
   "source": [
    "a = [2,3,4,6,7,9]\n",
    "for i in range(1,len(a)):\n",
    "    while a[i-1]>a[i]and i > 0:\n",
    "        a[i-1],a[i] = a[i],a[i-1]\n",
    "        i = i-1\n",
    "print(a)        "
   ]
  },
  {
   "cell_type": "code",
   "execution_count": 31,
   "id": "9f469bea",
   "metadata": {},
   "outputs": [
    {
     "name": "stdout",
     "output_type": "stream",
     "text": [
      "['even', 'even', 'even', 'even', 'odd', 'odd']\n"
     ]
    }
   ],
   "source": [
    "def my_func(a):\n",
    "    for i in a:\n",
    "        if i % 2==0:\n",
    "            x.append(\"even\")\n",
    "        else:\n",
    "            x.append(\"odd\")\n",
    "x = []            \n",
    "b = [2,4,6,8,9,5]\n",
    "my_func(b)\n",
    "print(x)\n"
   ]
  },
  {
   "cell_type": "code",
   "execution_count": 34,
   "id": "d3957889",
   "metadata": {},
   "outputs": [
    {
     "name": "stdout",
     "output_type": "stream",
     "text": [
      "5 * 1 = 5\n",
      "5 * 2 = 10\n",
      "5 * 3 = 15\n",
      "5 * 4 = 20\n",
      "5 * 5 = 25\n",
      "5 * 6 = 30\n",
      "5 * 7 = 35\n",
      "5 * 8 = 40\n",
      "5 * 9 = 45\n",
      "5 * 10 = 50\n"
     ]
    }
   ],
   "source": [
    "def table(a):\n",
    "    for i in range(1,11):\n",
    "        b = a*i\n",
    "        print(a,'*',i,'=',b)\n",
    "table(5)        \n",
    "\n",
    "\n"
   ]
  },
  {
   "cell_type": "code",
   "execution_count": 36,
   "id": "33a367c5",
   "metadata": {},
   "outputs": [
    {
     "name": "stdout",
     "output_type": "stream",
     "text": [
      "['even', 'odd', 'even', 'odd', 'even', 'odd']\n"
     ]
    }
   ],
   "source": [
    "a = [2,3,4,5,8,9]\n",
    "b = [\"even\" if i %2==0 else \"odd\" for i in a]\n",
    "print(b)"
   ]
  },
  {
   "cell_type": "code",
   "execution_count": 37,
   "id": "122f38f4",
   "metadata": {},
   "outputs": [
    {
     "name": "stdout",
     "output_type": "stream",
     "text": [
      "['even', 'odd', 'even', 'odd', 'even', 'odd']\n"
     ]
    }
   ],
   "source": [
    "x = [5,9,3,6,2,8]\n",
    "y = [\"even\" if i % 2==0 else \"odd\" for i in a]\n",
    "print(b)"
   ]
  },
  {
   "cell_type": "code",
   "execution_count": 45,
   "id": "cdf0cf88",
   "metadata": {},
   "outputs": [
    {
     "name": "stdout",
     "output_type": "stream",
     "text": [
      "98\n"
     ]
    }
   ],
   "source": [
    "a =[43,56,98,70]\n",
    "b = 0\n",
    "for i in a:\n",
    "    if i >b:\n",
    "        b = i\n",
    "print(b)"
   ]
  },
  {
   "cell_type": "code",
   "execution_count": 47,
   "id": "47cee40c",
   "metadata": {},
   "outputs": [
    {
     "name": "stdout",
     "output_type": "stream",
     "text": [
      "90\n"
     ]
    }
   ],
   "source": [
    "x = [57,90,35,78]\n",
    "y = 0\n",
    "for i in x:\n",
    "    if i > y:\n",
    "        y = i\n",
    "print(y)        "
   ]
  },
  {
   "cell_type": "code",
   "execution_count": 50,
   "id": "354f1e4a",
   "metadata": {},
   "outputs": [
    {
     "name": "stdout",
     "output_type": "stream",
     "text": [
      "0.2\n"
     ]
    }
   ],
   "source": [
    "a = [23,0.2,1,4,6]\n",
    "b = 3\n",
    "for i in a:\n",
    "    if i <b:\n",
    "        b = i\n",
    "        print(b)"
   ]
  },
  {
   "cell_type": "code",
   "execution_count": 4,
   "id": "727c44a2",
   "metadata": {},
   "outputs": [
    {
     "name": "stdout",
     "output_type": "stream",
     "text": [
      "A\n",
      "this is capital\n"
     ]
    }
   ],
   "source": [
    "A = input(\"\")\n",
    "if A.isupper():\n",
    "    print(\"this is capital\")\n",
    "else:\n",
    "    print(\"this is small\")\n",
    "    \n"
   ]
  },
  {
   "cell_type": "code",
   "execution_count": 5,
   "id": "06d4a46c",
   "metadata": {},
   "outputs": [
    {
     "name": "stdout",
     "output_type": "stream",
     "text": [
      "1\n",
      "2\n",
      "3\n",
      "4\n",
      "5\n",
      "6\n",
      "7\n",
      "8\n",
      "9\n",
      "10\n"
     ]
    }
   ],
   "source": [
    "for i in range(1,11):\n",
    "    b = i\n",
    "    print(b)"
   ]
  },
  {
   "cell_type": "code",
   "execution_count": 2,
   "id": "1be6d85e",
   "metadata": {},
   "outputs": [
    {
     "name": "stdout",
     "output_type": "stream",
     "text": [
      "['red', 'blue', 'black', 'green']\n"
     ]
    }
   ],
   "source": [
    "a = [\"red\",\"blue\",\"black\"]\n",
    "a.append(\"green\")\n",
    "print(a)"
   ]
  },
  {
   "cell_type": "code",
   "execution_count": 3,
   "id": "f394dfc6",
   "metadata": {},
   "outputs": [
    {
     "name": "stdout",
     "output_type": "stream",
     "text": [
      "[8, 7, 6, 5, 4, 2]\n"
     ]
    }
   ],
   "source": [
    "a = [2,4,5,6,7,8]\n",
    "a.reverse()\n",
    "print(a)"
   ]
  },
  {
   "cell_type": "code",
   "execution_count": 4,
   "id": "e5516fd0",
   "metadata": {},
   "outputs": [
    {
     "name": "stdout",
     "output_type": "stream",
     "text": [
      "[1, 2, 4, 5, 7, 8]\n"
     ]
    }
   ],
   "source": [
    "a = [ 2,4,5,7,8,1]\n",
    "a.sort()\n",
    "print(a)"
   ]
  },
  {
   "cell_type": "code",
   "execution_count": 6,
   "id": "51660951",
   "metadata": {},
   "outputs": [
    {
     "name": "stdout",
     "output_type": "stream",
     "text": [
      "['red', 'blue', 'black', 1, 2, 3, 5]\n"
     ]
    }
   ],
   "source": [
    "a = [\"red\",\"blue\",\"black\"]\n",
    "b = [1,2,3,5]\n",
    "a.extend(b)\n",
    "print(a)"
   ]
  },
  {
   "cell_type": "code",
   "execution_count": 8,
   "id": "aec630d4",
   "metadata": {},
   "outputs": [
    {
     "name": "stdout",
     "output_type": "stream",
     "text": [
      "['misbah', 'aqsa', 'nida', 'sana']\n"
     ]
    }
   ],
   "source": [
    "x = [\"misbah\",\"nida\",\"sana\"]\n",
    "x.insert(1,\"aqsa\")\n",
    "print(x)"
   ]
  },
  {
   "cell_type": "code",
   "execution_count": 9,
   "id": "820322eb",
   "metadata": {},
   "outputs": [
    {
     "name": "stdout",
     "output_type": "stream",
     "text": [
      "['misbah', 'sana']\n"
     ]
    }
   ],
   "source": [
    "x = [\"misbah\",\"nida\",\"sana\"]\n",
    "x.remove(\"nida\")\n",
    "print(x)"
   ]
  },
  {
   "cell_type": "code",
   "execution_count": 10,
   "id": "96d1b0ba",
   "metadata": {},
   "outputs": [
    {
     "name": "stdout",
     "output_type": "stream",
     "text": [
      "['misbah', 'nida']\n"
     ]
    }
   ],
   "source": [
    "x = [\"misbah\",\"nida\",\"sana\"]\n",
    "x.pop()\n",
    "print(x)"
   ]
  },
  {
   "cell_type": "code",
   "execution_count": 31,
   "id": "48105430",
   "metadata": {},
   "outputs": [
    {
     "ename": "SyntaxError",
     "evalue": "cannot assign to subscript here. Maybe you meant '==' instead of '='? (1105597062.py, line 3)",
     "output_type": "error",
     "traceback": [
      "\u001b[1;36m  Cell \u001b[1;32mIn [31], line 3\u001b[1;36m\u001b[0m\n\u001b[1;33m    if a[i-1]=a[i]:\u001b[0m\n\u001b[1;37m       ^\u001b[0m\n\u001b[1;31mSyntaxError\u001b[0m\u001b[1;31m:\u001b[0m cannot assign to subscript here. Maybe you meant '==' instead of '='?\n"
     ]
    }
   ],
   "source": [
    "a = \"afreen\"\n",
    "for i in a:\n",
    "    if \n",
    "        print(a)\n",
    "    \n"
   ]
  },
  {
   "cell_type": "code",
   "execution_count": null,
   "id": "fb43da65",
   "metadata": {},
   "outputs": [],
   "source": []
  }
 ],
 "metadata": {
  "kernelspec": {
   "display_name": "Python 3 (ipykernel)",
   "language": "python",
   "name": "python3"
  },
  "language_info": {
   "codemirror_mode": {
    "name": "ipython",
    "version": 3
   },
   "file_extension": ".py",
   "mimetype": "text/x-python",
   "name": "python",
   "nbconvert_exporter": "python",
   "pygments_lexer": "ipython3",
   "version": "3.10.7"
  }
 },
 "nbformat": 4,
 "nbformat_minor": 5
}
